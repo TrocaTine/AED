{
 "cells": [
  {
   "cell_type": "markdown",
   "metadata": {},
   "source": [
    "## Importações"
   ]
  },
  {
   "cell_type": "code",
   "execution_count": 71,
   "metadata": {},
   "outputs": [],
   "source": [
    "import pandas as pd\n",
    "import matplotlib.pyplot as plt\n",
    "import seaborn as sns\n",
    "import plotly.graph_objects as go\n",
    "from plotly.subplots import make_subplots"
   ]
  },
  {
   "cell_type": "markdown",
   "metadata": {},
   "source": [
    "# Extraindo a base\n",
    "\n",
    "Explicação de o que cada coluna apresentada:\n",
    "\n",
    " - ID: Identificação única da ordem de produção.\n",
    " - Month: Mês em que a produção foi registrada.\n",
    " - Construction: Especificações de construção do tecido, incluindo informações sobre os fios e densidade.\n",
    " - Req_Finish_Fabrics: Quantidade de tecido acabado requerida, em unidades específicas.\n",
    " - Fabric_Allowance: Margem de tecido extra permitida, geralmente para compensar perdas.\n",
    " - Rec_Beam_length(yds): Comprimento recomendado do feixe de tecido, em jardas.\n",
    " - assump_crimp%: Porcentagem assumida de ondulação dos fios.\n",
    " - act_crimp%: Porcentagem real de ondulação dos fios, medida.\n",
    " - Previous_pdn: Produção anterior registrada para essa ordem, possivelmente referente ao estoque ou à ordem de produção anterior.\n",
    " - Req_grey_fabric: Quantidade de tecido cinza (não acabado) necessária.\n",
    " - Req_beam_length(yds): Comprimento necessário do feixe de tecido, em jardas.\n",
    " - Total_pdn_m/c: Produção total registrada pela máquina.\n",
    " - Rej_and_cut_Piece: Peças rejeitadas ou cortadas na produção.\n",
    " - Total_pdn_per_order: Produção total por ordem.\n",
    " - warp_count: Tipo de contagem de urdidura (fio longitudinal).\n",
    " - weft_count: Contagem de trama (fio transversal).\n",
    " - epi: Densidade de fios longitudinais (ends per inch).\n",
    " - ppi: Densidade de fios transversais (picks per inch)."
   ]
  },
  {
   "cell_type": "code",
   "execution_count": 72,
   "metadata": {},
   "outputs": [
    {
     "data": {
      "text/html": [
       "<div>\n",
       "<style scoped>\n",
       "    .dataframe tbody tr th:only-of-type {\n",
       "        vertical-align: middle;\n",
       "    }\n",
       "\n",
       "    .dataframe tbody tr th {\n",
       "        vertical-align: top;\n",
       "    }\n",
       "\n",
       "    .dataframe thead th {\n",
       "        text-align: right;\n",
       "    }\n",
       "</style>\n",
       "<table border=\"1\" class=\"dataframe\">\n",
       "  <thead>\n",
       "    <tr style=\"text-align: right;\">\n",
       "      <th></th>\n",
       "      <th>Unnamed: 0</th>\n",
       "      <th>ID</th>\n",
       "      <th>Month</th>\n",
       "      <th>Construction</th>\n",
       "      <th>Req_Finish_Fabrics</th>\n",
       "      <th>Fabric_Allowance</th>\n",
       "      <th>Rec_Beam_length(yds)</th>\n",
       "      <th>assump_crimp%</th>\n",
       "      <th>act_crimp%</th>\n",
       "      <th>Previous_pdn</th>\n",
       "      <th>Req_grey_fabric</th>\n",
       "      <th>Req_beam_length(yds)</th>\n",
       "      <th>Total_pdn_m/c</th>\n",
       "      <th>Rej_and_cut_Piece</th>\n",
       "      <th>Total_pdn_per_order</th>\n",
       "      <th>warp_count</th>\n",
       "      <th>weft_count</th>\n",
       "      <th>epi</th>\n",
       "      <th>ppi</th>\n",
       "    </tr>\n",
       "  </thead>\n",
       "  <tbody>\n",
       "    <tr>\n",
       "      <th>0</th>\n",
       "      <td>0</td>\n",
       "      <td>12207-8</td>\n",
       "      <td>January</td>\n",
       "      <td>40+40/2/40/110x80</td>\n",
       "      <td>31300.0</td>\n",
       "      <td>6.0</td>\n",
       "      <td>5752.336</td>\n",
       "      <td>12.5</td>\n",
       "      <td>12.261731581743476</td>\n",
       "      <td>5047</td>\n",
       "      <td>33297.87234</td>\n",
       "      <td>34797.651103</td>\n",
       "      <td>5047.0</td>\n",
       "      <td>0.0</td>\n",
       "      <td>0.0</td>\n",
       "      <td>double</td>\n",
       "      <td>80</td>\n",
       "      <td>110</td>\n",
       "      <td>80</td>\n",
       "    </tr>\n",
       "    <tr>\n",
       "      <th>1</th>\n",
       "      <td>1</td>\n",
       "      <td>12207-8</td>\n",
       "      <td>January</td>\n",
       "      <td>40+40/2/40/110x80</td>\n",
       "      <td>31300.0</td>\n",
       "      <td>6.0</td>\n",
       "      <td>5883.568</td>\n",
       "      <td>12.5</td>\n",
       "      <td>64.12041128784438</td>\n",
       "      <td>1952</td>\n",
       "      <td>33297.87234</td>\n",
       "      <td>34797.651103</td>\n",
       "      <td>2111.0</td>\n",
       "      <td>0.0</td>\n",
       "      <td>0.0</td>\n",
       "      <td>double</td>\n",
       "      <td>80</td>\n",
       "      <td>110</td>\n",
       "      <td>80</td>\n",
       "    </tr>\n",
       "  </tbody>\n",
       "</table>\n",
       "</div>"
      ],
      "text/plain": [
       "   Unnamed: 0       ID    Month       Construction  Req_Finish_Fabrics  \\\n",
       "0           0  12207-8  January  40+40/2/40/110x80             31300.0   \n",
       "1           1  12207-8  January  40+40/2/40/110x80             31300.0   \n",
       "\n",
       "   Fabric_Allowance  Rec_Beam_length(yds)  assump_crimp%          act_crimp%  \\\n",
       "0               6.0              5752.336           12.5  12.261731581743476   \n",
       "1               6.0              5883.568           12.5   64.12041128784438   \n",
       "\n",
       "  Previous_pdn  Req_grey_fabric  Req_beam_length(yds)  Total_pdn_m/c  \\\n",
       "0         5047      33297.87234          34797.651103         5047.0   \n",
       "1         1952      33297.87234          34797.651103         2111.0   \n",
       "\n",
       "   Rej_and_cut_Piece  Total_pdn_per_order warp_count  weft_count  epi  ppi  \n",
       "0                0.0                  0.0     double          80  110   80  \n",
       "1                0.0                  0.0     double          80  110   80  "
      ]
     },
     "metadata": {},
     "output_type": "display_data"
    }
   ],
   "source": [
    "df = pd.read_csv('./fonte/weaving_dataset_full.csv')\n",
    "display(df.head(2))"
   ]
  },
  {
   "cell_type": "markdown",
   "metadata": {},
   "source": [
    "## Limpeza da base"
   ]
  },
  {
   "cell_type": "markdown",
   "metadata": {},
   "source": [
    "### Dados Gerais Estatisticos"
   ]
  },
  {
   "cell_type": "code",
   "execution_count": 73,
   "metadata": {},
   "outputs": [
    {
     "data": {
      "text/plain": [
       "13"
      ]
     },
     "metadata": {},
     "output_type": "display_data"
    },
    {
     "name": "stdout",
     "output_type": "stream",
     "text": [
      "Unnamed: 0:\n",
      "\n"
     ]
    },
    {
     "data": {
      "text/plain": [
       "count    121148.000000\n",
       "mean      60573.500000\n",
       "std       34972.559543\n",
       "min           0.000000\n",
       "25%       30286.750000\n",
       "50%       60573.500000\n",
       "75%       90860.250000\n",
       "max      121147.000000\n",
       "Name: Unnamed: 0, dtype: float64"
      ]
     },
     "metadata": {},
     "output_type": "display_data"
    },
    {
     "name": "stdout",
     "output_type": "stream",
     "text": [
      "ID:\n",
      "\n"
     ]
    },
    {
     "data": {
      "text/plain": [
       "count      121148\n",
       "unique       1009\n",
       "top       13205-1\n",
       "freq         2806\n",
       "Name: ID, dtype: object"
      ]
     },
     "metadata": {},
     "output_type": "display_data"
    },
    {
     "name": "stdout",
     "output_type": "stream",
     "text": [
      "Month:\n",
      "\n"
     ]
    },
    {
     "data": {
      "text/plain": [
       "count      121148\n",
       "unique          9\n",
       "top       January\n",
       "freq        17894\n",
       "Name: Month, dtype: object"
      ]
     },
     "metadata": {},
     "output_type": "display_data"
    },
    {
     "name": "stdout",
     "output_type": "stream",
     "text": [
      "Construction:\n",
      "\n"
     ]
    },
    {
     "data": {
      "text/plain": [
       "count           121148\n",
       "unique             128\n",
       "top       40x40/110x90\n",
       "freq             40791\n",
       "Name: Construction, dtype: object"
      ]
     },
     "metadata": {},
     "output_type": "display_data"
    },
    {
     "name": "stdout",
     "output_type": "stream",
     "text": [
      "Req_Finish_Fabrics:\n",
      "\n"
     ]
    },
    {
     "data": {
      "text/plain": [
       "count    121148.000000\n",
       "mean      23257.443359\n",
       "std       36473.718249\n",
       "min          50.000000\n",
       "25%        2100.000000\n",
       "50%        5733.000000\n",
       "75%       24900.000000\n",
       "max      172800.000000\n",
       "Name: Req_Finish_Fabrics, dtype: float64"
      ]
     },
     "metadata": {},
     "output_type": "display_data"
    },
    {
     "name": "stdout",
     "output_type": "stream",
     "text": [
      "Fabric_Allowance:\n",
      "\n"
     ]
    },
    {
     "data": {
      "text/plain": [
       "count    121148.000000\n",
       "mean          8.231091\n",
       "std           2.981416\n",
       "min           5.000000\n",
       "25%           7.000000\n",
       "50%           7.000000\n",
       "75%           8.100000\n",
       "max          44.000000\n",
       "Name: Fabric_Allowance, dtype: float64"
      ]
     },
     "metadata": {},
     "output_type": "display_data"
    },
    {
     "name": "stdout",
     "output_type": "stream",
     "text": [
      "Rec_Beam_length(yds):\n",
      "\n"
     ]
    },
    {
     "data": {
      "text/plain": [
       "count    121148.000000\n",
       "mean       3372.570226\n",
       "std       10368.214823\n",
       "min           0.000000\n",
       "25%        1544.163200\n",
       "50%        2405.920000\n",
       "75%        2843.360000\n",
       "max      292116.964000\n",
       "Name: Rec_Beam_length(yds), dtype: float64"
      ]
     },
     "metadata": {},
     "output_type": "display_data"
    },
    {
     "name": "stdout",
     "output_type": "stream",
     "text": [
      "assump_crimp%:\n",
      "\n"
     ]
    },
    {
     "data": {
      "text/plain": [
       "count    121148.000000\n",
       "mean         13.124107\n",
       "std           2.794100\n",
       "min           6.000000\n",
       "25%          11.400000\n",
       "50%          14.000000\n",
       "75%          14.500000\n",
       "max          40.800000\n",
       "Name: assump_crimp%, dtype: float64"
      ]
     },
     "metadata": {},
     "output_type": "display_data"
    },
    {
     "name": "stdout",
     "output_type": "stream",
     "text": [
      "act_crimp%:\n",
      "\n"
     ]
    },
    {
     "data": {
      "text/plain": [
       "count     121148\n",
       "unique     28541\n",
       "top           na\n",
       "freq       15218\n",
       "Name: act_crimp%, dtype: object"
      ]
     },
     "metadata": {},
     "output_type": "display_data"
    },
    {
     "name": "stdout",
     "output_type": "stream",
     "text": [
      "Previous_pdn:\n",
      "\n"
     ]
    },
    {
     "data": {
      "text/plain": [
       "count     107511\n",
       "unique      3305\n",
       "top        TOTAL\n",
       "freq       22022\n",
       "Name: Previous_pdn, dtype: object"
      ]
     },
     "metadata": {},
     "output_type": "display_data"
    },
    {
     "name": "stdout",
     "output_type": "stream",
     "text": [
      "Req_grey_fabric:\n",
      "\n"
     ]
    },
    {
     "data": {
      "text/plain": [
       "count    121148.000000\n",
       "mean      24999.190416\n",
       "std       39203.852571\n",
       "min          54.347826\n",
       "25%        2333.333333\n",
       "50%        6164.516129\n",
       "75%       26774.193548\n",
       "max      192427.616927\n",
       "Name: Req_grey_fabric, dtype: float64"
      ]
     },
     "metadata": {},
     "output_type": "display_data"
    },
    {
     "name": "stdout",
     "output_type": "stream",
     "text": [
      "Req_beam_length(yds):\n",
      "\n"
     ]
    },
    {
     "data": {
      "text/plain": [
       "count    121148.000000\n",
       "mean      26127.696426\n",
       "std       40899.793252\n",
       "min          56.473019\n",
       "25%        2447.401830\n",
       "50%        6486.217053\n",
       "75%       28634.643613\n",
       "max      211997.533212\n",
       "Name: Req_beam_length(yds), dtype: float64"
      ]
     },
     "metadata": {},
     "output_type": "display_data"
    },
    {
     "name": "stdout",
     "output_type": "stream",
     "text": [
      "Total_pdn_m/c:\n",
      "\n"
     ]
    },
    {
     "data": {
      "text/plain": [
       "count    1.075180e+05\n",
       "mean     3.794107e+03\n",
       "std      3.724551e+04\n",
       "min      0.000000e+00\n",
       "25%      8.170000e+02\n",
       "50%      1.781000e+03\n",
       "75%      2.275000e+03\n",
       "max      1.878576e+06\n",
       "Name: Total_pdn_m/c, dtype: float64"
      ]
     },
     "metadata": {},
     "output_type": "display_data"
    },
    {
     "name": "stdout",
     "output_type": "stream",
     "text": [
      "Rej_and_cut_Piece:\n",
      "\n"
     ]
    },
    {
     "data": {
      "text/plain": [
       "count    121148.000000\n",
       "mean         15.552027\n",
       "std         186.629874\n",
       "min           0.000000\n",
       "25%           0.000000\n",
       "50%           0.000000\n",
       "75%           0.000000\n",
       "max       11353.000000\n",
       "Name: Rej_and_cut_Piece, dtype: float64"
      ]
     },
     "metadata": {},
     "output_type": "display_data"
    },
    {
     "name": "stdout",
     "output_type": "stream",
     "text": [
      "Total_pdn_per_order:\n",
      "\n"
     ]
    },
    {
     "data": {
      "text/plain": [
       "count    121148.000000\n",
       "mean       1627.604971\n",
       "std       18501.170618\n",
       "min           0.000000\n",
       "25%           0.000000\n",
       "50%           0.000000\n",
       "75%           0.000000\n",
       "max      924098.000000\n",
       "Name: Total_pdn_per_order, dtype: float64"
      ]
     },
     "metadata": {},
     "output_type": "display_data"
    },
    {
     "name": "stdout",
     "output_type": "stream",
     "text": [
      "warp_count:\n",
      "\n"
     ]
    },
    {
     "data": {
      "text/plain": [
       "count     121148\n",
       "unique        10\n",
       "top           40\n",
       "freq      103669\n",
       "Name: warp_count, dtype: object"
      ]
     },
     "metadata": {},
     "output_type": "display_data"
    },
    {
     "name": "stdout",
     "output_type": "stream",
     "text": [
      "weft_count:\n",
      "\n"
     ]
    },
    {
     "data": {
      "text/plain": [
       "count    121148.000000\n",
       "mean         91.730074\n",
       "std        1423.317329\n",
       "min          20.000000\n",
       "25%          40.000000\n",
       "50%          40.000000\n",
       "75%          40.000000\n",
       "max       40140.000000\n",
       "Name: weft_count, dtype: float64"
      ]
     },
     "metadata": {},
     "output_type": "display_data"
    },
    {
     "name": "stdout",
     "output_type": "stream",
     "text": [
      "epi:\n",
      "\n"
     ]
    },
    {
     "data": {
      "text/plain": [
       "count    121148.000000\n",
       "mean        117.535312\n",
       "std          12.863301\n",
       "min          30.000000\n",
       "25%         110.000000\n",
       "50%         110.000000\n",
       "75%         120.000000\n",
       "max         170.000000\n",
       "Name: epi, dtype: float64"
      ]
     },
     "metadata": {},
     "output_type": "display_data"
    },
    {
     "name": "stdout",
     "output_type": "stream",
     "text": [
      "ppi:\n",
      "\n"
     ]
    },
    {
     "data": {
      "text/plain": [
       "count    121148.000000\n",
       "mean         84.013232\n",
       "std           8.762686\n",
       "min          42.000000\n",
       "25%          80.000000\n",
       "50%          90.000000\n",
       "75%          90.000000\n",
       "max         110.000000\n",
       "Name: ppi, dtype: float64"
      ]
     },
     "metadata": {},
     "output_type": "display_data"
    }
   ],
   "source": [
    "colunas_numericas = []\n",
    "for column in df.columns:\n",
    "    if df[column].dtype in ['float64', 'int64']:\n",
    "        colunas_numericas.append(column)\n",
    "display(len(colunas_numericas))\n",
    "for i, column in enumerate(df.columns):\n",
    "        print(f'{column}:\\n')\n",
    "        display(df[column].describe())"
   ]
  },
  {
   "cell_type": "code",
   "execution_count": 74,
   "metadata": {},
   "outputs": [
    {
     "name": "stdout",
     "output_type": "stream",
     "text": [
      "ID:\n",
      "\n"
     ]
    },
    {
     "data": {
      "text/plain": [
       "count      121148\n",
       "unique       1009\n",
       "top       13205-1\n",
       "freq         2806\n",
       "Name: ID, dtype: object"
      ]
     },
     "metadata": {},
     "output_type": "display_data"
    },
    {
     "name": "stdout",
     "output_type": "stream",
     "text": [
      "Month:\n",
      "\n"
     ]
    },
    {
     "data": {
      "text/plain": [
       "count      121148\n",
       "unique          9\n",
       "top       January\n",
       "freq        17894\n",
       "Name: Month, dtype: object"
      ]
     },
     "metadata": {},
     "output_type": "display_data"
    },
    {
     "name": "stdout",
     "output_type": "stream",
     "text": [
      "Construction:\n",
      "\n"
     ]
    },
    {
     "data": {
      "text/plain": [
       "count           121148\n",
       "unique             128\n",
       "top       40x40/110x90\n",
       "freq             40791\n",
       "Name: Construction, dtype: object"
      ]
     },
     "metadata": {},
     "output_type": "display_data"
    },
    {
     "name": "stdout",
     "output_type": "stream",
     "text": [
      "act_crimp%:\n",
      "\n"
     ]
    },
    {
     "data": {
      "text/plain": [
       "count     121148\n",
       "unique     28541\n",
       "top           na\n",
       "freq       15218\n",
       "Name: act_crimp%, dtype: object"
      ]
     },
     "metadata": {},
     "output_type": "display_data"
    },
    {
     "name": "stdout",
     "output_type": "stream",
     "text": [
      "Previous_pdn:\n",
      "\n"
     ]
    },
    {
     "data": {
      "text/plain": [
       "count     107511\n",
       "unique      3305\n",
       "top        TOTAL\n",
       "freq       22022\n",
       "Name: Previous_pdn, dtype: object"
      ]
     },
     "metadata": {},
     "output_type": "display_data"
    },
    {
     "name": "stdout",
     "output_type": "stream",
     "text": [
      "warp_count:\n",
      "\n"
     ]
    },
    {
     "data": {
      "text/plain": [
       "count     121148\n",
       "unique        10\n",
       "top           40\n",
       "freq      103669\n",
       "Name: warp_count, dtype: object"
      ]
     },
     "metadata": {},
     "output_type": "display_data"
    },
    {
     "data": {
      "application/vnd.plotly.v1+json": {
       "config": {
        "plotlyServerURL": "https://plot.ly"
       },
       "data": [
        {
         "name": "Unnamed: 0",
         "type": "bar",
         "x": [
          "count",
          "mean",
          "std",
          "min",
          "25%",
          "50%",
          "75%",
          "max"
         ],
         "xaxis": "x",
         "y": [
          121148,
          60573.5,
          34972.559543161835,
          0,
          30286.75,
          60573.5,
          90860.25,
          121147
         ],
         "yaxis": "y"
        },
        {
         "name": "Req_Finish_Fabrics",
         "type": "bar",
         "x": [
          "count",
          "mean",
          "std",
          "min",
          "25%",
          "50%",
          "75%",
          "max"
         ],
         "xaxis": "x5",
         "y": [
          121148,
          23257.443358536664,
          36473.71824933689,
          50,
          2100,
          5733,
          24900,
          172800
         ],
         "yaxis": "y5"
        },
        {
         "name": "Fabric_Allowance",
         "type": "bar",
         "x": [
          "count",
          "mean",
          "std",
          "min",
          "25%",
          "50%",
          "75%",
          "max"
         ],
         "xaxis": "x6",
         "y": [
          121148,
          8.231090566909895,
          2.981415993717788,
          5,
          7,
          7,
          8.1,
          44
         ],
         "yaxis": "y6"
        },
        {
         "name": "Rec_Beam_length(yds)",
         "type": "bar",
         "x": [
          "count",
          "mean",
          "std",
          "min",
          "25%",
          "50%",
          "75%",
          "max"
         ],
         "xaxis": "x7",
         "y": [
          121148,
          3372.570225555519,
          10368.2148226074,
          0,
          1544.1632,
          2405.92,
          2843.36,
          292116.964
         ],
         "yaxis": "y7"
        },
        {
         "name": "assump_crimp%",
         "type": "bar",
         "x": [
          "count",
          "mean",
          "std",
          "min",
          "25%",
          "50%",
          "75%",
          "max"
         ],
         "xaxis": "x8",
         "y": [
          121148,
          13.124106960081882,
          2.794099562824444,
          6,
          11.4,
          14,
          14.5,
          40.8
         ],
         "yaxis": "y8"
        },
        {
         "name": "Req_grey_fabric",
         "type": "bar",
         "x": [
          "count",
          "mean",
          "std",
          "min",
          "25%",
          "50%",
          "75%",
          "max"
         ],
         "xaxis": "x11",
         "y": [
          121148,
          24999.190415578512,
          39203.85257110136,
          54.34782608695652,
          2333.333333333333,
          6164.5161290322585,
          26774.1935483871,
          192427.6169265033
         ],
         "yaxis": "y11"
        },
        {
         "name": "Req_beam_length(yds)",
         "type": "bar",
         "x": [
          "count",
          "mean",
          "std",
          "min",
          "25%",
          "50%",
          "75%",
          "max"
         ],
         "xaxis": "x12",
         "y": [
          121148,
          26127.696425901722,
          40899.7932523196,
          56.47301872771801,
          2447.401830417162,
          6486.217053060439,
          28634.64361322559,
          211997.53321240703
         ],
         "yaxis": "y12"
        },
        {
         "name": "Total_pdn_m/c",
         "type": "bar",
         "x": [
          "count",
          "mean",
          "std",
          "min",
          "25%",
          "50%",
          "75%",
          "max"
         ],
         "xaxis": "x13",
         "y": [
          107518,
          3794.106680034971,
          37245.505871878835,
          0,
          817,
          1781,
          2275,
          1878576
         ],
         "yaxis": "y13"
        },
        {
         "name": "Rej_and_cut_Piece",
         "type": "bar",
         "x": [
          "count",
          "mean",
          "std",
          "min",
          "25%",
          "50%",
          "75%",
          "max"
         ],
         "xaxis": "x14",
         "y": [
          121148,
          15.552027272427114,
          186.62987427734532,
          0,
          0,
          0,
          0,
          11353
         ],
         "yaxis": "y14"
        },
        {
         "name": "Total_pdn_per_order",
         "type": "bar",
         "x": [
          "count",
          "mean",
          "std",
          "min",
          "25%",
          "50%",
          "75%",
          "max"
         ],
         "xaxis": "x15",
         "y": [
          121148,
          1627.6049707795423,
          18501.17061779821,
          0,
          0,
          0,
          0,
          924098
         ],
         "yaxis": "y15"
        },
        {
         "name": "weft_count",
         "type": "bar",
         "x": [
          "count",
          "mean",
          "std",
          "min",
          "25%",
          "50%",
          "75%",
          "max"
         ],
         "xaxis": "x17",
         "y": [
          121148,
          91.73007395912438,
          1423.3173293512016,
          20,
          40,
          40,
          40,
          40140
         ],
         "yaxis": "y17"
        },
        {
         "name": "epi",
         "type": "bar",
         "x": [
          "count",
          "mean",
          "std",
          "min",
          "25%",
          "50%",
          "75%",
          "max"
         ],
         "xaxis": "x18",
         "y": [
          121148,
          117.5353121801433,
          12.863300558677526,
          30,
          110,
          110,
          120,
          170
         ],
         "yaxis": "y18"
        },
        {
         "name": "ppi",
         "type": "bar",
         "x": [
          "count",
          "mean",
          "std",
          "min",
          "25%",
          "50%",
          "75%",
          "max"
         ],
         "xaxis": "x19",
         "y": [
          121148,
          84.01323174959553,
          8.762685936663289,
          42,
          80,
          90,
          90,
          110
         ],
         "yaxis": "y19"
        }
       ],
       "layout": {
        "annotations": [
         {
          "font": {
           "size": 16
          },
          "showarrow": false,
          "text": "Descrição da Coluna: Unnamed: 0",
          "x": 0.5,
          "xanchor": "center",
          "xref": "paper",
          "y": 1,
          "yanchor": "bottom",
          "yref": "paper"
         },
         {
          "font": {
           "size": 16
          },
          "showarrow": false,
          "text": "Descrição da Coluna: ID",
          "x": 0.5,
          "xanchor": "center",
          "xref": "paper",
          "y": 0.945983379501385,
          "yanchor": "bottom",
          "yref": "paper"
         },
         {
          "font": {
           "size": 16
          },
          "showarrow": false,
          "text": "Descrição da Coluna: Month",
          "x": 0.5,
          "xanchor": "center",
          "xref": "paper",
          "y": 0.89196675900277,
          "yanchor": "bottom",
          "yref": "paper"
         },
         {
          "font": {
           "size": 16
          },
          "showarrow": false,
          "text": "Descrição da Coluna: Construction",
          "x": 0.5,
          "xanchor": "center",
          "xref": "paper",
          "y": 0.8379501385041551,
          "yanchor": "bottom",
          "yref": "paper"
         },
         {
          "font": {
           "size": 16
          },
          "showarrow": false,
          "text": "Descrição da Coluna: Req_Finish_Fabrics",
          "x": 0.5,
          "xanchor": "center",
          "xref": "paper",
          "y": 0.7839335180055401,
          "yanchor": "bottom",
          "yref": "paper"
         },
         {
          "font": {
           "size": 16
          },
          "showarrow": false,
          "text": "Descrição da Coluna: Fabric_Allowance",
          "x": 0.5,
          "xanchor": "center",
          "xref": "paper",
          "y": 0.7299168975069252,
          "yanchor": "bottom",
          "yref": "paper"
         },
         {
          "font": {
           "size": 16
          },
          "showarrow": false,
          "text": "Descrição da Coluna: Rec_Beam_length(yds)",
          "x": 0.5,
          "xanchor": "center",
          "xref": "paper",
          "y": 0.6759002770083102,
          "yanchor": "bottom",
          "yref": "paper"
         },
         {
          "font": {
           "size": 16
          },
          "showarrow": false,
          "text": "Descrição da Coluna: assump_crimp%",
          "x": 0.5,
          "xanchor": "center",
          "xref": "paper",
          "y": 0.6218836565096952,
          "yanchor": "bottom",
          "yref": "paper"
         },
         {
          "font": {
           "size": 16
          },
          "showarrow": false,
          "text": "Descrição da Coluna: act_crimp%",
          "x": 0.5,
          "xanchor": "center",
          "xref": "paper",
          "y": 0.5678670360110802,
          "yanchor": "bottom",
          "yref": "paper"
         },
         {
          "font": {
           "size": 16
          },
          "showarrow": false,
          "text": "Descrição da Coluna: Previous_pdn",
          "x": 0.5,
          "xanchor": "center",
          "xref": "paper",
          "y": 0.5138504155124654,
          "yanchor": "bottom",
          "yref": "paper"
         },
         {
          "font": {
           "size": 16
          },
          "showarrow": false,
          "text": "Descrição da Coluna: Req_grey_fabric",
          "x": 0.5,
          "xanchor": "center",
          "xref": "paper",
          "y": 0.4598337950138504,
          "yanchor": "bottom",
          "yref": "paper"
         },
         {
          "font": {
           "size": 16
          },
          "showarrow": false,
          "text": "Descrição da Coluna: Req_beam_length(yds)",
          "x": 0.5,
          "xanchor": "center",
          "xref": "paper",
          "y": 0.40581717451523547,
          "yanchor": "bottom",
          "yref": "paper"
         },
         {
          "font": {
           "size": 16
          },
          "showarrow": false,
          "text": "Descrição da Coluna: Total_pdn_m/c",
          "x": 0.5,
          "xanchor": "center",
          "xref": "paper",
          "y": 0.3518005540166205,
          "yanchor": "bottom",
          "yref": "paper"
         },
         {
          "font": {
           "size": 16
          },
          "showarrow": false,
          "text": "Descrição da Coluna: Rej_and_cut_Piece",
          "x": 0.5,
          "xanchor": "center",
          "xref": "paper",
          "y": 0.29778393351800553,
          "yanchor": "bottom",
          "yref": "paper"
         },
         {
          "font": {
           "size": 16
          },
          "showarrow": false,
          "text": "Descrição da Coluna: Total_pdn_per_order",
          "x": 0.5,
          "xanchor": "center",
          "xref": "paper",
          "y": 0.24376731301939059,
          "yanchor": "bottom",
          "yref": "paper"
         },
         {
          "font": {
           "size": 16
          },
          "showarrow": false,
          "text": "Descrição da Coluna: warp_count",
          "x": 0.5,
          "xanchor": "center",
          "xref": "paper",
          "y": 0.18975069252077564,
          "yanchor": "bottom",
          "yref": "paper"
         },
         {
          "font": {
           "size": 16
          },
          "showarrow": false,
          "text": "Descrição da Coluna: weft_count",
          "x": 0.5,
          "xanchor": "center",
          "xref": "paper",
          "y": 0.13573407202216067,
          "yanchor": "bottom",
          "yref": "paper"
         },
         {
          "font": {
           "size": 16
          },
          "showarrow": false,
          "text": "Descrição da Coluna: epi",
          "x": 0.5,
          "xanchor": "center",
          "xref": "paper",
          "y": 0.0817174515235457,
          "yanchor": "bottom",
          "yref": "paper"
         },
         {
          "font": {
           "size": 16
          },
          "showarrow": false,
          "text": "Descrição da Coluna: ppi",
          "x": 0.5,
          "xanchor": "center",
          "xref": "paper",
          "y": 0.02770083102493075,
          "yanchor": "bottom",
          "yref": "paper"
         }
        ],
        "height": 5700,
        "showlegend": false,
        "template": {
         "data": {
          "bar": [
           {
            "error_x": {
             "color": "#2a3f5f"
            },
            "error_y": {
             "color": "#2a3f5f"
            },
            "marker": {
             "line": {
              "color": "#E5ECF6",
              "width": 0.5
             },
             "pattern": {
              "fillmode": "overlay",
              "size": 10,
              "solidity": 0.2
             }
            },
            "type": "bar"
           }
          ],
          "barpolar": [
           {
            "marker": {
             "line": {
              "color": "#E5ECF6",
              "width": 0.5
             },
             "pattern": {
              "fillmode": "overlay",
              "size": 10,
              "solidity": 0.2
             }
            },
            "type": "barpolar"
           }
          ],
          "carpet": [
           {
            "aaxis": {
             "endlinecolor": "#2a3f5f",
             "gridcolor": "white",
             "linecolor": "white",
             "minorgridcolor": "white",
             "startlinecolor": "#2a3f5f"
            },
            "baxis": {
             "endlinecolor": "#2a3f5f",
             "gridcolor": "white",
             "linecolor": "white",
             "minorgridcolor": "white",
             "startlinecolor": "#2a3f5f"
            },
            "type": "carpet"
           }
          ],
          "choropleth": [
           {
            "colorbar": {
             "outlinewidth": 0,
             "ticks": ""
            },
            "type": "choropleth"
           }
          ],
          "contour": [
           {
            "colorbar": {
             "outlinewidth": 0,
             "ticks": ""
            },
            "colorscale": [
             [
              0,
              "#0d0887"
             ],
             [
              0.1111111111111111,
              "#46039f"
             ],
             [
              0.2222222222222222,
              "#7201a8"
             ],
             [
              0.3333333333333333,
              "#9c179e"
             ],
             [
              0.4444444444444444,
              "#bd3786"
             ],
             [
              0.5555555555555556,
              "#d8576b"
             ],
             [
              0.6666666666666666,
              "#ed7953"
             ],
             [
              0.7777777777777778,
              "#fb9f3a"
             ],
             [
              0.8888888888888888,
              "#fdca26"
             ],
             [
              1,
              "#f0f921"
             ]
            ],
            "type": "contour"
           }
          ],
          "contourcarpet": [
           {
            "colorbar": {
             "outlinewidth": 0,
             "ticks": ""
            },
            "type": "contourcarpet"
           }
          ],
          "heatmap": [
           {
            "colorbar": {
             "outlinewidth": 0,
             "ticks": ""
            },
            "colorscale": [
             [
              0,
              "#0d0887"
             ],
             [
              0.1111111111111111,
              "#46039f"
             ],
             [
              0.2222222222222222,
              "#7201a8"
             ],
             [
              0.3333333333333333,
              "#9c179e"
             ],
             [
              0.4444444444444444,
              "#bd3786"
             ],
             [
              0.5555555555555556,
              "#d8576b"
             ],
             [
              0.6666666666666666,
              "#ed7953"
             ],
             [
              0.7777777777777778,
              "#fb9f3a"
             ],
             [
              0.8888888888888888,
              "#fdca26"
             ],
             [
              1,
              "#f0f921"
             ]
            ],
            "type": "heatmap"
           }
          ],
          "heatmapgl": [
           {
            "colorbar": {
             "outlinewidth": 0,
             "ticks": ""
            },
            "colorscale": [
             [
              0,
              "#0d0887"
             ],
             [
              0.1111111111111111,
              "#46039f"
             ],
             [
              0.2222222222222222,
              "#7201a8"
             ],
             [
              0.3333333333333333,
              "#9c179e"
             ],
             [
              0.4444444444444444,
              "#bd3786"
             ],
             [
              0.5555555555555556,
              "#d8576b"
             ],
             [
              0.6666666666666666,
              "#ed7953"
             ],
             [
              0.7777777777777778,
              "#fb9f3a"
             ],
             [
              0.8888888888888888,
              "#fdca26"
             ],
             [
              1,
              "#f0f921"
             ]
            ],
            "type": "heatmapgl"
           }
          ],
          "histogram": [
           {
            "marker": {
             "pattern": {
              "fillmode": "overlay",
              "size": 10,
              "solidity": 0.2
             }
            },
            "type": "histogram"
           }
          ],
          "histogram2d": [
           {
            "colorbar": {
             "outlinewidth": 0,
             "ticks": ""
            },
            "colorscale": [
             [
              0,
              "#0d0887"
             ],
             [
              0.1111111111111111,
              "#46039f"
             ],
             [
              0.2222222222222222,
              "#7201a8"
             ],
             [
              0.3333333333333333,
              "#9c179e"
             ],
             [
              0.4444444444444444,
              "#bd3786"
             ],
             [
              0.5555555555555556,
              "#d8576b"
             ],
             [
              0.6666666666666666,
              "#ed7953"
             ],
             [
              0.7777777777777778,
              "#fb9f3a"
             ],
             [
              0.8888888888888888,
              "#fdca26"
             ],
             [
              1,
              "#f0f921"
             ]
            ],
            "type": "histogram2d"
           }
          ],
          "histogram2dcontour": [
           {
            "colorbar": {
             "outlinewidth": 0,
             "ticks": ""
            },
            "colorscale": [
             [
              0,
              "#0d0887"
             ],
             [
              0.1111111111111111,
              "#46039f"
             ],
             [
              0.2222222222222222,
              "#7201a8"
             ],
             [
              0.3333333333333333,
              "#9c179e"
             ],
             [
              0.4444444444444444,
              "#bd3786"
             ],
             [
              0.5555555555555556,
              "#d8576b"
             ],
             [
              0.6666666666666666,
              "#ed7953"
             ],
             [
              0.7777777777777778,
              "#fb9f3a"
             ],
             [
              0.8888888888888888,
              "#fdca26"
             ],
             [
              1,
              "#f0f921"
             ]
            ],
            "type": "histogram2dcontour"
           }
          ],
          "mesh3d": [
           {
            "colorbar": {
             "outlinewidth": 0,
             "ticks": ""
            },
            "type": "mesh3d"
           }
          ],
          "parcoords": [
           {
            "line": {
             "colorbar": {
              "outlinewidth": 0,
              "ticks": ""
             }
            },
            "type": "parcoords"
           }
          ],
          "pie": [
           {
            "automargin": true,
            "type": "pie"
           }
          ],
          "scatter": [
           {
            "fillpattern": {
             "fillmode": "overlay",
             "size": 10,
             "solidity": 0.2
            },
            "type": "scatter"
           }
          ],
          "scatter3d": [
           {
            "line": {
             "colorbar": {
              "outlinewidth": 0,
              "ticks": ""
             }
            },
            "marker": {
             "colorbar": {
              "outlinewidth": 0,
              "ticks": ""
             }
            },
            "type": "scatter3d"
           }
          ],
          "scattercarpet": [
           {
            "marker": {
             "colorbar": {
              "outlinewidth": 0,
              "ticks": ""
             }
            },
            "type": "scattercarpet"
           }
          ],
          "scattergeo": [
           {
            "marker": {
             "colorbar": {
              "outlinewidth": 0,
              "ticks": ""
             }
            },
            "type": "scattergeo"
           }
          ],
          "scattergl": [
           {
            "marker": {
             "colorbar": {
              "outlinewidth": 0,
              "ticks": ""
             }
            },
            "type": "scattergl"
           }
          ],
          "scattermapbox": [
           {
            "marker": {
             "colorbar": {
              "outlinewidth": 0,
              "ticks": ""
             }
            },
            "type": "scattermapbox"
           }
          ],
          "scatterpolar": [
           {
            "marker": {
             "colorbar": {
              "outlinewidth": 0,
              "ticks": ""
             }
            },
            "type": "scatterpolar"
           }
          ],
          "scatterpolargl": [
           {
            "marker": {
             "colorbar": {
              "outlinewidth": 0,
              "ticks": ""
             }
            },
            "type": "scatterpolargl"
           }
          ],
          "scatterternary": [
           {
            "marker": {
             "colorbar": {
              "outlinewidth": 0,
              "ticks": ""
             }
            },
            "type": "scatterternary"
           }
          ],
          "surface": [
           {
            "colorbar": {
             "outlinewidth": 0,
             "ticks": ""
            },
            "colorscale": [
             [
              0,
              "#0d0887"
             ],
             [
              0.1111111111111111,
              "#46039f"
             ],
             [
              0.2222222222222222,
              "#7201a8"
             ],
             [
              0.3333333333333333,
              "#9c179e"
             ],
             [
              0.4444444444444444,
              "#bd3786"
             ],
             [
              0.5555555555555556,
              "#d8576b"
             ],
             [
              0.6666666666666666,
              "#ed7953"
             ],
             [
              0.7777777777777778,
              "#fb9f3a"
             ],
             [
              0.8888888888888888,
              "#fdca26"
             ],
             [
              1,
              "#f0f921"
             ]
            ],
            "type": "surface"
           }
          ],
          "table": [
           {
            "cells": {
             "fill": {
              "color": "#EBF0F8"
             },
             "line": {
              "color": "white"
             }
            },
            "header": {
             "fill": {
              "color": "#C8D4E3"
             },
             "line": {
              "color": "white"
             }
            },
            "type": "table"
           }
          ]
         },
         "layout": {
          "annotationdefaults": {
           "arrowcolor": "#2a3f5f",
           "arrowhead": 0,
           "arrowwidth": 1
          },
          "autotypenumbers": "strict",
          "coloraxis": {
           "colorbar": {
            "outlinewidth": 0,
            "ticks": ""
           }
          },
          "colorscale": {
           "diverging": [
            [
             0,
             "#8e0152"
            ],
            [
             0.1,
             "#c51b7d"
            ],
            [
             0.2,
             "#de77ae"
            ],
            [
             0.3,
             "#f1b6da"
            ],
            [
             0.4,
             "#fde0ef"
            ],
            [
             0.5,
             "#f7f7f7"
            ],
            [
             0.6,
             "#e6f5d0"
            ],
            [
             0.7,
             "#b8e186"
            ],
            [
             0.8,
             "#7fbc41"
            ],
            [
             0.9,
             "#4d9221"
            ],
            [
             1,
             "#276419"
            ]
           ],
           "sequential": [
            [
             0,
             "#0d0887"
            ],
            [
             0.1111111111111111,
             "#46039f"
            ],
            [
             0.2222222222222222,
             "#7201a8"
            ],
            [
             0.3333333333333333,
             "#9c179e"
            ],
            [
             0.4444444444444444,
             "#bd3786"
            ],
            [
             0.5555555555555556,
             "#d8576b"
            ],
            [
             0.6666666666666666,
             "#ed7953"
            ],
            [
             0.7777777777777778,
             "#fb9f3a"
            ],
            [
             0.8888888888888888,
             "#fdca26"
            ],
            [
             1,
             "#f0f921"
            ]
           ],
           "sequentialminus": [
            [
             0,
             "#0d0887"
            ],
            [
             0.1111111111111111,
             "#46039f"
            ],
            [
             0.2222222222222222,
             "#7201a8"
            ],
            [
             0.3333333333333333,
             "#9c179e"
            ],
            [
             0.4444444444444444,
             "#bd3786"
            ],
            [
             0.5555555555555556,
             "#d8576b"
            ],
            [
             0.6666666666666666,
             "#ed7953"
            ],
            [
             0.7777777777777778,
             "#fb9f3a"
            ],
            [
             0.8888888888888888,
             "#fdca26"
            ],
            [
             1,
             "#f0f921"
            ]
           ]
          },
          "colorway": [
           "#636efa",
           "#EF553B",
           "#00cc96",
           "#ab63fa",
           "#FFA15A",
           "#19d3f3",
           "#FF6692",
           "#B6E880",
           "#FF97FF",
           "#FECB52"
          ],
          "font": {
           "color": "#2a3f5f"
          },
          "geo": {
           "bgcolor": "white",
           "lakecolor": "white",
           "landcolor": "#E5ECF6",
           "showlakes": true,
           "showland": true,
           "subunitcolor": "white"
          },
          "hoverlabel": {
           "align": "left"
          },
          "hovermode": "closest",
          "mapbox": {
           "style": "light"
          },
          "paper_bgcolor": "white",
          "plot_bgcolor": "#E5ECF6",
          "polar": {
           "angularaxis": {
            "gridcolor": "white",
            "linecolor": "white",
            "ticks": ""
           },
           "bgcolor": "#E5ECF6",
           "radialaxis": {
            "gridcolor": "white",
            "linecolor": "white",
            "ticks": ""
           }
          },
          "scene": {
           "xaxis": {
            "backgroundcolor": "#E5ECF6",
            "gridcolor": "white",
            "gridwidth": 2,
            "linecolor": "white",
            "showbackground": true,
            "ticks": "",
            "zerolinecolor": "white"
           },
           "yaxis": {
            "backgroundcolor": "#E5ECF6",
            "gridcolor": "white",
            "gridwidth": 2,
            "linecolor": "white",
            "showbackground": true,
            "ticks": "",
            "zerolinecolor": "white"
           },
           "zaxis": {
            "backgroundcolor": "#E5ECF6",
            "gridcolor": "white",
            "gridwidth": 2,
            "linecolor": "white",
            "showbackground": true,
            "ticks": "",
            "zerolinecolor": "white"
           }
          },
          "shapedefaults": {
           "line": {
            "color": "#2a3f5f"
           }
          },
          "ternary": {
           "aaxis": {
            "gridcolor": "white",
            "linecolor": "white",
            "ticks": ""
           },
           "baxis": {
            "gridcolor": "white",
            "linecolor": "white",
            "ticks": ""
           },
           "bgcolor": "#E5ECF6",
           "caxis": {
            "gridcolor": "white",
            "linecolor": "white",
            "ticks": ""
           }
          },
          "title": {
           "x": 0.05
          },
          "xaxis": {
           "automargin": true,
           "gridcolor": "white",
           "linecolor": "white",
           "ticks": "",
           "title": {
            "standoff": 15
           },
           "zerolinecolor": "white",
           "zerolinewidth": 2
          },
          "yaxis": {
           "automargin": true,
           "gridcolor": "white",
           "linecolor": "white",
           "ticks": "",
           "title": {
            "standoff": 15
           },
           "zerolinecolor": "white",
           "zerolinewidth": 2
          }
         }
        },
        "title": {
         "text": "Dados estatísticos por coluna"
        },
        "xaxis": {
         "anchor": "y",
         "domain": [
          0,
          1
         ]
        },
        "xaxis10": {
         "anchor": "y10",
         "domain": [
          0,
          1
         ]
        },
        "xaxis11": {
         "anchor": "y11",
         "domain": [
          0,
          1
         ]
        },
        "xaxis12": {
         "anchor": "y12",
         "domain": [
          0,
          1
         ]
        },
        "xaxis13": {
         "anchor": "y13",
         "domain": [
          0,
          1
         ]
        },
        "xaxis14": {
         "anchor": "y14",
         "domain": [
          0,
          1
         ]
        },
        "xaxis15": {
         "anchor": "y15",
         "domain": [
          0,
          1
         ]
        },
        "xaxis16": {
         "anchor": "y16",
         "domain": [
          0,
          1
         ]
        },
        "xaxis17": {
         "anchor": "y17",
         "domain": [
          0,
          1
         ]
        },
        "xaxis18": {
         "anchor": "y18",
         "domain": [
          0,
          1
         ]
        },
        "xaxis19": {
         "anchor": "y19",
         "domain": [
          0,
          1
         ]
        },
        "xaxis2": {
         "anchor": "y2",
         "domain": [
          0,
          1
         ]
        },
        "xaxis3": {
         "anchor": "y3",
         "domain": [
          0,
          1
         ]
        },
        "xaxis4": {
         "anchor": "y4",
         "domain": [
          0,
          1
         ]
        },
        "xaxis5": {
         "anchor": "y5",
         "domain": [
          0,
          1
         ]
        },
        "xaxis6": {
         "anchor": "y6",
         "domain": [
          0,
          1
         ]
        },
        "xaxis7": {
         "anchor": "y7",
         "domain": [
          0,
          1
         ]
        },
        "xaxis8": {
         "anchor": "y8",
         "domain": [
          0,
          1
         ]
        },
        "xaxis9": {
         "anchor": "y9",
         "domain": [
          0,
          1
         ]
        },
        "yaxis": {
         "anchor": "x",
         "domain": [
          0.9722991689750693,
          1
         ]
        },
        "yaxis10": {
         "anchor": "x10",
         "domain": [
          0.48614958448753465,
          0.5138504155124654
         ]
        },
        "yaxis11": {
         "anchor": "x11",
         "domain": [
          0.43213296398891965,
          0.4598337950138504
         ]
        },
        "yaxis12": {
         "anchor": "x12",
         "domain": [
          0.3781163434903047,
          0.40581717451523547
         ]
        },
        "yaxis13": {
         "anchor": "x13",
         "domain": [
          0.32409972299168976,
          0.3518005540166205
         ]
        },
        "yaxis14": {
         "anchor": "x14",
         "domain": [
          0.27008310249307477,
          0.29778393351800553
         ]
        },
        "yaxis15": {
         "anchor": "x15",
         "domain": [
          0.21606648199445982,
          0.24376731301939059
         ]
        },
        "yaxis16": {
         "anchor": "x16",
         "domain": [
          0.16204986149584488,
          0.18975069252077564
         ]
        },
        "yaxis17": {
         "anchor": "x17",
         "domain": [
          0.10803324099722991,
          0.13573407202216067
         ]
        },
        "yaxis18": {
         "anchor": "x18",
         "domain": [
          0.054016620498614956,
          0.0817174515235457
         ]
        },
        "yaxis19": {
         "anchor": "x19",
         "domain": [
          0,
          0.02770083102493075
         ]
        },
        "yaxis2": {
         "anchor": "x2",
         "domain": [
          0.9182825484764543,
          0.945983379501385
         ]
        },
        "yaxis3": {
         "anchor": "x3",
         "domain": [
          0.8642659279778393,
          0.89196675900277
         ]
        },
        "yaxis4": {
         "anchor": "x4",
         "domain": [
          0.8102493074792244,
          0.8379501385041551
         ]
        },
        "yaxis5": {
         "anchor": "x5",
         "domain": [
          0.7562326869806094,
          0.7839335180055401
         ]
        },
        "yaxis6": {
         "anchor": "x6",
         "domain": [
          0.7022160664819945,
          0.7299168975069252
         ]
        },
        "yaxis7": {
         "anchor": "x7",
         "domain": [
          0.6481994459833795,
          0.6759002770083102
         ]
        },
        "yaxis8": {
         "anchor": "x8",
         "domain": [
          0.5941828254847645,
          0.6218836565096952
         ]
        },
        "yaxis9": {
         "anchor": "x9",
         "domain": [
          0.5401662049861495,
          0.5678670360110802
         ]
        }
       }
      }
     },
     "metadata": {},
     "output_type": "display_data"
    }
   ],
   "source": [
    "fig_dados = make_subplots(\n",
    "    rows=len(df.columns), cols=1,\n",
    "    subplot_titles=[f\"Descrição da Coluna: {col}\" for col in df.columns]\n",
    ")\n",
    "\n",
    "# colunas_numericas = []\n",
    "# for column in df.columns:\n",
    "#     if df[column].dtype in ['float64', 'int64']:\n",
    "#         colunas_numericas.append(column)\n",
    "# display(len(colunas_numericas))\n",
    "\n",
    "\n",
    "# fig_dados = make_subplots(\n",
    "#     rows=len(colunas_numericas), cols=1,\n",
    "#     subplot_titles=[f\"Descrição da Coluna: {col}\" for col in colunas_numericas]\n",
    "# )\n",
    "\n",
    "for i, column in enumerate(df.columns):\n",
    "    infos = dict(df[column].describe())\n",
    "\n",
    "    if len(list(infos.keys())) > 4:\n",
    "        x = list(infos.keys())\n",
    "        y = list(infos.values())\n",
    "        fig_dados.add_trace(\n",
    "            go.Bar(x=x, y=y, name=column),\n",
    "            row=i + 1, col=1\n",
    "        )\n",
    "    else:\n",
    "        print(f'{column}:\\n')\n",
    "        display(df[column].describe())\n",
    "\n",
    "fig_dados.update_layout(\n",
    "    title='Dados estatísticos por coluna',\n",
    "    height=300 * len(df.columns), \n",
    "    showlegend=False,\n",
    ")\n",
    "\n",
    "fig_dados.show()\n"
   ]
  },
  {
   "cell_type": "code",
   "execution_count": 75,
   "metadata": {},
   "outputs": [],
   "source": [
    "df['act_crimp%'] = pd.to_numeric(df['act_crimp%'], errors='coerce')"
   ]
  },
  {
   "cell_type": "markdown",
   "metadata": {},
   "source": [
    "### Verificação de nulos"
   ]
  },
  {
   "cell_type": "code",
   "execution_count": 76,
   "metadata": {},
   "outputs": [
    {
     "name": "stdout",
     "output_type": "stream",
     "text": [
      "Tem algum valor nulo na base:  True\n"
     ]
    }
   ],
   "source": [
    "print(\"Tem algum valor nulo na base: \", df.isnull().any().any())"
   ]
  },
  {
   "cell_type": "code",
   "execution_count": 77,
   "metadata": {},
   "outputs": [
    {
     "data": {
      "application/vnd.plotly.v1+json": {
       "config": {
        "plotlyServerURL": "https://plot.ly"
       },
       "data": [
        {
         "type": "bar",
         "x": [
          "act_crimp%",
          "Previous_pdn",
          "Total_pdn_m/c"
         ],
         "y": [
          15218,
          13637,
          13630
         ]
        }
       ],
       "layout": {
        "template": {
         "data": {
          "bar": [
           {
            "error_x": {
             "color": "#2a3f5f"
            },
            "error_y": {
             "color": "#2a3f5f"
            },
            "marker": {
             "line": {
              "color": "#E5ECF6",
              "width": 0.5
             },
             "pattern": {
              "fillmode": "overlay",
              "size": 10,
              "solidity": 0.2
             }
            },
            "type": "bar"
           }
          ],
          "barpolar": [
           {
            "marker": {
             "line": {
              "color": "#E5ECF6",
              "width": 0.5
             },
             "pattern": {
              "fillmode": "overlay",
              "size": 10,
              "solidity": 0.2
             }
            },
            "type": "barpolar"
           }
          ],
          "carpet": [
           {
            "aaxis": {
             "endlinecolor": "#2a3f5f",
             "gridcolor": "white",
             "linecolor": "white",
             "minorgridcolor": "white",
             "startlinecolor": "#2a3f5f"
            },
            "baxis": {
             "endlinecolor": "#2a3f5f",
             "gridcolor": "white",
             "linecolor": "white",
             "minorgridcolor": "white",
             "startlinecolor": "#2a3f5f"
            },
            "type": "carpet"
           }
          ],
          "choropleth": [
           {
            "colorbar": {
             "outlinewidth": 0,
             "ticks": ""
            },
            "type": "choropleth"
           }
          ],
          "contour": [
           {
            "colorbar": {
             "outlinewidth": 0,
             "ticks": ""
            },
            "colorscale": [
             [
              0,
              "#0d0887"
             ],
             [
              0.1111111111111111,
              "#46039f"
             ],
             [
              0.2222222222222222,
              "#7201a8"
             ],
             [
              0.3333333333333333,
              "#9c179e"
             ],
             [
              0.4444444444444444,
              "#bd3786"
             ],
             [
              0.5555555555555556,
              "#d8576b"
             ],
             [
              0.6666666666666666,
              "#ed7953"
             ],
             [
              0.7777777777777778,
              "#fb9f3a"
             ],
             [
              0.8888888888888888,
              "#fdca26"
             ],
             [
              1,
              "#f0f921"
             ]
            ],
            "type": "contour"
           }
          ],
          "contourcarpet": [
           {
            "colorbar": {
             "outlinewidth": 0,
             "ticks": ""
            },
            "type": "contourcarpet"
           }
          ],
          "heatmap": [
           {
            "colorbar": {
             "outlinewidth": 0,
             "ticks": ""
            },
            "colorscale": [
             [
              0,
              "#0d0887"
             ],
             [
              0.1111111111111111,
              "#46039f"
             ],
             [
              0.2222222222222222,
              "#7201a8"
             ],
             [
              0.3333333333333333,
              "#9c179e"
             ],
             [
              0.4444444444444444,
              "#bd3786"
             ],
             [
              0.5555555555555556,
              "#d8576b"
             ],
             [
              0.6666666666666666,
              "#ed7953"
             ],
             [
              0.7777777777777778,
              "#fb9f3a"
             ],
             [
              0.8888888888888888,
              "#fdca26"
             ],
             [
              1,
              "#f0f921"
             ]
            ],
            "type": "heatmap"
           }
          ],
          "heatmapgl": [
           {
            "colorbar": {
             "outlinewidth": 0,
             "ticks": ""
            },
            "colorscale": [
             [
              0,
              "#0d0887"
             ],
             [
              0.1111111111111111,
              "#46039f"
             ],
             [
              0.2222222222222222,
              "#7201a8"
             ],
             [
              0.3333333333333333,
              "#9c179e"
             ],
             [
              0.4444444444444444,
              "#bd3786"
             ],
             [
              0.5555555555555556,
              "#d8576b"
             ],
             [
              0.6666666666666666,
              "#ed7953"
             ],
             [
              0.7777777777777778,
              "#fb9f3a"
             ],
             [
              0.8888888888888888,
              "#fdca26"
             ],
             [
              1,
              "#f0f921"
             ]
            ],
            "type": "heatmapgl"
           }
          ],
          "histogram": [
           {
            "marker": {
             "pattern": {
              "fillmode": "overlay",
              "size": 10,
              "solidity": 0.2
             }
            },
            "type": "histogram"
           }
          ],
          "histogram2d": [
           {
            "colorbar": {
             "outlinewidth": 0,
             "ticks": ""
            },
            "colorscale": [
             [
              0,
              "#0d0887"
             ],
             [
              0.1111111111111111,
              "#46039f"
             ],
             [
              0.2222222222222222,
              "#7201a8"
             ],
             [
              0.3333333333333333,
              "#9c179e"
             ],
             [
              0.4444444444444444,
              "#bd3786"
             ],
             [
              0.5555555555555556,
              "#d8576b"
             ],
             [
              0.6666666666666666,
              "#ed7953"
             ],
             [
              0.7777777777777778,
              "#fb9f3a"
             ],
             [
              0.8888888888888888,
              "#fdca26"
             ],
             [
              1,
              "#f0f921"
             ]
            ],
            "type": "histogram2d"
           }
          ],
          "histogram2dcontour": [
           {
            "colorbar": {
             "outlinewidth": 0,
             "ticks": ""
            },
            "colorscale": [
             [
              0,
              "#0d0887"
             ],
             [
              0.1111111111111111,
              "#46039f"
             ],
             [
              0.2222222222222222,
              "#7201a8"
             ],
             [
              0.3333333333333333,
              "#9c179e"
             ],
             [
              0.4444444444444444,
              "#bd3786"
             ],
             [
              0.5555555555555556,
              "#d8576b"
             ],
             [
              0.6666666666666666,
              "#ed7953"
             ],
             [
              0.7777777777777778,
              "#fb9f3a"
             ],
             [
              0.8888888888888888,
              "#fdca26"
             ],
             [
              1,
              "#f0f921"
             ]
            ],
            "type": "histogram2dcontour"
           }
          ],
          "mesh3d": [
           {
            "colorbar": {
             "outlinewidth": 0,
             "ticks": ""
            },
            "type": "mesh3d"
           }
          ],
          "parcoords": [
           {
            "line": {
             "colorbar": {
              "outlinewidth": 0,
              "ticks": ""
             }
            },
            "type": "parcoords"
           }
          ],
          "pie": [
           {
            "automargin": true,
            "type": "pie"
           }
          ],
          "scatter": [
           {
            "fillpattern": {
             "fillmode": "overlay",
             "size": 10,
             "solidity": 0.2
            },
            "type": "scatter"
           }
          ],
          "scatter3d": [
           {
            "line": {
             "colorbar": {
              "outlinewidth": 0,
              "ticks": ""
             }
            },
            "marker": {
             "colorbar": {
              "outlinewidth": 0,
              "ticks": ""
             }
            },
            "type": "scatter3d"
           }
          ],
          "scattercarpet": [
           {
            "marker": {
             "colorbar": {
              "outlinewidth": 0,
              "ticks": ""
             }
            },
            "type": "scattercarpet"
           }
          ],
          "scattergeo": [
           {
            "marker": {
             "colorbar": {
              "outlinewidth": 0,
              "ticks": ""
             }
            },
            "type": "scattergeo"
           }
          ],
          "scattergl": [
           {
            "marker": {
             "colorbar": {
              "outlinewidth": 0,
              "ticks": ""
             }
            },
            "type": "scattergl"
           }
          ],
          "scattermapbox": [
           {
            "marker": {
             "colorbar": {
              "outlinewidth": 0,
              "ticks": ""
             }
            },
            "type": "scattermapbox"
           }
          ],
          "scatterpolar": [
           {
            "marker": {
             "colorbar": {
              "outlinewidth": 0,
              "ticks": ""
             }
            },
            "type": "scatterpolar"
           }
          ],
          "scatterpolargl": [
           {
            "marker": {
             "colorbar": {
              "outlinewidth": 0,
              "ticks": ""
             }
            },
            "type": "scatterpolargl"
           }
          ],
          "scatterternary": [
           {
            "marker": {
             "colorbar": {
              "outlinewidth": 0,
              "ticks": ""
             }
            },
            "type": "scatterternary"
           }
          ],
          "surface": [
           {
            "colorbar": {
             "outlinewidth": 0,
             "ticks": ""
            },
            "colorscale": [
             [
              0,
              "#0d0887"
             ],
             [
              0.1111111111111111,
              "#46039f"
             ],
             [
              0.2222222222222222,
              "#7201a8"
             ],
             [
              0.3333333333333333,
              "#9c179e"
             ],
             [
              0.4444444444444444,
              "#bd3786"
             ],
             [
              0.5555555555555556,
              "#d8576b"
             ],
             [
              0.6666666666666666,
              "#ed7953"
             ],
             [
              0.7777777777777778,
              "#fb9f3a"
             ],
             [
              0.8888888888888888,
              "#fdca26"
             ],
             [
              1,
              "#f0f921"
             ]
            ],
            "type": "surface"
           }
          ],
          "table": [
           {
            "cells": {
             "fill": {
              "color": "#EBF0F8"
             },
             "line": {
              "color": "white"
             }
            },
            "header": {
             "fill": {
              "color": "#C8D4E3"
             },
             "line": {
              "color": "white"
             }
            },
            "type": "table"
           }
          ]
         },
         "layout": {
          "annotationdefaults": {
           "arrowcolor": "#2a3f5f",
           "arrowhead": 0,
           "arrowwidth": 1
          },
          "autotypenumbers": "strict",
          "coloraxis": {
           "colorbar": {
            "outlinewidth": 0,
            "ticks": ""
           }
          },
          "colorscale": {
           "diverging": [
            [
             0,
             "#8e0152"
            ],
            [
             0.1,
             "#c51b7d"
            ],
            [
             0.2,
             "#de77ae"
            ],
            [
             0.3,
             "#f1b6da"
            ],
            [
             0.4,
             "#fde0ef"
            ],
            [
             0.5,
             "#f7f7f7"
            ],
            [
             0.6,
             "#e6f5d0"
            ],
            [
             0.7,
             "#b8e186"
            ],
            [
             0.8,
             "#7fbc41"
            ],
            [
             0.9,
             "#4d9221"
            ],
            [
             1,
             "#276419"
            ]
           ],
           "sequential": [
            [
             0,
             "#0d0887"
            ],
            [
             0.1111111111111111,
             "#46039f"
            ],
            [
             0.2222222222222222,
             "#7201a8"
            ],
            [
             0.3333333333333333,
             "#9c179e"
            ],
            [
             0.4444444444444444,
             "#bd3786"
            ],
            [
             0.5555555555555556,
             "#d8576b"
            ],
            [
             0.6666666666666666,
             "#ed7953"
            ],
            [
             0.7777777777777778,
             "#fb9f3a"
            ],
            [
             0.8888888888888888,
             "#fdca26"
            ],
            [
             1,
             "#f0f921"
            ]
           ],
           "sequentialminus": [
            [
             0,
             "#0d0887"
            ],
            [
             0.1111111111111111,
             "#46039f"
            ],
            [
             0.2222222222222222,
             "#7201a8"
            ],
            [
             0.3333333333333333,
             "#9c179e"
            ],
            [
             0.4444444444444444,
             "#bd3786"
            ],
            [
             0.5555555555555556,
             "#d8576b"
            ],
            [
             0.6666666666666666,
             "#ed7953"
            ],
            [
             0.7777777777777778,
             "#fb9f3a"
            ],
            [
             0.8888888888888888,
             "#fdca26"
            ],
            [
             1,
             "#f0f921"
            ]
           ]
          },
          "colorway": [
           "#636efa",
           "#EF553B",
           "#00cc96",
           "#ab63fa",
           "#FFA15A",
           "#19d3f3",
           "#FF6692",
           "#B6E880",
           "#FF97FF",
           "#FECB52"
          ],
          "font": {
           "color": "#2a3f5f"
          },
          "geo": {
           "bgcolor": "white",
           "lakecolor": "white",
           "landcolor": "#E5ECF6",
           "showlakes": true,
           "showland": true,
           "subunitcolor": "white"
          },
          "hoverlabel": {
           "align": "left"
          },
          "hovermode": "closest",
          "mapbox": {
           "style": "light"
          },
          "paper_bgcolor": "white",
          "plot_bgcolor": "#E5ECF6",
          "polar": {
           "angularaxis": {
            "gridcolor": "white",
            "linecolor": "white",
            "ticks": ""
           },
           "bgcolor": "#E5ECF6",
           "radialaxis": {
            "gridcolor": "white",
            "linecolor": "white",
            "ticks": ""
           }
          },
          "scene": {
           "xaxis": {
            "backgroundcolor": "#E5ECF6",
            "gridcolor": "white",
            "gridwidth": 2,
            "linecolor": "white",
            "showbackground": true,
            "ticks": "",
            "zerolinecolor": "white"
           },
           "yaxis": {
            "backgroundcolor": "#E5ECF6",
            "gridcolor": "white",
            "gridwidth": 2,
            "linecolor": "white",
            "showbackground": true,
            "ticks": "",
            "zerolinecolor": "white"
           },
           "zaxis": {
            "backgroundcolor": "#E5ECF6",
            "gridcolor": "white",
            "gridwidth": 2,
            "linecolor": "white",
            "showbackground": true,
            "ticks": "",
            "zerolinecolor": "white"
           }
          },
          "shapedefaults": {
           "line": {
            "color": "#2a3f5f"
           }
          },
          "ternary": {
           "aaxis": {
            "gridcolor": "white",
            "linecolor": "white",
            "ticks": ""
           },
           "baxis": {
            "gridcolor": "white",
            "linecolor": "white",
            "ticks": ""
           },
           "bgcolor": "#E5ECF6",
           "caxis": {
            "gridcolor": "white",
            "linecolor": "white",
            "ticks": ""
           }
          },
          "title": {
           "x": 0.05
          },
          "xaxis": {
           "automargin": true,
           "gridcolor": "white",
           "linecolor": "white",
           "ticks": "",
           "title": {
            "standoff": 15
           },
           "zerolinecolor": "white",
           "zerolinewidth": 2
          },
          "yaxis": {
           "automargin": true,
           "gridcolor": "white",
           "linecolor": "white",
           "ticks": "",
           "title": {
            "standoff": 15
           },
           "zerolinecolor": "white",
           "zerolinewidth": 2
          }
         }
        },
        "title": {
         "text": "Quantidade de nulos nas colunas que contêm nulos"
        },
        "xaxis": {
         "title": {
          "text": "Coluna"
         }
        },
        "yaxis": {
         "title": {
          "text": "Quantidade de Nulos por Coluna"
         }
        }
       }
      }
     },
     "metadata": {},
     "output_type": "display_data"
    }
   ],
   "source": [
    "nulos_por_coluna = df.isnull().sum()\n",
    "\n",
    "nulos_por_coluna = nulos_por_coluna[nulos_por_coluna > 0]\n",
    "\n",
    "fig = go.Figure()\n",
    "fig.add_bar(x=nulos_por_coluna.index, y=nulos_por_coluna.values)\n",
    "fig.update_layout(\n",
    "    title='Quantidade de nulos nas colunas que contêm nulos',\n",
    "    xaxis_title='Coluna',\n",
    "    yaxis_title='Quantidade de Nulos por Coluna'\n",
    ")\n",
    "fig.show()\n"
   ]
  },
  {
   "cell_type": "code",
   "execution_count": 78,
   "metadata": {},
   "outputs": [
    {
     "name": "stdout",
     "output_type": "stream",
     "text": [
      "Tem algum valor nulo na base:  False\n"
     ]
    }
   ],
   "source": [
    "# Para a coluna de Previous_pdn é possivel deduzir que não houve \n",
    "# uma produção anterior para esta ordem, logo é possivel preencher\n",
    "# os valores nulos com 0.\n",
    "\n",
    "# Para a coluna Total_pdn_m/c também é possivel preencher com valores \n",
    "# nulos, já que ela deveria representar um todo não é bom substituir \n",
    "# por uma média ou mediana. Além de que como a coluna \n",
    "# Total_pdn_per_order não apresenta valores nulos, irei deduzir que \n",
    "# os valores nulos ocorreram exatamente por conta da maquina não \n",
    "# ter registrado e por não ser necessário este total.\n",
    "\n",
    "df = df.fillna(0)\n",
    "\n",
    "print(\"Tem algum valor nulo na base: \", df.isnull().any().any())"
   ]
  },
  {
   "cell_type": "markdown",
   "metadata": {},
   "source": [
    "# Começo da análise\n",
    "\n",
    "Nesta analise sera investigado o desperdicio do tecido que foi exercido nesta fabrica."
   ]
  },
  {
   "cell_type": "markdown",
   "metadata": {},
   "source": [
    "## Desperdicio Total de Tecido e sua Evolução Pela Linha do Tempo"
   ]
  },
  {
   "cell_type": "code",
   "execution_count": 79,
   "metadata": {},
   "outputs": [
    {
     "data": {
      "image/png": "[encoded data removed]",
      "text/plain": [
       "<Figure size 1000x600 with 1 Axes>"
      ]
     },
     "metadata": {},
     "output_type": "display_data"
    }
   ],
   "source": [
    "import matplotlib.pyplot as plt\n",
    "import pandas as pd\n",
    "\n",
    "# Supondo que a coluna 'Month' seja uma string com o nome do mês\n",
    "# Converter a coluna 'Month' para datetime para garantir a ordem correta dos meses\n",
    "df['Month'] = pd.to_datetime(df['Month'], format='%B')\n",
    "\n",
    "# Calcular desperdício total e por mês\n",
    "total_desperdicio = df['Rej_and_cut_Piece'].sum()\n",
    "desperdicio_por_mes = df.groupby('Month')['Rej_and_cut_Piece'].sum()\n",
    "\n",
    "# Ordenar os meses\n",
    "desperdicio_por_mes = desperdicio_por_mes.sort_index()\n",
    "\n",
    "fig, ax = plt.subplots(figsize=(10, 6))\n",
    "\n",
    "# Gráfico de desperdício por mês\n",
    "desperdicio_por_mes.plot(kind='bar', ax=ax, color='skyblue', label='Desperdício por mês')\n",
    "\n",
    "# Colocando os titulos do gráfico\n",
    "ax.set_title('Desperdício Total e por Mês')\n",
    "ax.set_xlabel('Mês')\n",
    "ax.set_ylabel('Desperdício')\n",
    "\n",
    "# Adicionar o total à legenda\n",
    "ax.legend(title=f'Desperdício total: {total_desperdicio:.2f}')\n",
    "\n",
    "# Ajustando os rótulos para exibir os meses corretamente\n",
    "ax.set_xticklabels([month.strftime('%B') for month in desperdicio_por_mes.index], rotation=45)\n",
    "\n",
    "plt.tight_layout()\n",
    "plt.show()"
   ]
  },
  {
   "cell_type": "markdown",
   "metadata": {},
   "source": [
    "## Analise por periodo do ano"
   ]
  },
  {
   "cell_type": "code",
   "execution_count": 80,
   "metadata": {},
   "outputs": [
    {
     "data": {
      "image/png": "[encoded data removed]",
      "text/plain": [
       "<Figure size 800x500 with 1 Axes>"
      ]
     },
     "metadata": {},
     "output_type": "display_data"
    }
   ],
   "source": [
    "import matplotlib.pyplot as plt\n",
    "\n",
    "# Criar coluna para o trimestre\n",
    "df['Trimestre'] = pd.to_datetime(df['Month'], format='%B').dt.quarter\n",
    "\n",
    "# Calcular desperdício médio por trimestre\n",
    "desperdicio_por_trimestre = df.groupby('Trimestre')['Rej_and_cut_Piece'].mean()\n",
    "\n",
    "# Criar gráfico de barras\n",
    "plt.figure(figsize=(8, 5))\n",
    "\n",
    "# Gráfico de barras para desperdício médio por trimestre\n",
    "desperdicio_por_trimestre.plot(kind='bar', color='lightcoral')\n",
    "\n",
    "# Personalizar o gráfico\n",
    "plt.title('Desperdício Médio por Trimestre')\n",
    "plt.xlabel('Trimestre')\n",
    "plt.ylabel('Desperdício Médio')\n",
    "plt.xticks(rotation=0)  # Manter os rótulos dos trimestres legíveis\n",
    "plt.tight_layout()\n",
    "\n",
    "# Exibir gráfico\n",
    "plt.show()"
   ]
  },
  {
   "cell_type": "markdown",
   "metadata": {},
   "source": [
    "## Percentual de Desperdicio por Ordem"
   ]
  },
  {
   "cell_type": "code",
   "execution_count": 81,
   "metadata": {},
   "outputs": [
    {
     "data": {
      "application/vnd.plotly.v1+json": {
       "config": {
        "plotlyServerURL": "https://plot.ly"
       },
       "data": [
        {
         "marker": {
          "color": "skyblue"
         },
         "type": "bar",
         "x": [
          "(13111-1)",
          "12162-5",
          "12207-8",
          "12228-1",
          "12249-6(B)",
          "12277-5",
          "12284-1",
          "12284-1(A)",
          "12285-4",
          "12286-2",
          "12301-1",
          "12301-1(A)",
          "12305-1",
          "12305-1(A)",
          "12307-2",
          "12307-3",
          "12308-1",
          "12308-2",
          "12308-2(A)",
          "12308-4",
          "12310-3",
          "12313-1",
          "12313-2",
          "12313-3 +",
          "12314-1",
          "12314-2",
          "12314-3",
          "12315-1",
          "12316-1",
          "12317-1",
          "12317-2",
          "12320-1",
          "12320-1(A)",
          "12321-1",
          "12322-1",
          "12322-2",
          "12324-2",
          "12324-3",
          "12325-1",
          "12326-1",
          "12326-2",
          "12326-3",
          "12328-2",
          "12328-3",
          "12329-1",
          "12330-1",
          "12331-1",
          "13001-1",
          "13001-2",
          "13001-3",
          "13001-3(A)",
          "13002-1",
          "13002-2",
          "13003-2",
          "13003-2(A)",
          "13005-1",
          "13006-1",
          "13006-1(A)",
          "13006-2",
          "13006-2(A)",
          "13006-3",
          "13007-1",
          "13007-2",
          "13008-1",
          "13008-2",
          "13009-1",
          "13009-2",
          "13010-1",
          "13011-2",
          "13011-3",
          "13011-4",
          "13011-5",
          "13013-11",
          "13013-12",
          "13013-18",
          "13013-19",
          "13013-21(A)",
          "13013-4",
          "13013-5",
          "13013-6(A)",
          "13014-1",
          "13014-10",
          "13014-11",
          "13014-12(A)",
          "13014-13",
          "13014-14",
          "13014-3",
          "13014-3(A)",
          "13014-4(A)",
          "13014-5",
          "13014-9(A)",
          "13015-1",
          "13015-1(A)",
          "13016-1",
          "13017-1",
          "13018-1",
          "13018-2",
          "13019-2",
          "13021-1",
          "13021-2",
          "13022-1",
          "13023-1",
          "13023-1(A)",
          "13023-2",
          "13023-3",
          "13024-1",
          "13025-1",
          "13026-1",
          "13027-1",
          "13029-1",
          "13029-1(A)",
          "13030-1",
          "13031-1",
          "13031-2",
          "13031-3",
          "13031-4",
          "13033-1",
          "13034-1",
          "13035-1+",
          "13035-1+2",
          "13035-2",
          "13037-1",
          "13038-1(A)",
          "13038-1+",
          "13038-2",
          "13040-1",
          "13041-1",
          "13041-2",
          "13041-3",
          "13042-1",
          "13042-2",
          "13042-2(A)",
          "13042-3",
          "13042-4",
          "13043-1",
          "13043-1(A)",
          "13044-1",
          "13044-3",
          "13045-1",
          "13046-1",
          "13047-2",
          "13048-1",
          "13048-1(A)",
          "13049-1",
          "13049-2",
          "13049-3",
          "13050-1",
          "13050-2",
          "13050-3",
          "13051-1",
          "13051-1(A)",
          "13052-1",
          "13052-1(A)",
          "13052-2",
          "13053-1",
          "13054-1",
          "13055-1",
          "13056-1",
          "13056-2",
          "13056-3",
          "13056-3(A)",
          "13056-4",
          "13056-5",
          "13056-6",
          "13056-6(A)",
          "13056-7",
          "13056-7(A)",
          "13059-3",
          "13061-1",
          "13061-2",
          "13061-2(A)",
          "13064-2",
          "13064-3",
          "13064-4",
          "13064-5",
          "13064-5(A)",
          "13064-6",
          "13064-6(A)",
          "13066-1",
          "13067-1",
          "13067-2",
          "13067-3",
          "13067-4",
          "13067-5",
          "13068-1",
          "13068-2",
          "13070-1",
          "13070-2",
          "13070-2(A)",
          "13070-3",
          "13070-4",
          "13070-5",
          "13070-6",
          "13070-6(A)",
          "13070-7",
          "13070-8",
          "13070-9",
          "13071-1",
          "13071-10",
          "13071-11",
          "13071-11-A",
          "13071-2",
          "13071-2(A)",
          "13071-3",
          "13071-3(A)",
          "13071-4",
          "13071-5",
          "13071-6",
          "13071-7",
          "13071-8",
          "13071-9",
          "13072-1",
          "13072-10",
          "13072-11",
          "13072-2",
          "13072-2(A)",
          "13072-3",
          "13072-4",
          "13072-5",
          "13072-6",
          "13072-7",
          "13072-8",
          "13072-9",
          "13072-9(A)",
          "13073-1",
          "13073-2",
          "13073-2(A)",
          "13073-3",
          "13074-1",
          "13075-1",
          "13075-1(A)",
          "13075-10",
          "13075-11",
          "13075-12",
          "13075-13",
          "13075-14",
          "13075-2",
          "13075-3",
          "13075-4",
          "13075-5",
          "13075-5(A)",
          "13075-6",
          "13075-7",
          "13075-8",
          "13075-9",
          "13076-1",
          "13076-1(A)",
          "13077-1",
          "13078-1",
          "13078-1(A)",
          "13078-2",
          "13078-3",
          "13079-1",
          "13079-2",
          "13081-1",
          "13082-1",
          "13082-10",
          "13082-2",
          "13082-3",
          "13082-4",
          "13082-5",
          "13082-6",
          "13082-7",
          "13082-8",
          "13082-9",
          "13083-1",
          "13083-2",
          "13083-3",
          "13083-4",
          "13083-5",
          "13083-6",
          "13083-7",
          "13083-8",
          "13084-1",
          "13084-1(A)",
          "13085-1",
          "13086-1",
          "13086-10",
          "13086-2",
          "13086-3",
          "13086-4",
          "13086-5",
          "13086-6",
          "13086-7",
          "13086-8",
          "13086-8(A)",
          "13086-9",
          "13087-1",
          "13087-2",
          "13087-3",
          "13087-4",
          "13087-5",
          "13087-6",
          "13088-1",
          "13088-2",
          "13088-3",
          "13088-4",
          "13088-5",
          "13088-6",
          "13088-7",
          "13088-8",
          "13088-9",
          "13090-1",
          "13090-2",
          "13091-1",
          "13091-1(A)",
          "13091-10",
          "13091-11",
          "13091-2",
          "13091-3",
          "13091-4",
          "13091-5",
          "13091-6",
          "13091-7",
          "13091-7(A)",
          "13091-8",
          "13091-9",
          "13092-3(A)",
          "13092-4(A)",
          "13093-1",
          "13093-2",
          "13093-3",
          "13093-3(A)",
          "13093-4",
          "13093-4(A)",
          "13094-1",
          "13094-2",
          "13094-3",
          "13095-1",
          "13095-1(A)",
          "13095-2",
          "13096-1",
          "13096-2",
          "13096-3",
          "13096-4",
          "13096-5",
          "13098-1",
          "13098-2",
          "13098-3",
          "13098-4",
          "13098-5",
          "13099-1",
          "13099-2",
          "13101-1",
          "13102-2",
          "13103-1",
          "13103-10",
          "13103-2",
          "13103-3",
          "13103-4",
          "13103-5",
          "13103-6",
          "13103-7",
          "13103-8",
          "13103-9",
          "13104-1",
          "13108-1",
          "13108-10",
          "13108-11",
          "13108-12",
          "13108-13",
          "13108-14",
          "13108-15",
          "13108-16",
          "13108-17",
          "13108-18",
          "13108-19",
          "13108-2",
          "13108-20",
          "13108-21",
          "13108-22",
          "13108-22(A)",
          "13108-23",
          "13108-3",
          "13108-5",
          "13108-6",
          "13108-7",
          "13108-8",
          "13108-9",
          "13110-1",
          "13111-1",
          "13112-1",
          "13112-2",
          "13112-3",
          "13113-1",
          "13113-2",
          "13113-2(A)",
          "13113-2(B)",
          "13115-1",
          "13116-1",
          "13116-2",
          "13117-1",
          "13118-2",
          "13120-2",
          "13121-3",
          "13121-3(A)",
          "13121-4",
          "13122-1",
          "13122-2",
          "13124-1",
          "13125-1",
          "13126-1",
          "13127-1",
          "13128-1",
          "13129-1",
          "13129-1(A)",
          "13130-1",
          "13130-1(A)",
          "13130-2",
          "13130-3",
          "13131-1",
          "13132-1",
          "13132-2",
          "13132-2(A)",
          "13132-3",
          "13132-3(A)",
          "13132-4",
          "13132-4(A)",
          "13132-5",
          "13132-6",
          "13132-6(A)",
          "13132-7",
          "13132-8",
          "13133-1",
          "13134-1",
          "13135-1",
          "13135-2",
          "13136-1",
          "13136-1(A)",
          "13136-10",
          "13136-11",
          "13136-12",
          "13136-2",
          "13136-3",
          "13136-4",
          "13136-5",
          "13136-6",
          "13136-7",
          "13136-8",
          "13136-9",
          "13137-1",
          "13137-1-A",
          "13139--2",
          "13139-1",
          "13139-10",
          "13139-11",
          "13139-3",
          "13139-4",
          "13139-5",
          "13139-6",
          "13139-7",
          "13139-8",
          "13139-9",
          "13142-3",
          "13142-4",
          "13143-1",
          "13144-1",
          "13144-2",
          "13145-1",
          "13145-1(A)",
          "13146-1",
          "13147-1",
          "13147-2",
          "13147-2(A)",
          "13148-1(A)",
          "13148-11(A)",
          "13148-12",
          "13148-13",
          "13148-13A",
          "13148-14",
          "13148-14(A)",
          "13148-15",
          "13148-16",
          "13148-17",
          "13148-17-A",
          "13148-18",
          "13148-2",
          "13148-3",
          "13148-3(A)",
          "13148-4",
          "13148-5",
          "13148-6",
          "13148-7",
          "13148-8",
          "13148-9",
          "13148-9(A)",
          "13150-1",
          "13151-1",
          "13152-1",
          "13152-2",
          "13152-3",
          "13152-4",
          "13152-5",
          "13152-6",
          "13152-7",
          "13152-7(A)",
          "13152-8",
          "13153-1",
          "13154-1",
          "13155-1",
          "13156-1",
          "13157-1",
          "13158-2",
          "13161-1",
          "13162-1",
          "13162-1(A)",
          "13162-2",
          "13162-3",
          "13162-3(A)",
          "13162-4",
          "13162-5(A)",
          "13162-6",
          "13162-6(A)",
          "13162-7",
          "13162-7(A)",
          "13163-1",
          "13165-1",
          "13165-2",
          "13165-3",
          "13165-4",
          "13165-5",
          "13165-6",
          "13165-7",
          "13165-8",
          "13165-9",
          "13167-1",
          "13168-1",
          "13168-1(A)",
          "13168-2",
          "13168-3",
          "13168-4",
          "13168-5",
          "13169-1",
          "13169-10",
          "13169-11",
          "13169-12",
          "13169-13",
          "13169-13(A",
          "13169-2",
          "13169-3",
          "13169-4",
          "13169-5",
          "13169-6",
          "13169-7",
          "13169-8",
          "13169-9",
          "13171-1",
          "13172-1",
          "13172-1(A)",
          "13173-1",
          "13175-1",
          "13175-1(A)",
          "13176-2",
          "13176-3",
          "13176-4",
          "13178-1",
          "13178-2",
          "13178-3",
          "13179-1",
          "13179-2",
          "13180-1",
          "13180-1(A)",
          "13182-1",
          "13184-1",
          "13184-2",
          "13184-3",
          "13184-5",
          "13185-1",
          "13188-1",
          "13188-2",
          "13188-3",
          "13188-3(A)",
          "13189-1",
          "13189-2",
          "13189-3",
          "13191-1",
          "13191-1(A)",
          "13191-2",
          "13193-1",
          "13193-2",
          "13195-1",
          "13196-1",
          "13198-1",
          "13199-1",
          "13200-1",
          "13200-1(A)",
          "13200-2",
          "13200-3",
          "13201-1",
          "13201-2",
          "13201-2(A)",
          "13201-3",
          "13202-1",
          "13203-1",
          "13204-1",
          "13204-10",
          "13204-2",
          "13204-3",
          "13204-4",
          "13204-5",
          "13204-6",
          "13204-7",
          "13204-8",
          "13204-9",
          "13205-1",
          "13205-2",
          "13212-1",
          "13212-2",
          "13212-3",
          "13212-4",
          "13212-4(A)",
          "13212-6",
          "13212-7",
          "13213-1",
          "13213-1(A)",
          "13214-1",
          "13215-1",
          "13217-1",
          "13217-2",
          "13219-1",
          "13219-1(A)",
          "13219-2",
          "13220-1",
          "13220-2",
          "13220-3",
          "13220-4",
          "13220-5",
          "13220-6",
          "13223-1",
          "13223-2",
          "13223-3",
          "13223-4",
          "13223-5",
          "13223-6",
          "13224-1",
          "13225-1",
          "13225-2",
          "13225-3",
          "13226-1",
          "13228-1",
          "13228-2",
          "13228-3",
          "13228-3(A)",
          "13228-4",
          "13228-5",
          "13228-6",
          "13228-7",
          "13229-1",
          "13229-2",
          "13229-3",
          "13229-4",
          "13229-5",
          "13229-6",
          "13229-7",
          "13229-8",
          "13229-9",
          "13230-1",
          "13234-1",
          "13235-1",
          "13235-1(A)",
          "13235-2",
          "13236-1",
          "13236-2",
          "13237-1",
          "13237-2",
          "13238-1",
          "13238-1(A)",
          "13238-2",
          "13239-1",
          "13239-1(A)",
          "13239-2",
          "13239-3",
          "13239-4",
          "13240-1",
          "13240-2",
          "13241-1",
          "13241-2",
          "13244-1",
          "13245-1",
          "13246-1",
          "13246-10",
          "13246-11",
          "13246-12",
          "13246-13",
          "13246-2",
          "13246-3",
          "13246-4",
          "13246-5",
          "13246-8",
          "13246-9",
          "13247-1",
          "13247-2",
          "13247-3",
          "13247-4",
          "13248-1",
          "13250-1",
          "13250-1(A)",
          "13250-2",
          "13250-2(A)",
          "13252-1",
          "13252-12",
          "13252-13",
          "13252-14",
          "13252-15",
          "13252-16",
          "13252-18",
          "13252-19",
          "13252-2",
          "13252-20",
          "13252-21",
          "13252-22",
          "13252-24",
          "13252-25",
          "13252-26",
          "13252-3",
          "13252-4",
          "13252-5",
          "13252-6",
          "13252-7",
          "13252-8",
          "13253-1",
          "13254-1",
          "13254-2",
          "13254-4",
          "13254-5",
          "13255-1",
          "13255-2",
          "13256-1",
          "13256-2",
          "13256-3",
          "13256-4",
          "13256-5",
          "13256-6",
          "13256-7",
          "13256-8",
          "13256-9",
          "13257-1",
          "13257-1(A)",
          "13257-2",
          "13257-2(A)",
          "13257-3",
          "13257-3(A)",
          "13258-1",
          "13259-1",
          "13259-2",
          "13259-3",
          "13259-4",
          "13260-1",
          "13260-2",
          "13260-3",
          "13261-1",
          "13262-1",
          "13262-2",
          "13264-1",
          "13264-2",
          "13265-1",
          "13265-2",
          "13265-3",
          "13267-1",
          "13267-2",
          "13268-1",
          "13269-1",
          "13272-2",
          "13272-7",
          "13273-2",
          "13274-1",
          "13276-1",
          "13276-2",
          "13276-3",
          "13277-1",
          "13277-19",
          "13277-3",
          "13277-6",
          "13278-1",
          "13295-1",
          "13295-2",
          "13296-2",
          "13299-1",
          "13303-1",
          "94-4",
          "94-5",
          "Beam",
          "ED-13001",
          "Exc-Beam",
          "Exces Beam",
          "Excess ",
          "Ext-13002-1",
          "Loom SF",
          "SF-(13137)",
          "SF-11037",
          "SF-11388",
          "SF-11437",
          "SF-12022",
          "SF-12065",
          "SF-12155",
          "SF-12212",
          "SF-12253",
          "SF-12256",
          "SF-12263",
          "SF-12312",
          "SF-12317",
          "SF-12318",
          "SF-12319",
          "SF-12320",
          "SF-12321",
          "SF-12322",
          "SF-12323",
          "SF-13001",
          "SF-13002",
          "SF-13003",
          "SF-13004",
          "SF-13005",
          "SF-13006",
          "SF-13007",
          "SF-13010",
          "SF-13011",
          "SF-13012",
          "SF-13013",
          "SF-13018",
          "SF-13019",
          "SF-13020",
          "SF-13021",
          "SF-13022",
          "SF-13023+24",
          "SF-13025",
          "SF-13026+27",
          "SF-13028",
          "SF-13029+30",
          "SF-13031+32",
          "SF-13034",
          "SF-13035",
          "SF-13036",
          "SF-13037",
          "SF-13038",
          "SF-13039",
          "SF-13040",
          "SF-13041",
          "SF-13042+43",
          "SF-13044",
          "SF-13046",
          "SF-13047",
          "SF-13048+49",
          "SF-13050",
          "SF-13051",
          "SF-13054",
          "SF-13055",
          "SF-13059",
          "SF-13060",
          "SF-13061",
          "SF-13062",
          "SF-13063",
          "SF-13064",
          "SF-13065",
          "SF-13066",
          "SF-13067",
          "SF-13069",
          "SF-13071",
          "SF-13072",
          "SF-13072-A",
          "SF-13073",
          "SF-13074",
          "SF-13075",
          "SF-13077",
          "SF-13078",
          "SF-13079",
          "SF-13080",
          "SF-13081",
          "SF-13082",
          "SF-13084",
          "SF-13085",
          "SF-13086",
          "SF-13087",
          "SF-13088",
          "SF-13089",
          "SF-13090",
          "SF-13091",
          "SF-13092",
          "SF-13094",
          "SF-13095",
          "SF-13102",
          "SF-13104",
          "SF-13105",
          "SF-13106",
          "SF-13107",
          "SF-13108",
          "SF-13109",
          "SF-13110",
          "SF-13111",
          "SF-13112",
          "SF-13114",
          "SF-13115",
          "SF-13116",
          "SF-13117",
          "SF-13118",
          "SF-13119",
          "SF-13120",
          "SF-13121",
          "SF-13124",
          "SF-13125",
          "SF-13126",
          "SF-13127",
          "SF-13129",
          "SF-13130",
          "SF-13131",
          "SF-13132",
          "SF-13133",
          "SF-13134",
          "SF-13135",
          "SF-13136",
          "SF-13139",
          "SF-13140",
          "SF-13141",
          "SF-13142",
          "SF-13143",
          "SF-13144",
          "SF-13149",
          "SF-13150",
          "SF-13151",
          "SF-13152",
          "SF-13154",
          "SF-13155",
          "SF-13157",
          "SF-13158",
          "SF-13163",
          "SF-13164",
          "SF-13165",
          "SF-13166",
          "SF-13167",
          "SF-13168",
          "SF-13169",
          "SF-13174",
          "SF-13175",
          "SF-13176",
          "SF-13185",
          "SF-13186",
          "SF-13187",
          "SF-13188",
          "SF-13189",
          "SF-13190",
          "SF-13191",
          "SF-13192",
          "SF-13193",
          "SF-13194",
          "SF-13195",
          "SF-13197",
          "SF-13198",
          "SF-13200",
          "SF-13205",
          "SF-13213",
          "SF-13214",
          "SF-13217",
          "SF-13218",
          "SF-13220",
          "SF-13221",
          "SF-13222",
          "SF-13223",
          "SF-13224",
          "SF-13227",
          "SF-13228",
          "SF-13229",
          "SF-13230",
          "SF-13231",
          "SF-13232",
          "SF-13233",
          "SF-13234",
          "SF-13235",
          "SF-13236",
          "SF-13237",
          "SF-13238",
          "SF-13239",
          "SF-13240",
          "SF-13241",
          "SF-13242",
          "SF-13243",
          "SF-13244",
          "SF-13245",
          "SF-13246",
          "SF-13247",
          "SF-13248",
          "SF-13249",
          "SF-13250",
          "SF-13251",
          "SF-13252",
          "SF-13253",
          "SF-13254",
          "SF-13255",
          "SF-13256",
          "SF-13264",
          "SF-13265",
          "SF-13266",
          "SF-13267",
          "SF-13270",
          "SF-13271",
          "SF-13272",
          "SF-13273",
          "SF-13275",
          "SF-13277",
          "SF-13278",
          "SF-13279",
          "SF-13280",
          "SF-13281",
          "SF-13282",
          "SF-13283",
          "SF-13286",
          "SF-13296",
          "SF-1349",
          "SF13008",
          "SF13268",
          "SF13269"
         ],
         "y": [
          0,
          20.52255856954736,
          0.8745503960139751,
          0.3658879819870532,
          0,
          0.6594656054576464,
          null,
          1.7268747339814257,
          0,
          null,
          null,
          3.1877729257641922,
          null,
          2.387914230019493,
          null,
          null,
          null,
          null,
          1.035288057950134,
          1.174496644295302,
          0.29860128870029856,
          null,
          null,
          null,
          0.4975599520139418,
          0.481406292642382,
          0.8446609327969633,
          null,
          null,
          null,
          1.6309415963081644,
          null,
          1.8459579885423298,
          0.1026669317311772,
          1.2154696132596685,
          1.7830045523520486,
          null,
          0.3494891801767988,
          null,
          0.23708241540449534,
          1.448551827544823,
          1.8169766162164458,
          null,
          null,
          0.5950887581288243,
          0.6842920725680384,
          1.632533470680713,
          0.47355531103431153,
          0.563573197630748,
          0,
          0,
          0.870424576364318,
          0.8204620538696311,
          0.47889588363372326,
          17.597044320927658,
          0.0811151013096314,
          0.705137659143389,
          1.4031639572727077,
          0.5701639711162791,
          0.5590745307732273,
          2.6034712950600802,
          5.601884696507602,
          3.2361958083299833,
          null,
          0.6092245328565403,
          0.2247096969246618,
          0.5590281606036857,
          1.1627977183756524,
          0.4191616766467065,
          0,
          0,
          1.6967401390001802,
          0,
          0,
          0.49249622926093506,
          0,
          0,
          0.235650563878135,
          0.4494515614063208,
          14.285714285714285,
          2.551707216795645,
          0,
          0,
          0,
          0,
          0.319840862422998,
          0,
          0,
          0,
          0,
          0,
          1.9412891102187189,
          14.566063271866014,
          0.04942542938341776,
          0.4760062880719976,
          0.5712400925926976,
          0.8738830546934447,
          0.7156821154837689,
          0.4394487692421305,
          null,
          0.2736739506162063,
          1.1857540880404236,
          100,
          1.1956451277992621,
          0.7787570443164814,
          0.14793028811682504,
          0.8078661204549203,
          0.35689786900235,
          1.0626700735551837,
          1.8760543313082436,
          0.9429118395615201,
          0.2610539552080397,
          9.592246496561689,
          10.265255488603618,
          6.23506927854754,
          13.386222132958427,
          3.3989813352253098,
          0.0809502426778851,
          null,
          null,
          0.456538720041388,
          1.9827354386660838,
          76.65245202558636,
          null,
          0.5290762339522957,
          10.833336566236007,
          null,
          0.16486007416164175,
          0,
          0.12378209421028036,
          1.395042683418032,
          20.840170659665244,
          5.235580804010545,
          0.236657691004475,
          1.6054870567411548,
          1.8366957044060135,
          2.8138576145314387,
          0.3606807815014614,
          0.1817488670031533,
          13.394323246539996,
          1.16487405440669,
          2.339386770379933,
          1.3012296284226983,
          5.231242028322789,
          0.12012035800111594,
          0.3654485805840634,
          0.5642783927213281,
          0.42675178643092276,
          0.4146104018996988,
          13.34416274324219,
          4.487054797596877,
          0.40720527546260094,
          0.6116959031961989,
          0.733614771047926,
          0,
          0.3308869177089642,
          0.1834527749808694,
          4.4450771128252775,
          0,
          2.0031476158435555,
          3.3753875243141134,
          0.27364864864864863,
          0,
          1.004492522739749,
          38.49373090752401,
          0.5791894637597473,
          0,
          1.8918068454795078,
          0.026693845855173752,
          8.493832501181881,
          1.8263032949581193,
          0.21004894585867184,
          0.06860854309204431,
          0.23922007898226924,
          0.45626426948173693,
          0.2303532561542473,
          0.4444859337359237,
          0.40537307843743103,
          5.111130141628603,
          0,
          0,
          0,
          0,
          0.3670742769555839,
          0.20254808187102727,
          14.480525145406148,
          5.1164670582092775,
          6.348962841908975,
          2.165659540544118,
          0.48082579699758804,
          1.6583409087122052,
          6.142463470928192,
          7.5624070199096085,
          1.408782369979614,
          2.564967117042458,
          2.540497335993195,
          5.948939657715837,
          0.4897208303057441,
          2.5627002379057933,
          3.031395033076042,
          2.790938718179785,
          0.6880433745739266,
          0.6851826659062253,
          7.6920024370391795,
          1.9809765722771364,
          4.609246551961865,
          6.4347347544353495,
          0.07376777674590175,
          1.4030801060568872,
          3.9966309855402593,
          0.6476181529304972,
          2.0439464563347647,
          16.120463133285394,
          0,
          26.42435019562105,
          28.729838709677416,
          13.791427320617899,
          1.6825361123606737,
          25.861108544424937,
          0.5309526646973979,
          15.95385287740192,
          2.9145182639001534,
          22.088810401288974,
          17.679104783325247,
          4.36694402882506,
          1.410178429298412,
          2.467846482399284,
          null,
          1.7184251030445754,
          2.1477816191350465,
          0.8270042173365254,
          5.219559261862994,
          0.298941035156878,
          6.437633251732186,
          14.596658035402687,
          0.1348096310853345,
          0.052641768497824405,
          1.17103814478026,
          3.228498458325491,
          1.5567377066210397,
          1.2399920021554134,
          1.7941937376032346,
          0.20055470111944282,
          1.1994334199658416,
          2.073240046600258,
          2.050155348051615,
          1.6720901379388127,
          8.206926717912877,
          5.817933252299436,
          1.2211901341703928,
          0.9018824131952518,
          1.0786731057168297,
          5.98832454700374,
          0.4412836154435227,
          1.8274609203530514,
          1.0148793012650805,
          0.44610158312894116,
          8.535295522318323,
          12.006735748182058,
          0.05891459808615635,
          0.052278469983445146,
          0.03591046324497586,
          0,
          2.356314642095279,
          3.713013731986294,
          0.04868484545974116,
          0.19403238020267674,
          0,
          0,
          0,
          0.15352823099228624,
          1.648455570032638,
          0.0941376523710011,
          9.634371630306887,
          67.62589928057554,
          0.4816034468301444,
          8.221371822677778,
          0.0849234640385825,
          5.17557672483232,
          7.767224849827822,
          4.974340924942867,
          6.30141820067305,
          6.144548196651891,
          21.807505776022428,
          1.0944935161567397,
          0,
          8.022358637073985,
          5.475793831327608,
          5.899970195067066,
          15.291098259501183,
          8.580748407032242,
          5.911708137980632,
          0.2163678569535771,
          0.4947533381358879,
          6.383409739861285,
          9.831035770474532,
          15.165046206706224,
          0.7494837581338812,
          12.04437411046584,
          0,
          8.00505267529645,
          0,
          0.5016402138878605,
          0.8084198952872041,
          14.490155503935163,
          6.8204025796365055,
          0,
          1.9370151576836692,
          4.634011038994873,
          8.086039568873607,
          9.350131460226926,
          13.109970044356087,
          2.181399015988989,
          4.748664808064902,
          2.7581570129611173,
          0,
          2.5744507389855595,
          36.401098901098905,
          32.78761061946902,
          0.4758234099333851,
          0.7249476793154573,
          3.573576573893735,
          1.5978323285958325,
          3.089522591919131,
          1.8193150139725236,
          null,
          36.54618473895582,
          1.4241441273827895,
          14.882507651666387,
          2.2074478786701865,
          6.172192590071626,
          0.034624040625540996,
          0.09685324337648266,
          0.4585726888459519,
          0.8744369504876296,
          0,
          15.943135892397885,
          0,
          17.13860241820768,
          17.50880093825404,
          16.393233309998088,
          1.1303803030736133,
          0.4411031136392179,
          0.4860961592606701,
          0.2197802197802198,
          3.5370164125429318,
          6.649439866041343,
          5.535099807060859,
          0.2944221263577901,
          21.11870549575873,
          0.905360015247398,
          0.6953128468824966,
          0.6376581655271467,
          1.24073403678686,
          0.17707628327097352,
          0.2891700919444879,
          4.830907074195063,
          10.421792183130922,
          15.787826100867873,
          1.005412366875211,
          8.866319815871966,
          3.5186868366724213,
          6.000154105783063,
          12.195955823406804,
          0,
          0,
          1.3920620958783827,
          14.074296266294757,
          0,
          0.636122937946289,
          22.079636910053665,
          31.663807890222984,
          9.327718907385519,
          7.6349656429949375,
          7.298718958601851,
          1.034078982591345,
          3.681877683720667,
          5.925186281550656,
          1.445228439921892,
          8.675654202812048,
          0.469197828688477,
          1.0363698960615237,
          6.383614653562641,
          1.2284242935212017,
          0.8899273219081335,
          8.83068779579257,
          2.481730281275115,
          2.381582815325039,
          1.0490049975696405,
          3.5814464862675943,
          0.8276289355480587,
          1.8272198932436745,
          null,
          0.38389859251994485,
          3.8038503633960232,
          2.535473327074253,
          27.450438675642516,
          0.14306151645207438,
          5.074696742151989,
          0.1770505008423612,
          1.2044694812841326,
          1.6901799664626953,
          1.7292237571698739,
          3.3496676812263186,
          3.7170800790758576,
          49.740806243178106,
          7.2979391214104465,
          0,
          7.941592588074684,
          5.617784999736731,
          6.269204279075949,
          1.4622106363795904,
          1.3762580929636399,
          0.4559373086864839,
          0.9212329341184428,
          1.0660980810234542,
          5.4511480553227925,
          1.6046868342420901,
          1.0127896275211132,
          5.770097880945605,
          null,
          100,
          1.842344443220094,
          0,
          0.7814604144191699,
          1.41911324867418,
          3.4603207419687867,
          6.707775003598264,
          3.490327018953231,
          0.5717176871943237,
          6.647301930097524,
          0.7913376270535178,
          9.282220920202096,
          20.772898873592347,
          5.758931047089876,
          1.6910963450142455,
          0.20957558767361206,
          0.44906600629269733,
          0.3005108135295218,
          1.9271145299930197,
          2.025215630456372,
          0,
          0,
          null,
          0,
          0,
          0,
          0,
          0,
          0,
          0,
          13.265993265993266,
          2.5,
          7.985875614290769,
          0.6563000850392228,
          0.3227675297592659,
          1.2456767608258124,
          1.8149851135382948,
          1.3207720272635015,
          0.6082694281834071,
          0.6885645762701974,
          1.5233090050611697,
          2.0283738691634396,
          2.028029091378191,
          19.68798751950078,
          12.123573844742575,
          0.7620700409824492,
          2.5195169614340736,
          2.7966183008540284,
          8.792801549548676,
          2.830884247433575,
          1.1496864843591148,
          0.7451235374707863,
          3.0874907855441345,
          51.02792541604949,
          0,
          0.12043839576056847,
          9.99434831958086,
          3.729264772564272,
          0,
          17.057956638107278,
          0.08760951188986232,
          0,
          1.0872403042947667,
          9.518119560270046,
          1.7623457606026096,
          0.6365043520257025,
          0.18727084149944964,
          0.3712189412330843,
          0.38279785851298725,
          0.7590479169516933,
          0,
          0.13551311963905102,
          0.2949862354197311,
          1.391597793850565,
          6.86364432002622,
          7.370897143427004,
          0.42045368368714586,
          0.5485234937958978,
          6.8827301888605605,
          8.008644343090117,
          11.395432702022521,
          4.349533202816788,
          1.0136157955226117,
          23.849051958490023,
          1.7937219730941703,
          0.23752034808077507,
          10.52458353870182,
          2.0455995202462938,
          25.85204527533831,
          9.142296138000498,
          13.941584328531505,
          3.702600543590359,
          1.4836912568235343,
          4.036123813161626,
          4.6914013234055485,
          8.7615440389649,
          1.6197435913650526,
          0,
          0.7603786598524571,
          0.14960355059093403,
          0.8121125391965235,
          0.23227172539891233,
          13.271999995396461,
          12.263105975684503,
          4.502821278102255,
          14.247551566564383,
          0,
          10.29210787487552,
          0.4047097239692417,
          5.530349160284486,
          12.656554041977643,
          0.9513093289689033,
          0,
          3.550115232837702,
          19.975369097073294,
          31.12751368093559,
          5.7287753568745305,
          0.5090552349972246,
          1.9385783732472395,
          9.48609321199065,
          8.203597711060493,
          6.93482414804298,
          3.8992153735121278,
          5.01025780198238,
          3.8530052600330733,
          3.29144953806254,
          0.37641934303508867,
          0.38320714057332483,
          1.0037015088794898,
          5.73566656439892,
          0,
          1.4800398915685382,
          0.6908393787280361,
          27.706552706552706,
          1.7447698190873244,
          null,
          6.017415323840319,
          4.057103245755686,
          1.236305429853817,
          8.07179221442956,
          6.187550636716428,
          1.0587642883445645,
          0.22571869940758782,
          0,
          8.646288959341069,
          2.693004067645065,
          7.554191620712536,
          3.976180212627808,
          0.7553756442824525,
          5.172599146991283,
          0.7481889132901234,
          4.550453592821127,
          1.3793103448275863,
          5.551296341607083,
          0,
          1.269942252650798,
          4.4887958153411125,
          2.272727272727273,
          null,
          null,
          1.6328536974957026,
          0.7247410456688469,
          0.5156542341883137,
          0.6123809215316753,
          5.940882837530025,
          4.728833044865341,
          0,
          0.35438384091257924,
          1.0761202984497351,
          15.251509054325956,
          2.0735271161213493,
          null,
          2.1880751208272398,
          7.789519581745902,
          0.7430968863417996,
          0.6233766233766234,
          1.4572215116087726,
          16.863757650005212,
          0.7168299825678007,
          0,
          0,
          0.5035084929559878,
          0.6648000996457483,
          1.0564665472095798,
          1.1639981823250953,
          0,
          7.262439515626422,
          12.98858526461432,
          11.18434012949442,
          11.596638655462185,
          2.9121708364112835,
          9.225432826076167,
          2.3020475787413415,
          29.315476190476193,
          0.7653023085142298,
          0.6201883889284195,
          null,
          null,
          4.982643444659717,
          2.099236641221374,
          2.1564564047667316,
          4.85101512038557,
          6.1468092766421965,
          0.19027429694170497,
          6.748572740302007,
          0.15344295561038865,
          4.197415640109751,
          24.767357530313447,
          0,
          0,
          0,
          0,
          0.15395128459796734,
          1.4327238380814822,
          1.3491235202895016,
          0,
          19.06018220183718,
          1.2153582332084318,
          6.255357060953188,
          10.833646028092547,
          6.762909883425688,
          4.894937473274453,
          2.1441533729519175,
          7.250030022321376,
          3.38038379390774,
          8.470045295507159,
          8.398402203923235,
          0.7747146731405538,
          0.19628597967354303,
          1.3548190089047778,
          7.993812864318258,
          0,
          12.99807417364671,
          75.4302925989673,
          0.5757451992151689,
          4.569224368639797,
          4.18253575109434,
          16.559883563971738,
          3.0776706539984287,
          13.943756925644646,
          0.26339479209170796,
          3.113409636819104,
          3.7799760329679737,
          3.923336424338159,
          null,
          0,
          1.6477689205174049,
          6.999529389694593,
          1.6685685946565525,
          6.246868673360009,
          0.8704568427828425,
          2.5135743235701393,
          6.075869081332901,
          0.5862007907667549,
          14.972326620376908,
          0.5532548615396731,
          9.365911428810834,
          3.5623754266622605,
          14.419944349629713,
          0,
          11.670253687851622,
          null,
          0,
          0.07975276642408534,
          0.38777011301085007,
          0,
          2.184519668791487,
          0,
          null,
          0.5399714275302693,
          0.5241662718275996,
          2.422212491435741,
          0.2888705144881608,
          0.939640496273927,
          4.40589510325846,
          100,
          13.49226342430964,
          35.799213835101625,
          9.632695881816414,
          4.318601313502563,
          0.06212300197523197,
          5.912750447554358,
          0.2869388719667647,
          0,
          9.26610534812869,
          2.7852757524477405,
          0.7801941352028261,
          0.09616978942132318,
          0.6421821791771225,
          0,
          0.08221679248081429,
          6.4442347608931065,
          3.64166409282356,
          2.1421972224482415,
          10.672612002184227,
          11.26855600539811,
          1.0381027677652286,
          3.5562030625434784,
          17.24344862864964,
          0.5468998355046697,
          9.963069704358885,
          0.13281148582220015,
          19.300147503506626,
          3.5995951112221176,
          0.5697508960222235,
          0.2644303556685667,
          9.134971710023663,
          5.276275711661534,
          0.7012634903843297,
          1.4925019170730036,
          1.3716700667299275,
          1.5048135215918659,
          0.2811785447899916,
          0,
          0.6676726751318972,
          0.3203590316407587,
          0.4559460351683802,
          9.393572530303453,
          1.9064348303817806,
          4.2964825325048555,
          0.5665019265498044,
          0.8648997674526312,
          6.46537152022483,
          0.35970014780375315,
          9.448209541640265,
          0.10600606290261463,
          0.34271533308717966,
          20.600670049030942,
          11.193991537383948,
          0.40621448762227125,
          8.641561184027191,
          28.695576454197145,
          null,
          null,
          0.3719234881466046,
          1.5745424169969806,
          10.557371821482212,
          2.5843498227051174,
          4.795335596426103,
          13.733333333333333,
          0.9697278010300611,
          100,
          100,
          6.939157619430081,
          38.2496762892417,
          0.06101005956729261,
          1.479113217553627,
          100,
          20.25636393996774,
          null,
          2.8667891194773865,
          null,
          null,
          0,
          null,
          27.519729445084895,
          100,
          2.671140821125221,
          null,
          1.0402810027902165,
          100,
          3.3003300330033003,
          75.25,
          null,
          null,
          0,
          0,
          4.166666666666666,
          0.6875854080566446,
          null,
          null,
          0,
          0,
          null,
          0,
          null,
          null,
          0.6959147637983998,
          null,
          0,
          0,
          0,
          0,
          0,
          0,
          0,
          0,
          14.990512333965844,
          0,
          0,
          0,
          0,
          0,
          0,
          0,
          0,
          0,
          0,
          0,
          0,
          0,
          null,
          0,
          0,
          0,
          0,
          0,
          0,
          0,
          5.46875,
          0,
          0,
          8.403361344537815,
          0,
          0,
          0,
          0,
          0,
          0,
          0,
          0,
          0,
          0,
          0,
          3.4090909090909087,
          0,
          0,
          0,
          0,
          0,
          0,
          0,
          0,
          0,
          0,
          3.125,
          0,
          0,
          0,
          3.5714285714285707,
          3.7037037037037033,
          0,
          0,
          6.896551724137931,
          2.8846153846153846,
          0,
          2.8169014084507045,
          0,
          0,
          0,
          0,
          25.734265734265733,
          10.811747379364117,
          0,
          0,
          0,
          0,
          12.121212121212121,
          0,
          0,
          0,
          0,
          3.8834951456310676,
          3.6585365853658534,
          0,
          0,
          0,
          0,
          null,
          0,
          0,
          null,
          0,
          0,
          0,
          0,
          0,
          0,
          0,
          null,
          31.306306306306308,
          10.667996011964108,
          0,
          0,
          0,
          0,
          0,
          10.344827586206897,
          0,
          0,
          0,
          0,
          0,
          0,
          0,
          0,
          0.45021440357332176,
          0,
          0,
          0,
          0,
          0,
          null,
          0,
          0,
          0,
          0,
          2.9850746268656714,
          0,
          0,
          3.4090909090909087,
          0.6831264875043574,
          0,
          0,
          0,
          0,
          0.16573043933560908,
          0,
          0,
          0,
          1.6528925619834711,
          0,
          0,
          0,
          0,
          null,
          0,
          0,
          0.09637823570439198,
          0,
          6.153846153846154,
          0,
          0,
          0,
          0,
          0,
          0,
          0,
          0,
          0,
          0,
          0,
          0,
          0,
          0,
          0,
          0,
          54.54545454545455,
          0,
          0,
          0,
          2.7777777777777777,
          null,
          0,
          0,
          2.8169014084507045,
          null,
          0,
          0.058802270108978476,
          5.172413793103449,
          0,
          0,
          7.19298245614035,
          0.13792142408362654,
          0,
          0,
          0,
          0,
          0,
          0,
          0,
          0,
          0,
          0,
          0,
          0.4802546042323932,
          0,
          0,
          0,
          6.25,
          0,
          0,
          0,
          null,
          null,
          0,
          0,
          0
         ]
        }
       ],
       "layout": {
        "template": {
         "data": {
          "bar": [
           {
            "error_x": {
             "color": "#2a3f5f"
            },
            "error_y": {
             "color": "#2a3f5f"
            },
            "marker": {
             "line": {
              "color": "white",
              "width": 0.5
             },
             "pattern": {
              "fillmode": "overlay",
              "size": 10,
              "solidity": 0.2
             }
            },
            "type": "bar"
           }
          ],
          "barpolar": [
           {
            "marker": {
             "line": {
              "color": "white",
              "width": 0.5
             },
             "pattern": {
              "fillmode": "overlay",
              "size": 10,
              "solidity": 0.2
             }
            },
            "type": "barpolar"
           }
          ],
          "carpet": [
           {
            "aaxis": {
             "endlinecolor": "#2a3f5f",
             "gridcolor": "#C8D4E3",
             "linecolor": "#C8D4E3",
             "minorgridcolor": "#C8D4E3",
             "startlinecolor": "#2a3f5f"
            },
            "baxis": {
             "endlinecolor": "#2a3f5f",
             "gridcolor": "#C8D4E3",
             "linecolor": "#C8D4E3",
             "minorgridcolor": "#C8D4E3",
             "startlinecolor": "#2a3f5f"
            },
            "type": "carpet"
           }
          ],
          "choropleth": [
           {
            "colorbar": {
             "outlinewidth": 0,
             "ticks": ""
            },
            "type": "choropleth"
           }
          ],
          "contour": [
           {
            "colorbar": {
             "outlinewidth": 0,
             "ticks": ""
            },
            "colorscale": [
             [
              0,
              "#0d0887"
             ],
             [
              0.1111111111111111,
              "#46039f"
             ],
             [
              0.2222222222222222,
              "#7201a8"
             ],
             [
              0.3333333333333333,
              "#9c179e"
             ],
             [
              0.4444444444444444,
              "#bd3786"
             ],
             [
              0.5555555555555556,
              "#d8576b"
             ],
             [
              0.6666666666666666,
              "#ed7953"
             ],
             [
              0.7777777777777778,
              "#fb9f3a"
             ],
             [
              0.8888888888888888,
              "#fdca26"
             ],
             [
              1,
              "#f0f921"
             ]
            ],
            "type": "contour"
           }
          ],
          "contourcarpet": [
           {
            "colorbar": {
             "outlinewidth": 0,
             "ticks": ""
            },
            "type": "contourcarpet"
           }
          ],
          "heatmap": [
           {
            "colorbar": {
             "outlinewidth": 0,
             "ticks": ""
            },
            "colorscale": [
             [
              0,
              "#0d0887"
             ],
             [
              0.1111111111111111,
              "#46039f"
             ],
             [
              0.2222222222222222,
              "#7201a8"
             ],
             [
              0.3333333333333333,
              "#9c179e"
             ],
             [
              0.4444444444444444,
              "#bd3786"
             ],
             [
              0.5555555555555556,
              "#d8576b"
             ],
             [
              0.6666666666666666,
              "#ed7953"
             ],
             [
              0.7777777777777778,
              "#fb9f3a"
             ],
             [
              0.8888888888888888,
              "#fdca26"
             ],
             [
              1,
              "#f0f921"
             ]
            ],
            "type": "heatmap"
           }
          ],
          "heatmapgl": [
           {
            "colorbar": {
             "outlinewidth": 0,
             "ticks": ""
            },
            "colorscale": [
             [
              0,
              "#0d0887"
             ],
             [
              0.1111111111111111,
              "#46039f"
             ],
             [
              0.2222222222222222,
              "#7201a8"
             ],
             [
              0.3333333333333333,
              "#9c179e"
             ],
             [
              0.4444444444444444,
              "#bd3786"
             ],
             [
              0.5555555555555556,
              "#d8576b"
             ],
             [
              0.6666666666666666,
              "#ed7953"
             ],
             [
              0.7777777777777778,
              "#fb9f3a"
             ],
             [
              0.8888888888888888,
              "#fdca26"
             ],
             [
              1,
              "#f0f921"
             ]
            ],
            "type": "heatmapgl"
           }
          ],
          "histogram": [
           {
            "marker": {
             "pattern": {
              "fillmode": "overlay",
              "size": 10,
              "solidity": 0.2
             }
            },
            "type": "histogram"
           }
          ],
          "histogram2d": [
           {
            "colorbar": {
             "outlinewidth": 0,
             "ticks": ""
            },
            "colorscale": [
             [
              0,
              "#0d0887"
             ],
             [
              0.1111111111111111,
              "#46039f"
             ],
             [
              0.2222222222222222,
              "#7201a8"
             ],
             [
              0.3333333333333333,
              "#9c179e"
             ],
             [
              0.4444444444444444,
              "#bd3786"
             ],
             [
              0.5555555555555556,
              "#d8576b"
             ],
             [
              0.6666666666666666,
              "#ed7953"
             ],
             [
              0.7777777777777778,
              "#fb9f3a"
             ],
             [
              0.8888888888888888,
              "#fdca26"
             ],
             [
              1,
              "#f0f921"
             ]
            ],
            "type": "histogram2d"
           }
          ],
          "histogram2dcontour": [
           {
            "colorbar": {
             "outlinewidth": 0,
             "ticks": ""
            },
            "colorscale": [
             [
              0,
              "#0d0887"
             ],
             [
              0.1111111111111111,
              "#46039f"
             ],
             [
              0.2222222222222222,
              "#7201a8"
             ],
             [
              0.3333333333333333,
              "#9c179e"
             ],
             [
              0.4444444444444444,
              "#bd3786"
             ],
             [
              0.5555555555555556,
              "#d8576b"
             ],
             [
              0.6666666666666666,
              "#ed7953"
             ],
             [
              0.7777777777777778,
              "#fb9f3a"
             ],
             [
              0.8888888888888888,
              "#fdca26"
             ],
             [
              1,
              "#f0f921"
             ]
            ],
            "type": "histogram2dcontour"
           }
          ],
          "mesh3d": [
           {
            "colorbar": {
             "outlinewidth": 0,
             "ticks": ""
            },
            "type": "mesh3d"
           }
          ],
          "parcoords": [
           {
            "line": {
             "colorbar": {
              "outlinewidth": 0,
              "ticks": ""
             }
            },
            "type": "parcoords"
           }
          ],
          "pie": [
           {
            "automargin": true,
            "type": "pie"
           }
          ],
          "scatter": [
           {
            "fillpattern": {
             "fillmode": "overlay",
             "size": 10,
             "solidity": 0.2
            },
            "type": "scatter"
           }
          ],
          "scatter3d": [
           {
            "line": {
             "colorbar": {
              "outlinewidth": 0,
              "ticks": ""
             }
            },
            "marker": {
             "colorbar": {
              "outlinewidth": 0,
              "ticks": ""
             }
            },
            "type": "scatter3d"
           }
          ],
          "scattercarpet": [
           {
            "marker": {
             "colorbar": {
              "outlinewidth": 0,
              "ticks": ""
             }
            },
            "type": "scattercarpet"
           }
          ],
          "scattergeo": [
           {
            "marker": {
             "colorbar": {
              "outlinewidth": 0,
              "ticks": ""
             }
            },
            "type": "scattergeo"
           }
          ],
          "scattergl": [
           {
            "marker": {
             "colorbar": {
              "outlinewidth": 0,
              "ticks": ""
             }
            },
            "type": "scattergl"
           }
          ],
          "scattermapbox": [
           {
            "marker": {
             "colorbar": {
              "outlinewidth": 0,
              "ticks": ""
             }
            },
            "type": "scattermapbox"
           }
          ],
          "scatterpolar": [
           {
            "marker": {
             "colorbar": {
              "outlinewidth": 0,
              "ticks": ""
             }
            },
            "type": "scatterpolar"
           }
          ],
          "scatterpolargl": [
           {
            "marker": {
             "colorbar": {
              "outlinewidth": 0,
              "ticks": ""
             }
            },
            "type": "scatterpolargl"
           }
          ],
          "scatterternary": [
           {
            "marker": {
             "colorbar": {
              "outlinewidth": 0,
              "ticks": ""
             }
            },
            "type": "scatterternary"
           }
          ],
          "surface": [
           {
            "colorbar": {
             "outlinewidth": 0,
             "ticks": ""
            },
            "colorscale": [
             [
              0,
              "#0d0887"
             ],
             [
              0.1111111111111111,
              "#46039f"
             ],
             [
              0.2222222222222222,
              "#7201a8"
             ],
             [
              0.3333333333333333,
              "#9c179e"
             ],
             [
              0.4444444444444444,
              "#bd3786"
             ],
             [
              0.5555555555555556,
              "#d8576b"
             ],
             [
              0.6666666666666666,
              "#ed7953"
             ],
             [
              0.7777777777777778,
              "#fb9f3a"
             ],
             [
              0.8888888888888888,
              "#fdca26"
             ],
             [
              1,
              "#f0f921"
             ]
            ],
            "type": "surface"
           }
          ],
          "table": [
           {
            "cells": {
             "fill": {
              "color": "#EBF0F8"
             },
             "line": {
              "color": "white"
             }
            },
            "header": {
             "fill": {
              "color": "#C8D4E3"
             },
             "line": {
              "color": "white"
             }
            },
            "type": "table"
           }
          ]
         },
         "layout": {
          "annotationdefaults": {
           "arrowcolor": "#2a3f5f",
           "arrowhead": 0,
           "arrowwidth": 1
          },
          "autotypenumbers": "strict",
          "coloraxis": {
           "colorbar": {
            "outlinewidth": 0,
            "ticks": ""
           }
          },
          "colorscale": {
           "diverging": [
            [
             0,
             "#8e0152"
            ],
            [
             0.1,
             "#c51b7d"
            ],
            [
             0.2,
             "#de77ae"
            ],
            [
             0.3,
             "#f1b6da"
            ],
            [
             0.4,
             "#fde0ef"
            ],
            [
             0.5,
             "#f7f7f7"
            ],
            [
             0.6,
             "#e6f5d0"
            ],
            [
             0.7,
             "#b8e186"
            ],
            [
             0.8,
             "#7fbc41"
            ],
            [
             0.9,
             "#4d9221"
            ],
            [
             1,
             "#276419"
            ]
           ],
           "sequential": [
            [
             0,
             "#0d0887"
            ],
            [
             0.1111111111111111,
             "#46039f"
            ],
            [
             0.2222222222222222,
             "#7201a8"
            ],
            [
             0.3333333333333333,
             "#9c179e"
            ],
            [
             0.4444444444444444,
             "#bd3786"
            ],
            [
             0.5555555555555556,
             "#d8576b"
            ],
            [
             0.6666666666666666,
             "#ed7953"
            ],
            [
             0.7777777777777778,
             "#fb9f3a"
            ],
            [
             0.8888888888888888,
             "#fdca26"
            ],
            [
             1,
             "#f0f921"
            ]
           ],
           "sequentialminus": [
            [
             0,
             "#0d0887"
            ],
            [
             0.1111111111111111,
             "#46039f"
            ],
            [
             0.2222222222222222,
             "#7201a8"
            ],
            [
             0.3333333333333333,
             "#9c179e"
            ],
            [
             0.4444444444444444,
             "#bd3786"
            ],
            [
             0.5555555555555556,
             "#d8576b"
            ],
            [
             0.6666666666666666,
             "#ed7953"
            ],
            [
             0.7777777777777778,
             "#fb9f3a"
            ],
            [
             0.8888888888888888,
             "#fdca26"
            ],
            [
             1,
             "#f0f921"
            ]
           ]
          },
          "colorway": [
           "#636efa",
           "#EF553B",
           "#00cc96",
           "#ab63fa",
           "#FFA15A",
           "#19d3f3",
           "#FF6692",
           "#B6E880",
           "#FF97FF",
           "#FECB52"
          ],
          "font": {
           "color": "#2a3f5f"
          },
          "geo": {
           "bgcolor": "white",
           "lakecolor": "white",
           "landcolor": "white",
           "showlakes": true,
           "showland": true,
           "subunitcolor": "#C8D4E3"
          },
          "hoverlabel": {
           "align": "left"
          },
          "hovermode": "closest",
          "mapbox": {
           "style": "light"
          },
          "paper_bgcolor": "white",
          "plot_bgcolor": "white",
          "polar": {
           "angularaxis": {
            "gridcolor": "#EBF0F8",
            "linecolor": "#EBF0F8",
            "ticks": ""
           },
           "bgcolor": "white",
           "radialaxis": {
            "gridcolor": "#EBF0F8",
            "linecolor": "#EBF0F8",
            "ticks": ""
           }
          },
          "scene": {
           "xaxis": {
            "backgroundcolor": "white",
            "gridcolor": "#DFE8F3",
            "gridwidth": 2,
            "linecolor": "#EBF0F8",
            "showbackground": true,
            "ticks": "",
            "zerolinecolor": "#EBF0F8"
           },
           "yaxis": {
            "backgroundcolor": "white",
            "gridcolor": "#DFE8F3",
            "gridwidth": 2,
            "linecolor": "#EBF0F8",
            "showbackground": true,
            "ticks": "",
            "zerolinecolor": "#EBF0F8"
           },
           "zaxis": {
            "backgroundcolor": "white",
            "gridcolor": "#DFE8F3",
            "gridwidth": 2,
            "linecolor": "#EBF0F8",
            "showbackground": true,
            "ticks": "",
            "zerolinecolor": "#EBF0F8"
           }
          },
          "shapedefaults": {
           "line": {
            "color": "#2a3f5f"
           }
          },
          "ternary": {
           "aaxis": {
            "gridcolor": "#DFE8F3",
            "linecolor": "#A2B1C6",
            "ticks": ""
           },
           "baxis": {
            "gridcolor": "#DFE8F3",
            "linecolor": "#A2B1C6",
            "ticks": ""
           },
           "bgcolor": "white",
           "caxis": {
            "gridcolor": "#DFE8F3",
            "linecolor": "#A2B1C6",
            "ticks": ""
           }
          },
          "title": {
           "x": 0.05
          },
          "xaxis": {
           "automargin": true,
           "gridcolor": "#EBF0F8",
           "linecolor": "#EBF0F8",
           "ticks": "",
           "title": {
            "standoff": 15
           },
           "zerolinecolor": "#EBF0F8",
           "zerolinewidth": 2
          },
          "yaxis": {
           "automargin": true,
           "gridcolor": "#EBF0F8",
           "linecolor": "#EBF0F8",
           "ticks": "",
           "title": {
            "standoff": 15
           },
           "zerolinecolor": "#EBF0F8",
           "zerolinewidth": 2
          }
         }
        },
        "title": {
         "text": "Percentual Médio de Desperdício por Ordem"
        },
        "xaxis": {
         "tickangle": 45,
         "title": {
          "text": "ID da Ordem"
         }
        },
        "yaxis": {
         "title": {
          "text": "Percentual de Desperdício (%)"
         }
        }
       }
      }
     },
     "metadata": {},
     "output_type": "display_data"
    }
   ],
   "source": [
    "import plotly.graph_objects as go\n",
    "\n",
    "# Calcular percentual de desperdício por ordem\n",
    "df['Percentual_Desperdicio'] = (df['Rej_and_cut_Piece'] / df['Total_pdn_per_order']) * 100\n",
    "\n",
    "# Calcular a média do percentual de desperdício por ordem (agrupado por ID)\n",
    "percentual_por_ordem = df.groupby('ID')['Percentual_Desperdicio'].mean().reset_index()\n",
    "\n",
    "# Criar o gráfico de barras com Plotly\n",
    "fig = go.Figure()\n",
    "\n",
    "# Adicionar dados ao gráfico\n",
    "fig.add_trace(go.Bar(\n",
    "    x=percentual_por_ordem['ID'],\n",
    "    y=percentual_por_ordem['Percentual_Desperdicio'],\n",
    "    marker_color='skyblue'\n",
    "))\n",
    "\n",
    "# Personalizar layout\n",
    "fig.update_layout(\n",
    "    title='Percentual Médio de Desperdício por Ordem',\n",
    "    xaxis_title='ID da Ordem',\n",
    "    yaxis_title='Percentual de Desperdício (%)',\n",
    "    xaxis=dict(tickangle=45),  # Rotacionar os rótulos do eixo X\n",
    "    template='plotly_white'\n",
    ")\n",
    "\n",
    "# Exibir o gráfico\n",
    "fig.show()"
   ]
  },
  {
   "cell_type": "markdown",
   "metadata": {},
   "source": [
    "## Desperdício x Quantidade de Tecido Cinza\n",
    "\n",
    "Para entender a quantidade de tecido requerido que é perdido"
   ]
  },
  {
   "cell_type": "code",
   "execution_count": 82,
   "metadata": {},
   "outputs": [
    {
     "data": {
      "image/png": "[encoded data removed]",
      "text/plain": [
       "<Figure size 1000x600 with 1 Axes>"
      ]
     },
     "metadata": {},
     "output_type": "display_data"
    }
   ],
   "source": [
    "# Calcular razão de desperdício com tecido requerido\n",
    "df['Razao_Desperdicio_Tecido'] = df['Rej_and_cut_Piece'] / df['Req_grey_fabric']\n",
    "\n",
    "# Criar gráfico de dispersão\n",
    "plt.figure(figsize=(10, 6))\n",
    "\n",
    "# Gráfico de dispersão\n",
    "plt.scatter(df['Req_grey_fabric'], df['Razao_Desperdicio_Tecido'], color='skyblue', alpha=0.7)\n",
    "\n",
    "# Personalizar o gráfico\n",
    "plt.title('Razão de Desperdício com Tecido Requerido')\n",
    "plt.xlabel('Tecido Requerido (Req_grey_fabric)')\n",
    "plt.ylabel('Razão de Desperdício com Tecido')\n",
    "plt.grid(True)\n",
    "\n",
    "# Exibir gráfico\n",
    "plt.tight_layout()\n",
    "plt.show()\n"
   ]
  },
  {
   "cell_type": "markdown",
   "metadata": {},
   "source": [
    "## Desperdício Médio por Tipo de Construção"
   ]
  },
  {
   "cell_type": "code",
   "execution_count": 83,
   "metadata": {},
   "outputs": [
    {
     "data": {
      "application/vnd.plotly.v1+json": {
       "config": {
        "plotlyServerURL": "https://plot.ly"
       },
       "data": [
        {
         "marker": {
          "color": "skyblue"
         },
         "type": "bar",
         "x": [
          "20x20/82x64",
          "30+20/2x30/100x60",
          "30x30/100x70",
          "30x30/100x80",
          "30x30/110x62",
          "30x30/110x70",
          "30x30/110x76",
          "30x30/110x80",
          "30x30/120x70",
          "30x30/82x64",
          "30x30/92x80",
          "40+4/2x40/100x70",
          "40+40/2/40/110x80",
          "40+40/240x/110x80",
          "40+40/2x40/100x70",
          "40+40/2x40/110x80",
          "40+80/2x40/110x84",
          "40/2/x20/82x64",
          "40/2x20/82x64",
          "40/40x/110x70",
          "40c40/120x100",
          "40x+40/240/110x80",
          "40x20/2/100x42",
          "40x20/2/110x44",
          "40x30/130x80",
          "40x30/2/100x48",
          "40x30/2/100x50",
          "40x30/2x/100x50",
          "40x40/100x70",
          "40x40/100x76",
          "40x40/100x90",
          "40x40/110x100",
          "40x40/110x70",
          "40x40/110x76",
          "40x40/110x80",
          "40x40/110x90",
          "40x40/120x100",
          "40x40/120x70",
          "40x40/120x80",
          "40x40/120x90",
          "40x40/130x100",
          "40x40/130x70",
          "40x40/130x72",
          "40x40/130x76",
          "40x40/130x80",
          "40x40/130x90",
          "40x40/130x96",
          "40x40/133x72",
          "40x40/140x84",
          "40x40/140x90",
          "40x40/140x94",
          "40x40/144x106",
          "40x40/144x80",
          "40x40/160x62",
          "40x40/2/130x45",
          "40x40/30x90",
          "40x40/92x70",
          "40x40100x70",
          "40x40120x80",
          "40x40x/110x90",
          "40x50/130x76",
          "40x50/130x80",
          "40x50/140x76",
          "40x50/140x80",
          "40x60/130x90",
          "40xz40/100x70",
          "40xz40/120x80",
          "470x40/120x80",
          "50+80/2x50/156x84",
          "50x40/130x80",
          "50x40/156x100",
          "50x40x/156x100",
          "50x50/100x80",
          "50x50/100x84",
          "50x50/100x90",
          "50x50/110x80",
          "50x50/120x100",
          "50x50/120x80",
          "50x50/120x90",
          "50x50/130x100",
          "50x50/130x76",
          "50x50/130x80",
          "50x50/130x90",
          "50x50/140x100",
          "50x50/140x70",
          "50x50/140x76",
          "50x50/140x80",
          "50x50/140x88",
          "50x50/140x90",
          "50x50/140x96",
          "50x50/144x100",
          "50x50/144x76",
          "50x50/144x80",
          "50x50/150x96",
          "50x50/156x70",
          "50x50/156x71",
          "50x50/156x84",
          "50x50/156x90",
          "50x50/156x96",
          "50x50/156x98",
          "50x50/160x100",
          "50x50/160x110",
          "50x50/160x70",
          "50x50/160x80",
          "50x50/160x86",
          "50x50/40x80",
          "50x501/140x80",
          "60+40x60/130x100",
          "60/160/160x100",
          "60x50/150x96",
          "60x60/110x80",
          "60x60/130x80",
          "60x60/140x110",
          "60x60/140x90",
          "60x60/156/100",
          "60x60/156x/100",
          "60x60/156x106",
          "60x60/156x98",
          "60x60/160x100",
          "60x60/160x110",
          "60x60/160x90",
          "60x60/170x100",
          "70x70/140x100",
          "80/2x40/130x90",
          "80/2x40/140x80",
          "80/2x40/140x88",
          "80/2x40140x88",
          "80/2x80/2/160x72"
         ],
         "y": [
          6.508235294117647,
          52.931372549019606,
          10.683544303797468,
          2.2222222222222223,
          31.69435736677116,
          14.996027241770715,
          0,
          12.791666666666666,
          0,
          4.555555555555555,
          1.34375,
          8.952380952380953,
          36.03977272727273,
          0.8666666666666667,
          2.185185185185185,
          55.50346420323326,
          0,
          5.204301075268817,
          1.2121212121212122,
          1.515625,
          32.7,
          0,
          0,
          0.625,
          0,
          0.6,
          8.893004115226338,
          0,
          3.7394109396914446,
          653.0897435897435,
          304.44242424242424,
          0,
          9.463512544802867,
          0.8,
          2.447463768115942,
          17.172954818464856,
          8.821958456973293,
          10.32882882882883,
          9.263198409134647,
          14.550135961930659,
          9.066315789473684,
          8.352623456790123,
          4.2926829268292686,
          2.7685185185185186,
          11.42969776609724,
          5.230508474576271,
          25.871698113207547,
          9.679924242424242,
          0,
          0.6,
          24.761224489795918,
          14.086330935251798,
          0,
          0,
          0,
          0.9230769230769231,
          5.385633270321361,
          0,
          0,
          1.894736842105263,
          6.859719438877756,
          8.67330016583748,
          42.29707112970711,
          12.18954248366013,
          9.376991150442478,
          0,
          23.469740634005763,
          0,
          0,
          5.916666666666667,
          11.338645418326694,
          0.6419753086419753,
          11.69767441860465,
          5.286206896551724,
          1,
          69.2969696969697,
          7.042553191489362,
          4.5,
          165.75671406003158,
          5.327217125382263,
          0,
          0.6585365853658537,
          3.0193548387096776,
          8.89922480620155,
          17.260416666666668,
          11.870748299319727,
          9.102589154860771,
          1.4017094017094016,
          6.264227642276423,
          0,
          2.9679300291545188,
          0.6666666666666666,
          9.787234042553191,
          12.925925925925926,
          7.051851851851852,
          0,
          0.5128205128205128,
          2.2666666666666666,
          10.218579234972678,
          8.718562874251496,
          0,
          0,
          0,
          0,
          0,
          0,
          11.906666666666666,
          0,
          6.944444444444445,
          0,
          0,
          416.57971014492756,
          0,
          0.9166666666666666,
          0.6666666666666666,
          0,
          7.105263157894737,
          0,
          22.480916030534353,
          0,
          5.960199004975125,
          1.3888888888888888,
          0.7142857142857143,
          0,
          6.888888888888889,
          9.084886128364388,
          0,
          0
         ]
        }
       ],
       "layout": {
        "template": {
         "data": {
          "bar": [
           {
            "error_x": {
             "color": "#2a3f5f"
            },
            "error_y": {
             "color": "#2a3f5f"
            },
            "marker": {
             "line": {
              "color": "white",
              "width": 0.5
             },
             "pattern": {
              "fillmode": "overlay",
              "size": 10,
              "solidity": 0.2
             }
            },
            "type": "bar"
           }
          ],
          "barpolar": [
           {
            "marker": {
             "line": {
              "color": "white",
              "width": 0.5
             },
             "pattern": {
              "fillmode": "overlay",
              "size": 10,
              "solidity": 0.2
             }
            },
            "type": "barpolar"
           }
          ],
          "carpet": [
           {
            "aaxis": {
             "endlinecolor": "#2a3f5f",
             "gridcolor": "#C8D4E3",
             "linecolor": "#C8D4E3",
             "minorgridcolor": "#C8D4E3",
             "startlinecolor": "#2a3f5f"
            },
            "baxis": {
             "endlinecolor": "#2a3f5f",
             "gridcolor": "#C8D4E3",
             "linecolor": "#C8D4E3",
             "minorgridcolor": "#C8D4E3",
             "startlinecolor": "#2a3f5f"
            },
            "type": "carpet"
           }
          ],
          "choropleth": [
           {
            "colorbar": {
             "outlinewidth": 0,
             "ticks": ""
            },
            "type": "choropleth"
           }
          ],
          "contour": [
           {
            "colorbar": {
             "outlinewidth": 0,
             "ticks": ""
            },
            "colorscale": [
             [
              0,
              "#0d0887"
             ],
             [
              0.1111111111111111,
              "#46039f"
             ],
             [
              0.2222222222222222,
              "#7201a8"
             ],
             [
              0.3333333333333333,
              "#9c179e"
             ],
             [
              0.4444444444444444,
              "#bd3786"
             ],
             [
              0.5555555555555556,
              "#d8576b"
             ],
             [
              0.6666666666666666,
              "#ed7953"
             ],
             [
              0.7777777777777778,
              "#fb9f3a"
             ],
             [
              0.8888888888888888,
              "#fdca26"
             ],
             [
              1,
              "#f0f921"
             ]
            ],
            "type": "contour"
           }
          ],
          "contourcarpet": [
           {
            "colorbar": {
             "outlinewidth": 0,
             "ticks": ""
            },
            "type": "contourcarpet"
           }
          ],
          "heatmap": [
           {
            "colorbar": {
             "outlinewidth": 0,
             "ticks": ""
            },
            "colorscale": [
             [
              0,
              "#0d0887"
             ],
             [
              0.1111111111111111,
              "#46039f"
             ],
             [
              0.2222222222222222,
              "#7201a8"
             ],
             [
              0.3333333333333333,
              "#9c179e"
             ],
             [
              0.4444444444444444,
              "#bd3786"
             ],
             [
              0.5555555555555556,
              "#d8576b"
             ],
             [
              0.6666666666666666,
              "#ed7953"
             ],
             [
              0.7777777777777778,
              "#fb9f3a"
             ],
             [
              0.8888888888888888,
              "#fdca26"
             ],
             [
              1,
              "#f0f921"
             ]
            ],
            "type": "heatmap"
           }
          ],
          "heatmapgl": [
           {
            "colorbar": {
             "outlinewidth": 0,
             "ticks": ""
            },
            "colorscale": [
             [
              0,
              "#0d0887"
             ],
             [
              0.1111111111111111,
              "#46039f"
             ],
             [
              0.2222222222222222,
              "#7201a8"
             ],
             [
              0.3333333333333333,
              "#9c179e"
             ],
             [
              0.4444444444444444,
              "#bd3786"
             ],
             [
              0.5555555555555556,
              "#d8576b"
             ],
             [
              0.6666666666666666,
              "#ed7953"
             ],
             [
              0.7777777777777778,
              "#fb9f3a"
             ],
             [
              0.8888888888888888,
              "#fdca26"
             ],
             [
              1,
              "#f0f921"
             ]
            ],
            "type": "heatmapgl"
           }
          ],
          "histogram": [
           {
            "marker": {
             "pattern": {
              "fillmode": "overlay",
              "size": 10,
              "solidity": 0.2
             }
            },
            "type": "histogram"
           }
          ],
          "histogram2d": [
           {
            "colorbar": {
             "outlinewidth": 0,
             "ticks": ""
            },
            "colorscale": [
             [
              0,
              "#0d0887"
             ],
             [
              0.1111111111111111,
              "#46039f"
             ],
             [
              0.2222222222222222,
              "#7201a8"
             ],
             [
              0.3333333333333333,
              "#9c179e"
             ],
             [
              0.4444444444444444,
              "#bd3786"
             ],
             [
              0.5555555555555556,
              "#d8576b"
             ],
             [
              0.6666666666666666,
              "#ed7953"
             ],
             [
              0.7777777777777778,
              "#fb9f3a"
             ],
             [
              0.8888888888888888,
              "#fdca26"
             ],
             [
              1,
              "#f0f921"
             ]
            ],
            "type": "histogram2d"
           }
          ],
          "histogram2dcontour": [
           {
            "colorbar": {
             "outlinewidth": 0,
             "ticks": ""
            },
            "colorscale": [
             [
              0,
              "#0d0887"
             ],
             [
              0.1111111111111111,
              "#46039f"
             ],
             [
              0.2222222222222222,
              "#7201a8"
             ],
             [
              0.3333333333333333,
              "#9c179e"
             ],
             [
              0.4444444444444444,
              "#bd3786"
             ],
             [
              0.5555555555555556,
              "#d8576b"
             ],
             [
              0.6666666666666666,
              "#ed7953"
             ],
             [
              0.7777777777777778,
              "#fb9f3a"
             ],
             [
              0.8888888888888888,
              "#fdca26"
             ],
             [
              1,
              "#f0f921"
             ]
            ],
            "type": "histogram2dcontour"
           }
          ],
          "mesh3d": [
           {
            "colorbar": {
             "outlinewidth": 0,
             "ticks": ""
            },
            "type": "mesh3d"
           }
          ],
          "parcoords": [
           {
            "line": {
             "colorbar": {
              "outlinewidth": 0,
              "ticks": ""
             }
            },
            "type": "parcoords"
           }
          ],
          "pie": [
           {
            "automargin": true,
            "type": "pie"
           }
          ],
          "scatter": [
           {
            "fillpattern": {
             "fillmode": "overlay",
             "size": 10,
             "solidity": 0.2
            },
            "type": "scatter"
           }
          ],
          "scatter3d": [
           {
            "line": {
             "colorbar": {
              "outlinewidth": 0,
              "ticks": ""
             }
            },
            "marker": {
             "colorbar": {
              "outlinewidth": 0,
              "ticks": ""
             }
            },
            "type": "scatter3d"
           }
          ],
          "scattercarpet": [
           {
            "marker": {
             "colorbar": {
              "outlinewidth": 0,
              "ticks": ""
             }
            },
            "type": "scattercarpet"
           }
          ],
          "scattergeo": [
           {
            "marker": {
             "colorbar": {
              "outlinewidth": 0,
              "ticks": ""
             }
            },
            "type": "scattergeo"
           }
          ],
          "scattergl": [
           {
            "marker": {
             "colorbar": {
              "outlinewidth": 0,
              "ticks": ""
             }
            },
            "type": "scattergl"
           }
          ],
          "scattermapbox": [
           {
            "marker": {
             "colorbar": {
              "outlinewidth": 0,
              "ticks": ""
             }
            },
            "type": "scattermapbox"
           }
          ],
          "scatterpolar": [
           {
            "marker": {
             "colorbar": {
              "outlinewidth": 0,
              "ticks": ""
             }
            },
            "type": "scatterpolar"
           }
          ],
          "scatterpolargl": [
           {
            "marker": {
             "colorbar": {
              "outlinewidth": 0,
              "ticks": ""
             }
            },
            "type": "scatterpolargl"
           }
          ],
          "scatterternary": [
           {
            "marker": {
             "colorbar": {
              "outlinewidth": 0,
              "ticks": ""
             }
            },
            "type": "scatterternary"
           }
          ],
          "surface": [
           {
            "colorbar": {
             "outlinewidth": 0,
             "ticks": ""
            },
            "colorscale": [
             [
              0,
              "#0d0887"
             ],
             [
              0.1111111111111111,
              "#46039f"
             ],
             [
              0.2222222222222222,
              "#7201a8"
             ],
             [
              0.3333333333333333,
              "#9c179e"
             ],
             [
              0.4444444444444444,
              "#bd3786"
             ],
             [
              0.5555555555555556,
              "#d8576b"
             ],
             [
              0.6666666666666666,
              "#ed7953"
             ],
             [
              0.7777777777777778,
              "#fb9f3a"
             ],
             [
              0.8888888888888888,
              "#fdca26"
             ],
             [
              1,
              "#f0f921"
             ]
            ],
            "type": "surface"
           }
          ],
          "table": [
           {
            "cells": {
             "fill": {
              "color": "#EBF0F8"
             },
             "line": {
              "color": "white"
             }
            },
            "header": {
             "fill": {
              "color": "#C8D4E3"
             },
             "line": {
              "color": "white"
             }
            },
            "type": "table"
           }
          ]
         },
         "layout": {
          "annotationdefaults": {
           "arrowcolor": "#2a3f5f",
           "arrowhead": 0,
           "arrowwidth": 1
          },
          "autotypenumbers": "strict",
          "coloraxis": {
           "colorbar": {
            "outlinewidth": 0,
            "ticks": ""
           }
          },
          "colorscale": {
           "diverging": [
            [
             0,
             "#8e0152"
            ],
            [
             0.1,
             "#c51b7d"
            ],
            [
             0.2,
             "#de77ae"
            ],
            [
             0.3,
             "#f1b6da"
            ],
            [
             0.4,
             "#fde0ef"
            ],
            [
             0.5,
             "#f7f7f7"
            ],
            [
             0.6,
             "#e6f5d0"
            ],
            [
             0.7,
             "#b8e186"
            ],
            [
             0.8,
             "#7fbc41"
            ],
            [
             0.9,
             "#4d9221"
            ],
            [
             1,
             "#276419"
            ]
           ],
           "sequential": [
            [
             0,
             "#0d0887"
            ],
            [
             0.1111111111111111,
             "#46039f"
            ],
            [
             0.2222222222222222,
             "#7201a8"
            ],
            [
             0.3333333333333333,
             "#9c179e"
            ],
            [
             0.4444444444444444,
             "#bd3786"
            ],
            [
             0.5555555555555556,
             "#d8576b"
            ],
            [
             0.6666666666666666,
             "#ed7953"
            ],
            [
             0.7777777777777778,
             "#fb9f3a"
            ],
            [
             0.8888888888888888,
             "#fdca26"
            ],
            [
             1,
             "#f0f921"
            ]
           ],
           "sequentialminus": [
            [
             0,
             "#0d0887"
            ],
            [
             0.1111111111111111,
             "#46039f"
            ],
            [
             0.2222222222222222,
             "#7201a8"
            ],
            [
             0.3333333333333333,
             "#9c179e"
            ],
            [
             0.4444444444444444,
             "#bd3786"
            ],
            [
             0.5555555555555556,
             "#d8576b"
            ],
            [
             0.6666666666666666,
             "#ed7953"
            ],
            [
             0.7777777777777778,
             "#fb9f3a"
            ],
            [
             0.8888888888888888,
             "#fdca26"
            ],
            [
             1,
             "#f0f921"
            ]
           ]
          },
          "colorway": [
           "#636efa",
           "#EF553B",
           "#00cc96",
           "#ab63fa",
           "#FFA15A",
           "#19d3f3",
           "#FF6692",
           "#B6E880",
           "#FF97FF",
           "#FECB52"
          ],
          "font": {
           "color": "#2a3f5f"
          },
          "geo": {
           "bgcolor": "white",
           "lakecolor": "white",
           "landcolor": "white",
           "showlakes": true,
           "showland": true,
           "subunitcolor": "#C8D4E3"
          },
          "hoverlabel": {
           "align": "left"
          },
          "hovermode": "closest",
          "mapbox": {
           "style": "light"
          },
          "paper_bgcolor": "white",
          "plot_bgcolor": "white",
          "polar": {
           "angularaxis": {
            "gridcolor": "#EBF0F8",
            "linecolor": "#EBF0F8",
            "ticks": ""
           },
           "bgcolor": "white",
           "radialaxis": {
            "gridcolor": "#EBF0F8",
            "linecolor": "#EBF0F8",
            "ticks": ""
           }
          },
          "scene": {
           "xaxis": {
            "backgroundcolor": "white",
            "gridcolor": "#DFE8F3",
            "gridwidth": 2,
            "linecolor": "#EBF0F8",
            "showbackground": true,
            "ticks": "",
            "zerolinecolor": "#EBF0F8"
           },
           "yaxis": {
            "backgroundcolor": "white",
            "gridcolor": "#DFE8F3",
            "gridwidth": 2,
            "linecolor": "#EBF0F8",
            "showbackground": true,
            "ticks": "",
            "zerolinecolor": "#EBF0F8"
           },
           "zaxis": {
            "backgroundcolor": "white",
            "gridcolor": "#DFE8F3",
            "gridwidth": 2,
            "linecolor": "#EBF0F8",
            "showbackground": true,
            "ticks": "",
            "zerolinecolor": "#EBF0F8"
           }
          },
          "shapedefaults": {
           "line": {
            "color": "#2a3f5f"
           }
          },
          "ternary": {
           "aaxis": {
            "gridcolor": "#DFE8F3",
            "linecolor": "#A2B1C6",
            "ticks": ""
           },
           "baxis": {
            "gridcolor": "#DFE8F3",
            "linecolor": "#A2B1C6",
            "ticks": ""
           },
           "bgcolor": "white",
           "caxis": {
            "gridcolor": "#DFE8F3",
            "linecolor": "#A2B1C6",
            "ticks": ""
           }
          },
          "title": {
           "x": 0.05
          },
          "xaxis": {
           "automargin": true,
           "gridcolor": "#EBF0F8",
           "linecolor": "#EBF0F8",
           "ticks": "",
           "title": {
            "standoff": 15
           },
           "zerolinecolor": "#EBF0F8",
           "zerolinewidth": 2
          },
          "yaxis": {
           "automargin": true,
           "gridcolor": "#EBF0F8",
           "linecolor": "#EBF0F8",
           "ticks": "",
           "title": {
            "standoff": 15
           },
           "zerolinecolor": "#EBF0F8",
           "zerolinewidth": 2
          }
         }
        },
        "title": {
         "text": "Desperdício Médio por Tipo de Construção"
        },
        "xaxis": {
         "tickangle": 45,
         "title": {
          "text": "Tipo de Construção"
         }
        },
        "yaxis": {
         "title": {
          "text": "Desperdício Médio"
         }
        }
       }
      }
     },
     "metadata": {},
     "output_type": "display_data"
    }
   ],
   "source": [
    "import plotly.graph_objects as go\n",
    "\n",
    "# Calcular desperdício médio por tipo de construção\n",
    "desperdicio_por_construcao = df.groupby('Construction')['Rej_and_cut_Piece'].mean()\n",
    "\n",
    "# Criar o gráfico de barras com Plotly\n",
    "fig = go.Figure()\n",
    "\n",
    "# Adicionar dados ao gráfico\n",
    "fig.add_trace(go.Bar(\n",
    "    x=desperdicio_por_construcao.index,\n",
    "    y=desperdicio_por_construcao.values,\n",
    "    marker_color='skyblue'\n",
    "))\n",
    "\n",
    "# Personalizar layout\n",
    "fig.update_layout(\n",
    "    title='Desperdício Médio por Tipo de Construção',\n",
    "    xaxis_title='Tipo de Construção',\n",
    "    yaxis_title='Desperdício Médio',\n",
    "    xaxis=dict(tickangle=45),  # Rotacionar os rótulos do eixo X\n",
    "    template='plotly_white'\n",
    ")\n",
    "\n",
    "# Exibir o gráfico\n",
    "fig.show()"
   ]
  },
  {
   "cell_type": "markdown",
   "metadata": {},
   "source": [
    "## Desperdício por Tipo de Fio"
   ]
  },
  {
   "cell_type": "code",
   "execution_count": 84,
   "metadata": {},
   "outputs": [
    {
     "data": {
      "image/png": "[encoded data removed]",
      "text/plain": [
       "<Figure size 1200x800 with 2 Axes>"
      ]
     },
     "metadata": {},
     "output_type": "display_data"
    }
   ],
   "source": [
    "# Calcular desperdício médio por contagem de urdidura e trama\n",
    "desperdicio_por_fios = df.groupby(['warp_count', 'weft_count'])['Rej_and_cut_Piece'].mean().unstack()\n",
    "\n",
    "# Criar gráfico de calor (heatmap)\n",
    "plt.figure(figsize=(12, 8))\n",
    "sns.heatmap(desperdicio_por_fios, cmap='YlGnBu', annot=True, fmt='.2f', cbar_kws={'label': 'Desperdício Médio'})\n",
    "\n",
    "# Personalizar o gráfico\n",
    "plt.title('Desperdício Médio por Tipos de Fio')\n",
    "plt.xlabel('Contagem de weft_count')\n",
    "plt.ylabel('Contagem de warp_count')\n",
    "plt.tight_layout()\n",
    "\n",
    "# Exibir gráfico\n",
    "plt.show()"
   ]
  },
  {
   "cell_type": "markdown",
   "metadata": {},
   "source": [
    "## Desperdício e Densidade do Tecido (EPI e PPI)"
   ]
  },
  {
   "cell_type": "code",
   "execution_count": 85,
   "metadata": {},
   "outputs": [
    {
     "data": {
      "application/vnd.plotly.v1+json": {
       "config": {
        "plotlyServerURL": "https://plot.ly"
       },
       "data": [
        {
         "marker": {
          "color": [
           "skyblue",
           "lightgreen"
          ]
         },
         "text": [
          "-0.01",
          "0.01"
         ],
         "textposition": "outside",
         "type": "bar",
         "x": [
          "Correlação entre Desperdício e EPI",
          "Correlação entre Desperdício e PPI"
         ],
         "y": [
          -0.010609765300814006,
          0.01165567056945101
         ]
        }
       ],
       "layout": {
        "template": {
         "data": {
          "bar": [
           {
            "error_x": {
             "color": "#2a3f5f"
            },
            "error_y": {
             "color": "#2a3f5f"
            },
            "marker": {
             "line": {
              "color": "white",
              "width": 0.5
             },
             "pattern": {
              "fillmode": "overlay",
              "size": 10,
              "solidity": 0.2
             }
            },
            "type": "bar"
           }
          ],
          "barpolar": [
           {
            "marker": {
             "line": {
              "color": "white",
              "width": 0.5
             },
             "pattern": {
              "fillmode": "overlay",
              "size": 10,
              "solidity": 0.2
             }
            },
            "type": "barpolar"
           }
          ],
          "carpet": [
           {
            "aaxis": {
             "endlinecolor": "#2a3f5f",
             "gridcolor": "#C8D4E3",
             "linecolor": "#C8D4E3",
             "minorgridcolor": "#C8D4E3",
             "startlinecolor": "#2a3f5f"
            },
            "baxis": {
             "endlinecolor": "#2a3f5f",
             "gridcolor": "#C8D4E3",
             "linecolor": "#C8D4E3",
             "minorgridcolor": "#C8D4E3",
             "startlinecolor": "#2a3f5f"
            },
            "type": "carpet"
           }
          ],
          "choropleth": [
           {
            "colorbar": {
             "outlinewidth": 0,
             "ticks": ""
            },
            "type": "choropleth"
           }
          ],
          "contour": [
           {
            "colorbar": {
             "outlinewidth": 0,
             "ticks": ""
            },
            "colorscale": [
             [
              0,
              "#0d0887"
             ],
             [
              0.1111111111111111,
              "#46039f"
             ],
             [
              0.2222222222222222,
              "#7201a8"
             ],
             [
              0.3333333333333333,
              "#9c179e"
             ],
             [
              0.4444444444444444,
              "#bd3786"
             ],
             [
              0.5555555555555556,
              "#d8576b"
             ],
             [
              0.6666666666666666,
              "#ed7953"
             ],
             [
              0.7777777777777778,
              "#fb9f3a"
             ],
             [
              0.8888888888888888,
              "#fdca26"
             ],
             [
              1,
              "#f0f921"
             ]
            ],
            "type": "contour"
           }
          ],
          "contourcarpet": [
           {
            "colorbar": {
             "outlinewidth": 0,
             "ticks": ""
            },
            "type": "contourcarpet"
           }
          ],
          "heatmap": [
           {
            "colorbar": {
             "outlinewidth": 0,
             "ticks": ""
            },
            "colorscale": [
             [
              0,
              "#0d0887"
             ],
             [
              0.1111111111111111,
              "#46039f"
             ],
             [
              0.2222222222222222,
              "#7201a8"
             ],
             [
              0.3333333333333333,
              "#9c179e"
             ],
             [
              0.4444444444444444,
              "#bd3786"
             ],
             [
              0.5555555555555556,
              "#d8576b"
             ],
             [
              0.6666666666666666,
              "#ed7953"
             ],
             [
              0.7777777777777778,
              "#fb9f3a"
             ],
             [
              0.8888888888888888,
              "#fdca26"
             ],
             [
              1,
              "#f0f921"
             ]
            ],
            "type": "heatmap"
           }
          ],
          "heatmapgl": [
           {
            "colorbar": {
             "outlinewidth": 0,
             "ticks": ""
            },
            "colorscale": [
             [
              0,
              "#0d0887"
             ],
             [
              0.1111111111111111,
              "#46039f"
             ],
             [
              0.2222222222222222,
              "#7201a8"
             ],
             [
              0.3333333333333333,
              "#9c179e"
             ],
             [
              0.4444444444444444,
              "#bd3786"
             ],
             [
              0.5555555555555556,
              "#d8576b"
             ],
             [
              0.6666666666666666,
              "#ed7953"
             ],
             [
              0.7777777777777778,
              "#fb9f3a"
             ],
             [
              0.8888888888888888,
              "#fdca26"
             ],
             [
              1,
              "#f0f921"
             ]
            ],
            "type": "heatmapgl"
           }
          ],
          "histogram": [
           {
            "marker": {
             "pattern": {
              "fillmode": "overlay",
              "size": 10,
              "solidity": 0.2
             }
            },
            "type": "histogram"
           }
          ],
          "histogram2d": [
           {
            "colorbar": {
             "outlinewidth": 0,
             "ticks": ""
            },
            "colorscale": [
             [
              0,
              "#0d0887"
             ],
             [
              0.1111111111111111,
              "#46039f"
             ],
             [
              0.2222222222222222,
              "#7201a8"
             ],
             [
              0.3333333333333333,
              "#9c179e"
             ],
             [
              0.4444444444444444,
              "#bd3786"
             ],
             [
              0.5555555555555556,
              "#d8576b"
             ],
             [
              0.6666666666666666,
              "#ed7953"
             ],
             [
              0.7777777777777778,
              "#fb9f3a"
             ],
             [
              0.8888888888888888,
              "#fdca26"
             ],
             [
              1,
              "#f0f921"
             ]
            ],
            "type": "histogram2d"
           }
          ],
          "histogram2dcontour": [
           {
            "colorbar": {
             "outlinewidth": 0,
             "ticks": ""
            },
            "colorscale": [
             [
              0,
              "#0d0887"
             ],
             [
              0.1111111111111111,
              "#46039f"
             ],
             [
              0.2222222222222222,
              "#7201a8"
             ],
             [
              0.3333333333333333,
              "#9c179e"
             ],
             [
              0.4444444444444444,
              "#bd3786"
             ],
             [
              0.5555555555555556,
              "#d8576b"
             ],
             [
              0.6666666666666666,
              "#ed7953"
             ],
             [
              0.7777777777777778,
              "#fb9f3a"
             ],
             [
              0.8888888888888888,
              "#fdca26"
             ],
             [
              1,
              "#f0f921"
             ]
            ],
            "type": "histogram2dcontour"
           }
          ],
          "mesh3d": [
           {
            "colorbar": {
             "outlinewidth": 0,
             "ticks": ""
            },
            "type": "mesh3d"
           }
          ],
          "parcoords": [
           {
            "line": {
             "colorbar": {
              "outlinewidth": 0,
              "ticks": ""
             }
            },
            "type": "parcoords"
           }
          ],
          "pie": [
           {
            "automargin": true,
            "type": "pie"
           }
          ],
          "scatter": [
           {
            "fillpattern": {
             "fillmode": "overlay",
             "size": 10,
             "solidity": 0.2
            },
            "type": "scatter"
           }
          ],
          "scatter3d": [
           {
            "line": {
             "colorbar": {
              "outlinewidth": 0,
              "ticks": ""
             }
            },
            "marker": {
             "colorbar": {
              "outlinewidth": 0,
              "ticks": ""
             }
            },
            "type": "scatter3d"
           }
          ],
          "scattercarpet": [
           {
            "marker": {
             "colorbar": {
              "outlinewidth": 0,
              "ticks": ""
             }
            },
            "type": "scattercarpet"
           }
          ],
          "scattergeo": [
           {
            "marker": {
             "colorbar": {
              "outlinewidth": 0,
              "ticks": ""
             }
            },
            "type": "scattergeo"
           }
          ],
          "scattergl": [
           {
            "marker": {
             "colorbar": {
              "outlinewidth": 0,
              "ticks": ""
             }
            },
            "type": "scattergl"
           }
          ],
          "scattermapbox": [
           {
            "marker": {
             "colorbar": {
              "outlinewidth": 0,
              "ticks": ""
             }
            },
            "type": "scattermapbox"
           }
          ],
          "scatterpolar": [
           {
            "marker": {
             "colorbar": {
              "outlinewidth": 0,
              "ticks": ""
             }
            },
            "type": "scatterpolar"
           }
          ],
          "scatterpolargl": [
           {
            "marker": {
             "colorbar": {
              "outlinewidth": 0,
              "ticks": ""
             }
            },
            "type": "scatterpolargl"
           }
          ],
          "scatterternary": [
           {
            "marker": {
             "colorbar": {
              "outlinewidth": 0,
              "ticks": ""
             }
            },
            "type": "scatterternary"
           }
          ],
          "surface": [
           {
            "colorbar": {
             "outlinewidth": 0,
             "ticks": ""
            },
            "colorscale": [
             [
              0,
              "#0d0887"
             ],
             [
              0.1111111111111111,
              "#46039f"
             ],
             [
              0.2222222222222222,
              "#7201a8"
             ],
             [
              0.3333333333333333,
              "#9c179e"
             ],
             [
              0.4444444444444444,
              "#bd3786"
             ],
             [
              0.5555555555555556,
              "#d8576b"
             ],
             [
              0.6666666666666666,
              "#ed7953"
             ],
             [
              0.7777777777777778,
              "#fb9f3a"
             ],
             [
              0.8888888888888888,
              "#fdca26"
             ],
             [
              1,
              "#f0f921"
             ]
            ],
            "type": "surface"
           }
          ],
          "table": [
           {
            "cells": {
             "fill": {
              "color": "#EBF0F8"
             },
             "line": {
              "color": "white"
             }
            },
            "header": {
             "fill": {
              "color": "#C8D4E3"
             },
             "line": {
              "color": "white"
             }
            },
            "type": "table"
           }
          ]
         },
         "layout": {
          "annotationdefaults": {
           "arrowcolor": "#2a3f5f",
           "arrowhead": 0,
           "arrowwidth": 1
          },
          "autotypenumbers": "strict",
          "coloraxis": {
           "colorbar": {
            "outlinewidth": 0,
            "ticks": ""
           }
          },
          "colorscale": {
           "diverging": [
            [
             0,
             "#8e0152"
            ],
            [
             0.1,
             "#c51b7d"
            ],
            [
             0.2,
             "#de77ae"
            ],
            [
             0.3,
             "#f1b6da"
            ],
            [
             0.4,
             "#fde0ef"
            ],
            [
             0.5,
             "#f7f7f7"
            ],
            [
             0.6,
             "#e6f5d0"
            ],
            [
             0.7,
             "#b8e186"
            ],
            [
             0.8,
             "#7fbc41"
            ],
            [
             0.9,
             "#4d9221"
            ],
            [
             1,
             "#276419"
            ]
           ],
           "sequential": [
            [
             0,
             "#0d0887"
            ],
            [
             0.1111111111111111,
             "#46039f"
            ],
            [
             0.2222222222222222,
             "#7201a8"
            ],
            [
             0.3333333333333333,
             "#9c179e"
            ],
            [
             0.4444444444444444,
             "#bd3786"
            ],
            [
             0.5555555555555556,
             "#d8576b"
            ],
            [
             0.6666666666666666,
             "#ed7953"
            ],
            [
             0.7777777777777778,
             "#fb9f3a"
            ],
            [
             0.8888888888888888,
             "#fdca26"
            ],
            [
             1,
             "#f0f921"
            ]
           ],
           "sequentialminus": [
            [
             0,
             "#0d0887"
            ],
            [
             0.1111111111111111,
             "#46039f"
            ],
            [
             0.2222222222222222,
             "#7201a8"
            ],
            [
             0.3333333333333333,
             "#9c179e"
            ],
            [
             0.4444444444444444,
             "#bd3786"
            ],
            [
             0.5555555555555556,
             "#d8576b"
            ],
            [
             0.6666666666666666,
             "#ed7953"
            ],
            [
             0.7777777777777778,
             "#fb9f3a"
            ],
            [
             0.8888888888888888,
             "#fdca26"
            ],
            [
             1,
             "#f0f921"
            ]
           ]
          },
          "colorway": [
           "#636efa",
           "#EF553B",
           "#00cc96",
           "#ab63fa",
           "#FFA15A",
           "#19d3f3",
           "#FF6692",
           "#B6E880",
           "#FF97FF",
           "#FECB52"
          ],
          "font": {
           "color": "#2a3f5f"
          },
          "geo": {
           "bgcolor": "white",
           "lakecolor": "white",
           "landcolor": "white",
           "showlakes": true,
           "showland": true,
           "subunitcolor": "#C8D4E3"
          },
          "hoverlabel": {
           "align": "left"
          },
          "hovermode": "closest",
          "mapbox": {
           "style": "light"
          },
          "paper_bgcolor": "white",
          "plot_bgcolor": "white",
          "polar": {
           "angularaxis": {
            "gridcolor": "#EBF0F8",
            "linecolor": "#EBF0F8",
            "ticks": ""
           },
           "bgcolor": "white",
           "radialaxis": {
            "gridcolor": "#EBF0F8",
            "linecolor": "#EBF0F8",
            "ticks": ""
           }
          },
          "scene": {
           "xaxis": {
            "backgroundcolor": "white",
            "gridcolor": "#DFE8F3",
            "gridwidth": 2,
            "linecolor": "#EBF0F8",
            "showbackground": true,
            "ticks": "",
            "zerolinecolor": "#EBF0F8"
           },
           "yaxis": {
            "backgroundcolor": "white",
            "gridcolor": "#DFE8F3",
            "gridwidth": 2,
            "linecolor": "#EBF0F8",
            "showbackground": true,
            "ticks": "",
            "zerolinecolor": "#EBF0F8"
           },
           "zaxis": {
            "backgroundcolor": "white",
            "gridcolor": "#DFE8F3",
            "gridwidth": 2,
            "linecolor": "#EBF0F8",
            "showbackground": true,
            "ticks": "",
            "zerolinecolor": "#EBF0F8"
           }
          },
          "shapedefaults": {
           "line": {
            "color": "#2a3f5f"
           }
          },
          "ternary": {
           "aaxis": {
            "gridcolor": "#DFE8F3",
            "linecolor": "#A2B1C6",
            "ticks": ""
           },
           "baxis": {
            "gridcolor": "#DFE8F3",
            "linecolor": "#A2B1C6",
            "ticks": ""
           },
           "bgcolor": "white",
           "caxis": {
            "gridcolor": "#DFE8F3",
            "linecolor": "#A2B1C6",
            "ticks": ""
           }
          },
          "title": {
           "x": 0.05
          },
          "xaxis": {
           "automargin": true,
           "gridcolor": "#EBF0F8",
           "linecolor": "#EBF0F8",
           "ticks": "",
           "title": {
            "standoff": 15
           },
           "zerolinecolor": "#EBF0F8",
           "zerolinewidth": 2
          },
          "yaxis": {
           "automargin": true,
           "gridcolor": "#EBF0F8",
           "linecolor": "#EBF0F8",
           "ticks": "",
           "title": {
            "standoff": 15
           },
           "zerolinecolor": "#EBF0F8",
           "zerolinewidth": 2
          }
         }
        },
        "title": {
         "text": "Correlação entre Desperdício e Variáveis EPI/PPI"
        },
        "yaxis": {
         "title": {
          "text": "Valor da Correlação"
         }
        }
       }
      }
     },
     "metadata": {},
     "output_type": "display_data"
    }
   ],
   "source": [
    "import plotly.graph_objects as go\n",
    "\n",
    "# Cálculo das correlações\n",
    "correlacao_epi_desp = df['Rej_and_cut_Piece'].corr(df['epi'])\n",
    "correlacao_ppi_desp = df['Rej_and_cut_Piece'].corr(df['ppi'])\n",
    "\n",
    "# Dados para o gráfico\n",
    "correlacoes = [correlacao_epi_desp, correlacao_ppi_desp]\n",
    "labels = ['Correlação entre Desperdício e EPI', 'Correlação entre Desperdício e PPI']\n",
    "\n",
    "# Criar o gráfico de barras com Plotly\n",
    "fig = go.Figure()\n",
    "\n",
    "# Adicionar dados ao gráfico\n",
    "fig.add_trace(go.Bar(\n",
    "    x=labels,\n",
    "    y=correlacoes,\n",
    "    text=[f'{v:.2f}' for v in correlacoes],  # Texto acima das barras\n",
    "    textposition='outside',\n",
    "    marker_color=['skyblue', 'lightgreen']  # Cores das barras\n",
    "))\n",
    "\n",
    "# Personalizar layout\n",
    "fig.update_layout(\n",
    "    title='Correlação entre Desperdício e Variáveis EPI/PPI',\n",
    "    yaxis_title='Valor da Correlação',\n",
    "    template='plotly_white'\n",
    ")\n",
    "\n",
    "# Exibir o gráfico\n",
    "fig.show()\n"
   ]
  },
  {
   "cell_type": "markdown",
   "metadata": {},
   "source": [
    "## Impacto do Tecido Permitido (Fabric Allowance) no Desperdício"
   ]
  },
  {
   "cell_type": "code",
   "execution_count": 86,
   "metadata": {},
   "outputs": [
    {
     "name": "stderr",
     "output_type": "stream",
     "text": [
      "C:\\Users\\sarahbatista-ieg\\AppData\\Local\\Temp\\ipykernel_3452\\2165699937.py:5: FutureWarning:\n",
      "\n",
      "The default of observed=False is deprecated and will be changed to True in a future version of pandas. Pass observed=False to retain current behavior or observed=True to adopt the future default and silence this warning.\n",
      "\n"
     ]
    },
    {
     "data": {
      "image/png": "[encoded data removed]",
      "text/plain": [
       "<Figure size 1000x600 with 1 Axes>"
      ]
     },
     "metadata": {},
     "output_type": "display_data"
    }
   ],
   "source": [
    "import matplotlib.pyplot as plt\n",
    "\n",
    "# Calcular desperdício médio para diferentes faixas de Fabric Allowance\n",
    "df['Faixa_Allowance'] = pd.cut(df['Fabric_Allowance'], bins=[0, 5, 10, 15, 20])\n",
    "desperdicio_por_allowance = df.groupby('Faixa_Allowance')['Rej_and_cut_Piece'].mean()\n",
    "\n",
    "# Criar gráfico de barras\n",
    "plt.figure(figsize=(10, 6))\n",
    "desperdicio_por_allowance.plot(kind='bar', color='lightseagreen')\n",
    "\n",
    "# Adicionar título e rótulos\n",
    "plt.title('Desperdício Médio por Faixa de Tecido Permitido')\n",
    "plt.xlabel('Faixa de Faixa de Tecido Permitido')\n",
    "plt.ylabel('Desperdício Médio')\n",
    "\n",
    "# Exibir o valor médio de desperdício sobre cada barra\n",
    "for i, v in enumerate(desperdicio_por_allowance):\n",
    "    plt.text(i, v + 0.02, f'{v:.2f}', ha='center', va='bottom')\n",
    "\n",
    "# Ajustar o layout e exibir o gráfico\n",
    "plt.tight_layout()\n",
    "plt.show()"
   ]
  },
  {
   "cell_type": "markdown",
   "metadata": {},
   "source": [
    "## Desperdício por Tipo de Ordem de Produção"
   ]
  },
  {
   "cell_type": "code",
   "execution_count": 87,
   "metadata": {},
   "outputs": [
    {
     "data": {
      "application/vnd.plotly.v1+json": {
       "config": {
        "plotlyServerURL": "https://plot.ly"
       },
       "data": [
        {
         "marker": {
          "color": "lightcoral"
         },
         "text": [
          "21.70",
          "36.04",
          "4.88",
          "0.00",
          "11.60",
          "31.64",
          "0.00",
          "0.00",
          "18.25",
          "16.33",
          "0.00",
          "15.42",
          "4.75",
          "0.00",
          "14.90",
          "0.00",
          "0.00",
          "28.38",
          "25.38",
          "1.00",
          "11.50",
          "6.95",
          "0.00",
          "11.70",
          "0.00",
          "15.02",
          "15.72",
          "11.55",
          "2.96",
          "16.46",
          "9.32",
          "1.13",
          "19.70",
          "55.50",
          "2.81",
          "6.28",
          "6.54",
          "2.06",
          "1.02",
          "0.72",
          "9.33",
          "0.06",
          "7.11",
          "14.24",
          "4.49",
          "4.88",
          "5.02",
          "7.32",
          "2.91",
          "8.21",
          "5.35",
          "1.57",
          "7.61",
          "5.58",
          "3.36",
          "11.32",
          "0.52",
          "11.20",
          "4.56",
          "3.93",
          "1.67",
          "0.56",
          "4.60",
          "5.80",
          "5.80",
          "2.48",
          "6.04",
          "5.55",
          "8.54",
          "3.90",
          "10.52",
          "32.82",
          "9.48",
          "0.00",
          "5.77",
          "3.77",
          "9.16",
          "4.16",
          "11.95",
          "3.93",
          "6.15",
          "0.43",
          "4.27",
          "11.35",
          "10.02",
          "11.32",
          "16.98",
          "29.98",
          "8.38",
          "29.36",
          "3.67",
          "18.32",
          "7.56",
          "6.03",
          "5.35",
          "2.40",
          "17.71",
          "4.59",
          "7.60",
          "6.08",
          "2.27",
          "8.64",
          "9.90",
          "9.09",
          "22.39",
          "5.85",
          "9.76",
          "0.78",
          "5.39",
          "3.98",
          "0.89",
          "1.59",
          "4.83",
          "0.62",
          "10.39",
          "19.26",
          "3.09",
          "11.68",
          "15.21",
          "8.20",
          "9.37",
          "18.81",
          "0.00",
          "6.59",
          "24.27",
          "1.54",
          "0.37",
          "14.80",
          "4.89",
          "16.47",
          "16.83",
          "28.33",
          "11.24",
          "2.69",
          "13.23",
          "0.00",
          "13.49",
          "11.92",
          "13.67",
          "22.69",
          "0.22",
          "2.76",
          "3.27",
          "26.34",
          "4.46",
          "10.35",
          "29.42",
          "17.07",
          "3.64",
          "1.34",
          "7.25",
          "0.94",
          "6.45",
          "17.69",
          "25.77",
          "16.90",
          "2.11",
          "9.49",
          "16.07",
          "5.84",
          "6.83",
          "45.52",
          "6.51",
          "4.54",
          "9.69",
          "4.00",
          "23.56",
          "7.93",
          "8.03",
          "17.16",
          "10.72",
          "52.93",
          "13.23",
          "4.60",
          "7.66",
          "3.42",
          "3.67",
          "13.19",
          "0.15",
          "0.00",
          "33.83",
          "5.97",
          "4.95",
          "7.85",
          "8.83",
          "0.00",
          "12.61",
          "6.04",
          "11.49",
          "17.21",
          "7.70",
          "0.96",
          "8.36",
          "0.00",
          "9.82",
          "18.88",
          "2.11",
          "11.08",
          "4.62",
          "11.11",
          "18.85",
          "11.72",
          "20.69",
          "4.36",
          "25.80",
          "4.78",
          "10.83",
          "12.38",
          "10.41",
          "9.34",
          "9.20",
          "7.13",
          "15.12",
          "5.25",
          "5.49",
          "5.20",
          "13.55",
          "7.73",
          "7.28",
          "5.43",
          "5.85",
          "8.83",
          "7.25",
          "12.99",
          "4.09",
          "4.44",
          "2.56",
          "6.12",
          "0.00",
          "6.83",
          "3.68",
          "0.88",
          "15.87",
          "1.89",
          "3.07",
          "10.41",
          "0.91",
          "3.36",
          "0.00",
          "0.00",
          "3.20",
          "2.00",
          "3.94",
          "5.59"
         ],
         "textposition": "outside",
         "type": "bar",
         "x": [
          "12162",
          "12207",
          "12228",
          "12249",
          "12277",
          "12284",
          "12285",
          "12286",
          "12301",
          "12305",
          "12307",
          "12308",
          "12310",
          "12313",
          "12314",
          "12315",
          "12316",
          "12317",
          "12320",
          "12321",
          "12322",
          "12324",
          "12325",
          "12326",
          "12328",
          "12329",
          "12330",
          "12331",
          "13001",
          "13002",
          "13003",
          "13005",
          "13006",
          "13007",
          "13008",
          "13009",
          "13010",
          "13011",
          "13013",
          "13014",
          "13015",
          "13016",
          "13017",
          "13018",
          "13019",
          "13021",
          "13022",
          "13023",
          "13024",
          "13025",
          "13026",
          "13027",
          "13029",
          "13030",
          "13031",
          "13033",
          "13034",
          "13035",
          "13037",
          "13038",
          "13040",
          "13041",
          "13042",
          "13043",
          "13044",
          "13045",
          "13046",
          "13047",
          "13048",
          "13049",
          "13050",
          "13051",
          "13052",
          "13053",
          "13054",
          "13055",
          "13056",
          "13059",
          "13061",
          "13064",
          "13066",
          "13067",
          "13068",
          "13070",
          "13071",
          "13072",
          "13073",
          "13074",
          "13075",
          "13076",
          "13077",
          "13078",
          "13079",
          "13081",
          "13082",
          "13083",
          "13084",
          "13085",
          "13086",
          "13087",
          "13088",
          "13090",
          "13091",
          "13092",
          "13093",
          "13094",
          "13095",
          "13096",
          "13098",
          "13099",
          "13101",
          "13102",
          "13103",
          "13104",
          "13108",
          "13110",
          "13111",
          "13112",
          "13113",
          "13115",
          "13116",
          "13117",
          "13118",
          "13120",
          "13121",
          "13122",
          "13124",
          "13125",
          "13126",
          "13127",
          "13128",
          "13129",
          "13130",
          "13131",
          "13132",
          "13133",
          "13134",
          "13135",
          "13136",
          "13137",
          "13139",
          "13142",
          "13143",
          "13144",
          "13145",
          "13146",
          "13147",
          "13148",
          "13150",
          "13151",
          "13152",
          "13153",
          "13154",
          "13155",
          "13156",
          "13157",
          "13158",
          "13161",
          "13162",
          "13163",
          "13165",
          "13167",
          "13168",
          "13169",
          "13171",
          "13172",
          "13173",
          "13175",
          "13176",
          "13178",
          "13179",
          "13180",
          "13182",
          "13184",
          "13185",
          "13188",
          "13189",
          "13191",
          "13193",
          "13195",
          "13196",
          "13198",
          "13199",
          "13200",
          "13201",
          "13202",
          "13203",
          "13204",
          "13205",
          "13212",
          "13213",
          "13214",
          "13215",
          "13217",
          "13219",
          "13220",
          "13223",
          "13224",
          "13225",
          "13226",
          "13228",
          "13229",
          "13230",
          "13234",
          "13235",
          "13236",
          "13237",
          "13238",
          "13239",
          "13240",
          "13241",
          "13244",
          "13245",
          "13246",
          "13247",
          "13248",
          "13250",
          "13252",
          "13253",
          "13254",
          "13255",
          "13256",
          "13257",
          "13258",
          "13259",
          "13260",
          "13261",
          "13262",
          "13264",
          "13265",
          "13267",
          "13268",
          "13269",
          "13272",
          "13273",
          "13274",
          "13276",
          "13277",
          "13278",
          "13295",
          "13296",
          "13299",
          "13303",
          "94"
         ],
         "y": [
          21.702479338842974,
          36.03977272727273,
          4.875,
          0,
          11.6,
          31.637254901960784,
          0,
          0,
          18.25,
          16.333333333333332,
          0,
          15.419354838709678,
          4.75,
          0,
          14.900777047220561,
          0,
          0,
          28.384615384615383,
          25.375,
          1,
          11.5,
          6.952820512820513,
          0,
          11.69767441860465,
          0,
          15.015673981191222,
          15.71647509578544,
          11.551724137931034,
          2.9578544061302683,
          16.463819691577697,
          9.324125230202577,
          1.132183908045977,
          19.70294117647059,
          55.50346420323326,
          2.805755395683453,
          6.283422459893048,
          6.541353383458647,
          2.0555555555555554,
          1.0222222222222221,
          0.7202072538860104,
          9.326797385620916,
          0.06349206349206349,
          7.106719367588933,
          14.235221674876847,
          4.487179487179487,
          4.882703777335984,
          5.016339869281046,
          7.324770642201835,
          2.9063475546305932,
          8.21108179419525,
          5.354443309499489,
          1.5686274509803921,
          7.605633802816901,
          5.58273381294964,
          3.3592233009708736,
          11.316666666666666,
          0.515625,
          11.201262272089762,
          4.555555555555555,
          3.9294871794871793,
          1.6666666666666667,
          0.5575757575757576,
          4.599112426035503,
          5.802469135802469,
          5.801375752364574,
          2.4782608695652173,
          6.043010752688172,
          5.552941176470588,
          8.541666666666666,
          3.904564315352697,
          10.51740614334471,
          32.823008849557525,
          9.47887323943662,
          0,
          5.771428571428571,
          3.767123287671233,
          9.156122448979591,
          4.156028368794326,
          11.949416342412452,
          3.931114551083591,
          6.150537634408602,
          0.42592592592592593,
          4.269406392694064,
          11.347239263803681,
          10.01522170747849,
          11.319268635724331,
          16.98148148148148,
          29.982456140350877,
          8.382175226586103,
          29.36241610738255,
          3.674074074074074,
          18.32075471698113,
          7.558558558558558,
          6.03030303030303,
          5.352555701179554,
          2.395238095238095,
          17.71264367816092,
          4.592592592592593,
          7.604110813226095,
          6.0813492063492065,
          2.265682656826568,
          8.64300306435138,
          9.899577167019027,
          9.093333333333334,
          22.385953177257527,
          5.847560975609756,
          9.75886524822695,
          0.7761194029850746,
          5.391752577319588,
          3.9794871794871796,
          0.8888888888888888,
          1.588235294117647,
          4.832025117739404,
          0.625,
          10.388059701492537,
          19.25531914893617,
          3.0943396226415096,
          11.681506849315069,
          15.206944444444444,
          8.19626168224299,
          9.370748299319727,
          18.807692307692307,
          0,
          6.585365853658536,
          24.27294685990338,
          1.540983606557377,
          0.37037037037037035,
          14.804753820033955,
          4.885245901639344,
          16.466666666666665,
          16.82608695652174,
          28.333333333333332,
          11.23943661971831,
          2.6864864864864866,
          13.232217573221757,
          0,
          13.485812553740328,
          11.91593886462882,
          13.671002295332823,
          22.692307692307693,
          0.2222222222222222,
          2.756476683937824,
          3.2666666666666666,
          26.339352428393525,
          4.455696202531645,
          10.350877192982455,
          29.420183486238532,
          17.070525886669383,
          3.6419753086419755,
          1.34375,
          7.25,
          0.9354838709677419,
          6.447916666666667,
          17.692307692307693,
          25.77094972067039,
          16.9,
          2.111111111111111,
          9.486666666666666,
          16.066496163682864,
          5.839080459770115,
          6.833333333333333,
          45.516666666666666,
          6.509278350515464,
          4.536271808999082,
          9.688888888888888,
          4,
          23.56110684089162,
          7.933333333333334,
          8.025862068965518,
          17.163727959697734,
          10.720430107526882,
          52.931372549019606,
          13.230263157894736,
          4.60183066361556,
          7.661764705882353,
          3.4245283018867925,
          3.6709401709401708,
          13.190677966101696,
          0.14705882352941177,
          0,
          33.82575757575758,
          5.972222222222222,
          4.945945945945946,
          7.8472998137802605,
          8.827715355805243,
          0,
          12.613333333333333,
          6.036496350364963,
          11.486894923258559,
          17.205933682373473,
          7.696078431372549,
          0.9609375,
          8.364285714285714,
          0,
          9.822064056939501,
          18.87685290763968,
          2.109289617486339,
          11.076923076923077,
          4.616161616161616,
          11.11111111111111,
          18.85427807486631,
          11.721351025331725,
          20.689839572192515,
          4.36180904522613,
          25.795081967213115,
          4.775086505190312,
          10.831771321462043,
          12.380952380952381,
          10.414762741652021,
          9.33534743202417,
          9.197014925373134,
          7.132352941176471,
          15.119047619047619,
          5.249049429657795,
          5.488319517709118,
          5.204301075268817,
          13.54757281553398,
          7.730648206419131,
          7.27970297029703,
          5.42962962962963,
          5.851727982162765,
          8.83,
          7.25,
          12.992105263157894,
          4.094117647058823,
          4.441717791411043,
          2.5632183908045976,
          6.123809523809523,
          0,
          6.833333333333333,
          3.684824902723735,
          0.8823529411764706,
          15.868263473053892,
          1.8888888888888888,
          3.0701754385964914,
          10.409090909090908,
          0.90625,
          3.357142857142857,
          0,
          0,
          3.2,
          2,
          3.9375,
          5.589743589743589
         ]
        }
       ],
       "layout": {
        "template": {
         "data": {
          "bar": [
           {
            "error_x": {
             "color": "#2a3f5f"
            },
            "error_y": {
             "color": "#2a3f5f"
            },
            "marker": {
             "line": {
              "color": "white",
              "width": 0.5
             },
             "pattern": {
              "fillmode": "overlay",
              "size": 10,
              "solidity": 0.2
             }
            },
            "type": "bar"
           }
          ],
          "barpolar": [
           {
            "marker": {
             "line": {
              "color": "white",
              "width": 0.5
             },
             "pattern": {
              "fillmode": "overlay",
              "size": 10,
              "solidity": 0.2
             }
            },
            "type": "barpolar"
           }
          ],
          "carpet": [
           {
            "aaxis": {
             "endlinecolor": "#2a3f5f",
             "gridcolor": "#C8D4E3",
             "linecolor": "#C8D4E3",
             "minorgridcolor": "#C8D4E3",
             "startlinecolor": "#2a3f5f"
            },
            "baxis": {
             "endlinecolor": "#2a3f5f",
             "gridcolor": "#C8D4E3",
             "linecolor": "#C8D4E3",
             "minorgridcolor": "#C8D4E3",
             "startlinecolor": "#2a3f5f"
            },
            "type": "carpet"
           }
          ],
          "choropleth": [
           {
            "colorbar": {
             "outlinewidth": 0,
             "ticks": ""
            },
            "type": "choropleth"
           }
          ],
          "contour": [
           {
            "colorbar": {
             "outlinewidth": 0,
             "ticks": ""
            },
            "colorscale": [
             [
              0,
              "#0d0887"
             ],
             [
              0.1111111111111111,
              "#46039f"
             ],
             [
              0.2222222222222222,
              "#7201a8"
             ],
             [
              0.3333333333333333,
              "#9c179e"
             ],
             [
              0.4444444444444444,
              "#bd3786"
             ],
             [
              0.5555555555555556,
              "#d8576b"
             ],
             [
              0.6666666666666666,
              "#ed7953"
             ],
             [
              0.7777777777777778,
              "#fb9f3a"
             ],
             [
              0.8888888888888888,
              "#fdca26"
             ],
             [
              1,
              "#f0f921"
             ]
            ],
            "type": "contour"
           }
          ],
          "contourcarpet": [
           {
            "colorbar": {
             "outlinewidth": 0,
             "ticks": ""
            },
            "type": "contourcarpet"
           }
          ],
          "heatmap": [
           {
            "colorbar": {
             "outlinewidth": 0,
             "ticks": ""
            },
            "colorscale": [
             [
              0,
              "#0d0887"
             ],
             [
              0.1111111111111111,
              "#46039f"
             ],
             [
              0.2222222222222222,
              "#7201a8"
             ],
             [
              0.3333333333333333,
              "#9c179e"
             ],
             [
              0.4444444444444444,
              "#bd3786"
             ],
             [
              0.5555555555555556,
              "#d8576b"
             ],
             [
              0.6666666666666666,
              "#ed7953"
             ],
             [
              0.7777777777777778,
              "#fb9f3a"
             ],
             [
              0.8888888888888888,
              "#fdca26"
             ],
             [
              1,
              "#f0f921"
             ]
            ],
            "type": "heatmap"
           }
          ],
          "heatmapgl": [
           {
            "colorbar": {
             "outlinewidth": 0,
             "ticks": ""
            },
            "colorscale": [
             [
              0,
              "#0d0887"
             ],
             [
              0.1111111111111111,
              "#46039f"
             ],
             [
              0.2222222222222222,
              "#7201a8"
             ],
             [
              0.3333333333333333,
              "#9c179e"
             ],
             [
              0.4444444444444444,
              "#bd3786"
             ],
             [
              0.5555555555555556,
              "#d8576b"
             ],
             [
              0.6666666666666666,
              "#ed7953"
             ],
             [
              0.7777777777777778,
              "#fb9f3a"
             ],
             [
              0.8888888888888888,
              "#fdca26"
             ],
             [
              1,
              "#f0f921"
             ]
            ],
            "type": "heatmapgl"
           }
          ],
          "histogram": [
           {
            "marker": {
             "pattern": {
              "fillmode": "overlay",
              "size": 10,
              "solidity": 0.2
             }
            },
            "type": "histogram"
           }
          ],
          "histogram2d": [
           {
            "colorbar": {
             "outlinewidth": 0,
             "ticks": ""
            },
            "colorscale": [
             [
              0,
              "#0d0887"
             ],
             [
              0.1111111111111111,
              "#46039f"
             ],
             [
              0.2222222222222222,
              "#7201a8"
             ],
             [
              0.3333333333333333,
              "#9c179e"
             ],
             [
              0.4444444444444444,
              "#bd3786"
             ],
             [
              0.5555555555555556,
              "#d8576b"
             ],
             [
              0.6666666666666666,
              "#ed7953"
             ],
             [
              0.7777777777777778,
              "#fb9f3a"
             ],
             [
              0.8888888888888888,
              "#fdca26"
             ],
             [
              1,
              "#f0f921"
             ]
            ],
            "type": "histogram2d"
           }
          ],
          "histogram2dcontour": [
           {
            "colorbar": {
             "outlinewidth": 0,
             "ticks": ""
            },
            "colorscale": [
             [
              0,
              "#0d0887"
             ],
             [
              0.1111111111111111,
              "#46039f"
             ],
             [
              0.2222222222222222,
              "#7201a8"
             ],
             [
              0.3333333333333333,
              "#9c179e"
             ],
             [
              0.4444444444444444,
              "#bd3786"
             ],
             [
              0.5555555555555556,
              "#d8576b"
             ],
             [
              0.6666666666666666,
              "#ed7953"
             ],
             [
              0.7777777777777778,
              "#fb9f3a"
             ],
             [
              0.8888888888888888,
              "#fdca26"
             ],
             [
              1,
              "#f0f921"
             ]
            ],
            "type": "histogram2dcontour"
           }
          ],
          "mesh3d": [
           {
            "colorbar": {
             "outlinewidth": 0,
             "ticks": ""
            },
            "type": "mesh3d"
           }
          ],
          "parcoords": [
           {
            "line": {
             "colorbar": {
              "outlinewidth": 0,
              "ticks": ""
             }
            },
            "type": "parcoords"
           }
          ],
          "pie": [
           {
            "automargin": true,
            "type": "pie"
           }
          ],
          "scatter": [
           {
            "fillpattern": {
             "fillmode": "overlay",
             "size": 10,
             "solidity": 0.2
            },
            "type": "scatter"
           }
          ],
          "scatter3d": [
           {
            "line": {
             "colorbar": {
              "outlinewidth": 0,
              "ticks": ""
             }
            },
            "marker": {
             "colorbar": {
              "outlinewidth": 0,
              "ticks": ""
             }
            },
            "type": "scatter3d"
           }
          ],
          "scattercarpet": [
           {
            "marker": {
             "colorbar": {
              "outlinewidth": 0,
              "ticks": ""
             }
            },
            "type": "scattercarpet"
           }
          ],
          "scattergeo": [
           {
            "marker": {
             "colorbar": {
              "outlinewidth": 0,
              "ticks": ""
             }
            },
            "type": "scattergeo"
           }
          ],
          "scattergl": [
           {
            "marker": {
             "colorbar": {
              "outlinewidth": 0,
              "ticks": ""
             }
            },
            "type": "scattergl"
           }
          ],
          "scattermapbox": [
           {
            "marker": {
             "colorbar": {
              "outlinewidth": 0,
              "ticks": ""
             }
            },
            "type": "scattermapbox"
           }
          ],
          "scatterpolar": [
           {
            "marker": {
             "colorbar": {
              "outlinewidth": 0,
              "ticks": ""
             }
            },
            "type": "scatterpolar"
           }
          ],
          "scatterpolargl": [
           {
            "marker": {
             "colorbar": {
              "outlinewidth": 0,
              "ticks": ""
             }
            },
            "type": "scatterpolargl"
           }
          ],
          "scatterternary": [
           {
            "marker": {
             "colorbar": {
              "outlinewidth": 0,
              "ticks": ""
             }
            },
            "type": "scatterternary"
           }
          ],
          "surface": [
           {
            "colorbar": {
             "outlinewidth": 0,
             "ticks": ""
            },
            "colorscale": [
             [
              0,
              "#0d0887"
             ],
             [
              0.1111111111111111,
              "#46039f"
             ],
             [
              0.2222222222222222,
              "#7201a8"
             ],
             [
              0.3333333333333333,
              "#9c179e"
             ],
             [
              0.4444444444444444,
              "#bd3786"
             ],
             [
              0.5555555555555556,
              "#d8576b"
             ],
             [
              0.6666666666666666,
              "#ed7953"
             ],
             [
              0.7777777777777778,
              "#fb9f3a"
             ],
             [
              0.8888888888888888,
              "#fdca26"
             ],
             [
              1,
              "#f0f921"
             ]
            ],
            "type": "surface"
           }
          ],
          "table": [
           {
            "cells": {
             "fill": {
              "color": "#EBF0F8"
             },
             "line": {
              "color": "white"
             }
            },
            "header": {
             "fill": {
              "color": "#C8D4E3"
             },
             "line": {
              "color": "white"
             }
            },
            "type": "table"
           }
          ]
         },
         "layout": {
          "annotationdefaults": {
           "arrowcolor": "#2a3f5f",
           "arrowhead": 0,
           "arrowwidth": 1
          },
          "autotypenumbers": "strict",
          "coloraxis": {
           "colorbar": {
            "outlinewidth": 0,
            "ticks": ""
           }
          },
          "colorscale": {
           "diverging": [
            [
             0,
             "#8e0152"
            ],
            [
             0.1,
             "#c51b7d"
            ],
            [
             0.2,
             "#de77ae"
            ],
            [
             0.3,
             "#f1b6da"
            ],
            [
             0.4,
             "#fde0ef"
            ],
            [
             0.5,
             "#f7f7f7"
            ],
            [
             0.6,
             "#e6f5d0"
            ],
            [
             0.7,
             "#b8e186"
            ],
            [
             0.8,
             "#7fbc41"
            ],
            [
             0.9,
             "#4d9221"
            ],
            [
             1,
             "#276419"
            ]
           ],
           "sequential": [
            [
             0,
             "#0d0887"
            ],
            [
             0.1111111111111111,
             "#46039f"
            ],
            [
             0.2222222222222222,
             "#7201a8"
            ],
            [
             0.3333333333333333,
             "#9c179e"
            ],
            [
             0.4444444444444444,
             "#bd3786"
            ],
            [
             0.5555555555555556,
             "#d8576b"
            ],
            [
             0.6666666666666666,
             "#ed7953"
            ],
            [
             0.7777777777777778,
             "#fb9f3a"
            ],
            [
             0.8888888888888888,
             "#fdca26"
            ],
            [
             1,
             "#f0f921"
            ]
           ],
           "sequentialminus": [
            [
             0,
             "#0d0887"
            ],
            [
             0.1111111111111111,
             "#46039f"
            ],
            [
             0.2222222222222222,
             "#7201a8"
            ],
            [
             0.3333333333333333,
             "#9c179e"
            ],
            [
             0.4444444444444444,
             "#bd3786"
            ],
            [
             0.5555555555555556,
             "#d8576b"
            ],
            [
             0.6666666666666666,
             "#ed7953"
            ],
            [
             0.7777777777777778,
             "#fb9f3a"
            ],
            [
             0.8888888888888888,
             "#fdca26"
            ],
            [
             1,
             "#f0f921"
            ]
           ]
          },
          "colorway": [
           "#636efa",
           "#EF553B",
           "#00cc96",
           "#ab63fa",
           "#FFA15A",
           "#19d3f3",
           "#FF6692",
           "#B6E880",
           "#FF97FF",
           "#FECB52"
          ],
          "font": {
           "color": "#2a3f5f"
          },
          "geo": {
           "bgcolor": "white",
           "lakecolor": "white",
           "landcolor": "white",
           "showlakes": true,
           "showland": true,
           "subunitcolor": "#C8D4E3"
          },
          "hoverlabel": {
           "align": "left"
          },
          "hovermode": "closest",
          "mapbox": {
           "style": "light"
          },
          "paper_bgcolor": "white",
          "plot_bgcolor": "white",
          "polar": {
           "angularaxis": {
            "gridcolor": "#EBF0F8",
            "linecolor": "#EBF0F8",
            "ticks": ""
           },
           "bgcolor": "white",
           "radialaxis": {
            "gridcolor": "#EBF0F8",
            "linecolor": "#EBF0F8",
            "ticks": ""
           }
          },
          "scene": {
           "xaxis": {
            "backgroundcolor": "white",
            "gridcolor": "#DFE8F3",
            "gridwidth": 2,
            "linecolor": "#EBF0F8",
            "showbackground": true,
            "ticks": "",
            "zerolinecolor": "#EBF0F8"
           },
           "yaxis": {
            "backgroundcolor": "white",
            "gridcolor": "#DFE8F3",
            "gridwidth": 2,
            "linecolor": "#EBF0F8",
            "showbackground": true,
            "ticks": "",
            "zerolinecolor": "#EBF0F8"
           },
           "zaxis": {
            "backgroundcolor": "white",
            "gridcolor": "#DFE8F3",
            "gridwidth": 2,
            "linecolor": "#EBF0F8",
            "showbackground": true,
            "ticks": "",
            "zerolinecolor": "#EBF0F8"
           }
          },
          "shapedefaults": {
           "line": {
            "color": "#2a3f5f"
           }
          },
          "ternary": {
           "aaxis": {
            "gridcolor": "#DFE8F3",
            "linecolor": "#A2B1C6",
            "ticks": ""
           },
           "baxis": {
            "gridcolor": "#DFE8F3",
            "linecolor": "#A2B1C6",
            "ticks": ""
           },
           "bgcolor": "white",
           "caxis": {
            "gridcolor": "#DFE8F3",
            "linecolor": "#A2B1C6",
            "ticks": ""
           }
          },
          "title": {
           "x": 0.05
          },
          "xaxis": {
           "automargin": true,
           "gridcolor": "#EBF0F8",
           "linecolor": "#EBF0F8",
           "ticks": "",
           "title": {
            "standoff": 15
           },
           "zerolinecolor": "#EBF0F8",
           "zerolinewidth": 2
          },
          "yaxis": {
           "automargin": true,
           "gridcolor": "#EBF0F8",
           "linecolor": "#EBF0F8",
           "ticks": "",
           "title": {
            "standoff": 15
           },
           "zerolinecolor": "#EBF0F8",
           "zerolinewidth": 2
          }
         }
        },
        "title": {
         "text": "Desperdício Médio por Tipo de Pedido"
        },
        "xaxis": {
         "title": {
          "text": "Tipo de Pedido"
         },
         "type": "category"
        },
        "yaxis": {
         "title": {
          "text": "Desperdício Médio"
         }
        }
       }
      }
     },
     "metadata": {},
     "output_type": "display_data"
    }
   ],
   "source": [
    "df['Tipo_Pedido'] = df['ID'].str.extract(r'(\\d+)-\\d+')[0]  # Extraindo padrão\n",
    "desperdicio_por_tipo_pedido = df.groupby('Tipo_Pedido')['Rej_and_cut_Piece'].mean()\n",
    "\n",
    "# Criar o gráfico de barras com Plotly\n",
    "fig = go.Figure()\n",
    "\n",
    "# Adicionar dados ao gráfico\n",
    "fig.add_trace(go.Bar(\n",
    "    x=desperdicio_por_tipo_pedido.index,\n",
    "    y=desperdicio_por_tipo_pedido.values,\n",
    "    text=[f'{v:.2f}' for v in desperdicio_por_tipo_pedido.values],  # Texto acima das barras\n",
    "    textposition='outside',\n",
    "    marker_color='lightcoral'  # Cor das barras\n",
    "))\n",
    "\n",
    "# Personalizar layout\n",
    "fig.update_layout(\n",
    "    title='Desperdício Médio por Tipo de Pedido',\n",
    "    xaxis_title='Tipo de Pedido',\n",
    "    yaxis_title='Desperdício Médio',\n",
    "    xaxis=dict(type='category'),  # Certificar-se de que os rótulos estão categorizados\n",
    "    template='plotly_white'\n",
    ")\n",
    "\n",
    "# Exibir o gráfico\n",
    "fig.show()"
   ]
  }
 ],
 "metadata": {
  "kernelspec": {
   "display_name": "Python 3",
   "language": "python",
   "name": "python3"
  },
  "language_info": {
   "codemirror_mode": {
    "name": "ipython",
    "version": 3
   },
   "file_extension": ".py",
   "mimetype": "text/x-python",
   "name": "python",
   "nbconvert_exporter": "python",
   "pygments_lexer": "ipython3",
   "version": "3.12.2"
  }
 },
 "nbformat": 4,
 "nbformat_minor": 2
}
